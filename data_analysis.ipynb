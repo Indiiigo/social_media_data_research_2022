{
  "nbformat": 4,
  "nbformat_minor": 0,
  "metadata": {
    "kernelspec": {
      "display_name": "Python 3",
      "language": "python",
      "name": "python3"
    },
    "language_info": {
      "codemirror_mode": {
        "name": "ipython",
        "version": 3
      },
      "file_extension": ".py",
      "mimetype": "text/x-python",
      "name": "python",
      "nbconvert_exporter": "python",
      "pygments_lexer": "ipython3",
      "version": "3.6.9"
    },
    "toc": {
      "base_numbering": 1,
      "nav_menu": {},
      "number_sections": true,
      "sideBar": true,
      "skip_h1_title": false,
      "title_cell": "Table of Contents",
      "title_sidebar": "Contents",
      "toc_cell": false,
      "toc_position": {},
      "toc_section_display": true,
      "toc_window_display": false
    },
    "colab": {
      "provenance": []
    }
  },
  "cells": [
    {
      "cell_type": "markdown",
      "metadata": {
        "id": "29SwYw8JKCx-"
      },
      "source": [
        "# Data Cleaning and Augmentation\n",
        "\n",
        "The Topic Modeling part is adapted from https://github.com/susanli2016/Machine-Learning-with-Python/blob/master/topic_modeling_Gensim.ipynb"
      ]
    },
    {
      "cell_type": "markdown",
      "metadata": {
        "id": "o8txzgDQKCyM"
      },
      "source": [
        "## Data Cleaning"
      ]
    },
    {
      "cell_type": "markdown",
      "metadata": {
        "id": "AdPme3moKCyN"
      },
      "source": [
        "As we discussed in the slides, we will start with data preprocessing which is sometimes also call data cleaning. Depending on the type of data you have, you might have different workflows for data cleaning. But we will assume that at this step our data is available in a rectangular format which can loaded using dataframes. And we will primarily clean text data. What is meant by data cleaning?\n",
        "\n",
        "- remove social media specific language\n",
        "- remove stopwords\n",
        "- tokenization\n",
        "\n",
        "One can also include dropping or imputing missing values a part of data cleaning but we will not cover that here."
      ]
    },
    {
      "cell_type": "code",
      "metadata": {
        "id": "ycQQUsQlKCyP"
      },
      "source": [
        "import pandas as pd"
      ],
      "execution_count": null,
      "outputs": []
    },
    {
      "cell_type": "code",
      "metadata": {
        "colab": {
          "base_uri": "https://localhost:8080/",
          "height": 669
        },
        "id": "FIwPyhA4KCyS",
        "outputId": "d51edf8d-de55-459f-ba6f-6468a1450363"
      },
      "source": [
        "elections_df = pd.read_csv(\"elections.csv\") # we will use the same dataset we had shown in the previous notebook\n",
        "elections_df.head()"
      ],
      "execution_count": 5,
      "outputs": [
        {
          "output_type": "execute_result",
          "data": {
            "text/plain": [
              "  Post ID                                              Title  \\\n",
              "0  jdr9ej  Holy Hell - FBI agent investigating CHILD PORN...   \n",
              "1  jdracy  Biden Surrogate Arrested on Child Pornography ...   \n",
              "2  jdrdat  Trump dancing with me while I lip sync to Upri...   \n",
              "3  jdre50            He’s probably as high as ammo prices rn   \n",
              "4  jdrens  Just saw for myself a behind the scenes look a...   \n",
              "\n",
              "                                                 Url           Author  Score  \\\n",
              "0  https://pittsburgh.forums.rivals.com/threads/h...      TrumpFan-45      1   \n",
              "1  https://m.theepochtimes.com/biden-surrogate-ar...      TrumpFan-45      1   \n",
              "2                    https://v.redd.it/af5a6nz90yt51       leandroman      1   \n",
              "3                https://i.redd.it/d4fiwz661yt51.jpg  limacharlie1776      1   \n",
              "4                https://i.redd.it/oshjah3c1yt51.png      TrumpFan-45      1   \n",
              "\n",
              "          Publish Date  Total No. of Comments  \\\n",
              "0  2020-10-19 02:00:46                      8   \n",
              "1  2020-10-19 02:02:26                      3   \n",
              "2  2020-10-19 02:07:32                      2   \n",
              "3  2020-10-19 02:09:05                      2   \n",
              "4  2020-10-19 02:10:00                     28   \n",
              "\n",
              "                                           Permalink  \\\n",
              "0  /r/donaldtrump/comments/jdr9ej/holy_hell_fbi_a...   \n",
              "1  /r/donaldtrump/comments/jdracy/biden_surrogate...   \n",
              "2  /r/donaldtrump/comments/jdrdat/trump_dancing_w...   \n",
              "3  /r/donaldtrump/comments/jdre50/hes_probably_as...   \n",
              "4  /r/donaldtrump/comments/jdrens/just_saw_for_my...   \n",
              "\n",
              "                                          Flair    Subreddit  \n",
              "0  :snoo_scream: PANIC IN D.C. :snoo_surprised:  donaldtrump  \n",
              "1  :snoo_scream: PANIC IN D.C. :snoo_surprised:  donaldtrump  \n",
              "2                                           NaN  donaldtrump  \n",
              "3                                           NaN  donaldtrump  \n",
              "4  :snoo_scream: PANIC IN D.C. :snoo_surprised:  donaldtrump  "
            ],
            "text/html": [
              "\n",
              "  <div id=\"df-8c625da6-3896-425a-975a-6e44b1d9b87b\">\n",
              "    <div class=\"colab-df-container\">\n",
              "      <div>\n",
              "<style scoped>\n",
              "    .dataframe tbody tr th:only-of-type {\n",
              "        vertical-align: middle;\n",
              "    }\n",
              "\n",
              "    .dataframe tbody tr th {\n",
              "        vertical-align: top;\n",
              "    }\n",
              "\n",
              "    .dataframe thead th {\n",
              "        text-align: right;\n",
              "    }\n",
              "</style>\n",
              "<table border=\"1\" class=\"dataframe\">\n",
              "  <thead>\n",
              "    <tr style=\"text-align: right;\">\n",
              "      <th></th>\n",
              "      <th>Post ID</th>\n",
              "      <th>Title</th>\n",
              "      <th>Url</th>\n",
              "      <th>Author</th>\n",
              "      <th>Score</th>\n",
              "      <th>Publish Date</th>\n",
              "      <th>Total No. of Comments</th>\n",
              "      <th>Permalink</th>\n",
              "      <th>Flair</th>\n",
              "      <th>Subreddit</th>\n",
              "    </tr>\n",
              "  </thead>\n",
              "  <tbody>\n",
              "    <tr>\n",
              "      <th>0</th>\n",
              "      <td>jdr9ej</td>\n",
              "      <td>Holy Hell - FBI agent investigating CHILD PORN...</td>\n",
              "      <td>https://pittsburgh.forums.rivals.com/threads/h...</td>\n",
              "      <td>TrumpFan-45</td>\n",
              "      <td>1</td>\n",
              "      <td>2020-10-19 02:00:46</td>\n",
              "      <td>8</td>\n",
              "      <td>/r/donaldtrump/comments/jdr9ej/holy_hell_fbi_a...</td>\n",
              "      <td>:snoo_scream: PANIC IN D.C. :snoo_surprised:</td>\n",
              "      <td>donaldtrump</td>\n",
              "    </tr>\n",
              "    <tr>\n",
              "      <th>1</th>\n",
              "      <td>jdracy</td>\n",
              "      <td>Biden Surrogate Arrested on Child Pornography ...</td>\n",
              "      <td>https://m.theepochtimes.com/biden-surrogate-ar...</td>\n",
              "      <td>TrumpFan-45</td>\n",
              "      <td>1</td>\n",
              "      <td>2020-10-19 02:02:26</td>\n",
              "      <td>3</td>\n",
              "      <td>/r/donaldtrump/comments/jdracy/biden_surrogate...</td>\n",
              "      <td>:snoo_scream: PANIC IN D.C. :snoo_surprised:</td>\n",
              "      <td>donaldtrump</td>\n",
              "    </tr>\n",
              "    <tr>\n",
              "      <th>2</th>\n",
              "      <td>jdrdat</td>\n",
              "      <td>Trump dancing with me while I lip sync to Upri...</td>\n",
              "      <td>https://v.redd.it/af5a6nz90yt51</td>\n",
              "      <td>leandroman</td>\n",
              "      <td>1</td>\n",
              "      <td>2020-10-19 02:07:32</td>\n",
              "      <td>2</td>\n",
              "      <td>/r/donaldtrump/comments/jdrdat/trump_dancing_w...</td>\n",
              "      <td>NaN</td>\n",
              "      <td>donaldtrump</td>\n",
              "    </tr>\n",
              "    <tr>\n",
              "      <th>3</th>\n",
              "      <td>jdre50</td>\n",
              "      <td>He’s probably as high as ammo prices rn</td>\n",
              "      <td>https://i.redd.it/d4fiwz661yt51.jpg</td>\n",
              "      <td>limacharlie1776</td>\n",
              "      <td>1</td>\n",
              "      <td>2020-10-19 02:09:05</td>\n",
              "      <td>2</td>\n",
              "      <td>/r/donaldtrump/comments/jdre50/hes_probably_as...</td>\n",
              "      <td>NaN</td>\n",
              "      <td>donaldtrump</td>\n",
              "    </tr>\n",
              "    <tr>\n",
              "      <th>4</th>\n",
              "      <td>jdrens</td>\n",
              "      <td>Just saw for myself a behind the scenes look a...</td>\n",
              "      <td>https://i.redd.it/oshjah3c1yt51.png</td>\n",
              "      <td>TrumpFan-45</td>\n",
              "      <td>1</td>\n",
              "      <td>2020-10-19 02:10:00</td>\n",
              "      <td>28</td>\n",
              "      <td>/r/donaldtrump/comments/jdrens/just_saw_for_my...</td>\n",
              "      <td>:snoo_scream: PANIC IN D.C. :snoo_surprised:</td>\n",
              "      <td>donaldtrump</td>\n",
              "    </tr>\n",
              "  </tbody>\n",
              "</table>\n",
              "</div>\n",
              "      <button class=\"colab-df-convert\" onclick=\"convertToInteractive('df-8c625da6-3896-425a-975a-6e44b1d9b87b')\"\n",
              "              title=\"Convert this dataframe to an interactive table.\"\n",
              "              style=\"display:none;\">\n",
              "        \n",
              "  <svg xmlns=\"http://www.w3.org/2000/svg\" height=\"24px\"viewBox=\"0 0 24 24\"\n",
              "       width=\"24px\">\n",
              "    <path d=\"M0 0h24v24H0V0z\" fill=\"none\"/>\n",
              "    <path d=\"M18.56 5.44l.94 2.06.94-2.06 2.06-.94-2.06-.94-.94-2.06-.94 2.06-2.06.94zm-11 1L8.5 8.5l.94-2.06 2.06-.94-2.06-.94L8.5 2.5l-.94 2.06-2.06.94zm10 10l.94 2.06.94-2.06 2.06-.94-2.06-.94-.94-2.06-.94 2.06-2.06.94z\"/><path d=\"M17.41 7.96l-1.37-1.37c-.4-.4-.92-.59-1.43-.59-.52 0-1.04.2-1.43.59L10.3 9.45l-7.72 7.72c-.78.78-.78 2.05 0 2.83L4 21.41c.39.39.9.59 1.41.59.51 0 1.02-.2 1.41-.59l7.78-7.78 2.81-2.81c.8-.78.8-2.07 0-2.86zM5.41 20L4 18.59l7.72-7.72 1.47 1.35L5.41 20z\"/>\n",
              "  </svg>\n",
              "      </button>\n",
              "      \n",
              "  <style>\n",
              "    .colab-df-container {\n",
              "      display:flex;\n",
              "      flex-wrap:wrap;\n",
              "      gap: 12px;\n",
              "    }\n",
              "\n",
              "    .colab-df-convert {\n",
              "      background-color: #E8F0FE;\n",
              "      border: none;\n",
              "      border-radius: 50%;\n",
              "      cursor: pointer;\n",
              "      display: none;\n",
              "      fill: #1967D2;\n",
              "      height: 32px;\n",
              "      padding: 0 0 0 0;\n",
              "      width: 32px;\n",
              "    }\n",
              "\n",
              "    .colab-df-convert:hover {\n",
              "      background-color: #E2EBFA;\n",
              "      box-shadow: 0px 1px 2px rgba(60, 64, 67, 0.3), 0px 1px 3px 1px rgba(60, 64, 67, 0.15);\n",
              "      fill: #174EA6;\n",
              "    }\n",
              "\n",
              "    [theme=dark] .colab-df-convert {\n",
              "      background-color: #3B4455;\n",
              "      fill: #D2E3FC;\n",
              "    }\n",
              "\n",
              "    [theme=dark] .colab-df-convert:hover {\n",
              "      background-color: #434B5C;\n",
              "      box-shadow: 0px 1px 3px 1px rgba(0, 0, 0, 0.15);\n",
              "      filter: drop-shadow(0px 1px 2px rgba(0, 0, 0, 0.3));\n",
              "      fill: #FFFFFF;\n",
              "    }\n",
              "  </style>\n",
              "\n",
              "      <script>\n",
              "        const buttonEl =\n",
              "          document.querySelector('#df-8c625da6-3896-425a-975a-6e44b1d9b87b button.colab-df-convert');\n",
              "        buttonEl.style.display =\n",
              "          google.colab.kernel.accessAllowed ? 'block' : 'none';\n",
              "\n",
              "        async function convertToInteractive(key) {\n",
              "          const element = document.querySelector('#df-8c625da6-3896-425a-975a-6e44b1d9b87b');\n",
              "          const dataTable =\n",
              "            await google.colab.kernel.invokeFunction('convertToInteractive',\n",
              "                                                     [key], {});\n",
              "          if (!dataTable) return;\n",
              "\n",
              "          const docLinkHtml = 'Like what you see? Visit the ' +\n",
              "            '<a target=\"_blank\" href=https://colab.research.google.com/notebooks/data_table.ipynb>data table notebook</a>'\n",
              "            + ' to learn more about interactive tables.';\n",
              "          element.innerHTML = '';\n",
              "          dataTable['output_type'] = 'display_data';\n",
              "          await google.colab.output.renderOutput(dataTable, element);\n",
              "          const docLink = document.createElement('div');\n",
              "          docLink.innerHTML = docLinkHtml;\n",
              "          element.appendChild(docLink);\n",
              "        }\n",
              "      </script>\n",
              "    </div>\n",
              "  </div>\n",
              "  "
            ]
          },
          "metadata": {},
          "execution_count": 5
        }
      ]
    },
    {
      "cell_type": "code",
      "metadata": {
        "id": "k8Z0fG8jKCyU"
      },
      "source": [
        "import spacy\n",
        "# !python -m spacy download en\n",
        "# spacy.load('en')\n",
        "from spacy.lang.en import English\n",
        "parser = English()\n",
        "\n",
        "def tokenize(text):\n",
        "    lda_tokens = []\n",
        "    tokens = parser(text)\n",
        "    for token in tokens:\n",
        "        if token.orth_.isspace():\n",
        "            continue\n",
        "        elif token.like_url:\n",
        "            lda_tokens.append('URL')\n",
        "        elif token.orth_.startswith('@'):\n",
        "            lda_tokens.append('SCREEN_NAME')\n",
        "        else:\n",
        "            lda_tokens.append(token.lower_)\n",
        "    return lda_tokens"
      ],
      "execution_count": 6,
      "outputs": []
    },
    {
      "cell_type": "markdown",
      "metadata": {
        "id": "LX4SjimUKCyV"
      },
      "source": [
        "Let's try an example of tokenization with the function we just defined."
      ]
    },
    {
      "cell_type": "code",
      "metadata": {
        "colab": {
          "base_uri": "https://localhost:8080/",
          "height": 35
        },
        "id": "IUbXKjlfKCyX",
        "outputId": "0152d798-39de-49b1-b997-dc73d6210451"
      },
      "source": [
        "text_example = elections_df['Title'][0]\n",
        "text_example"
      ],
      "execution_count": 7,
      "outputs": [
        {
          "output_type": "execute_result",
          "data": {
            "text/plain": [
              "\"Holy Hell - FBI agent investigating CHILD PORN has subpoenaed Hunter Biden's laptop\""
            ],
            "application/vnd.google.colaboratory.intrinsic+json": {
              "type": "string"
            }
          },
          "metadata": {},
          "execution_count": 7
        }
      ]
    },
    {
      "cell_type": "code",
      "metadata": {
        "colab": {
          "base_uri": "https://localhost:8080/"
        },
        "id": "lCeWgYHXKCyZ",
        "outputId": "65569c33-71e1-4fa9-f9c7-59cfa9acd480"
      },
      "source": [
        "tokenize(text_example)"
      ],
      "execution_count": 8,
      "outputs": [
        {
          "output_type": "execute_result",
          "data": {
            "text/plain": [
              "['holy',\n",
              " 'hell',\n",
              " '-',\n",
              " 'fbi',\n",
              " 'agent',\n",
              " 'investigating',\n",
              " 'child',\n",
              " 'porn',\n",
              " 'has',\n",
              " 'subpoenaed',\n",
              " 'hunter',\n",
              " 'biden',\n",
              " \"'s\",\n",
              " 'laptop']"
            ]
          },
          "metadata": {},
          "execution_count": 8
        }
      ]
    },
    {
      "cell_type": "code",
      "metadata": {
        "colab": {
          "base_uri": "https://localhost:8080/"
        },
        "id": "OUy9JrIsKCyb",
        "outputId": "fb5e1795-39b6-4874-ca7f-56ef7f09b0f6"
      },
      "source": [
        "import nltk\n",
        "nltk.download('wordnet')"
      ],
      "execution_count": 9,
      "outputs": [
        {
          "output_type": "stream",
          "name": "stderr",
          "text": [
            "[nltk_data] Downloading package wordnet to /root/nltk_data...\n"
          ]
        },
        {
          "output_type": "execute_result",
          "data": {
            "text/plain": [
              "True"
            ]
          },
          "metadata": {},
          "execution_count": 9
        }
      ]
    },
    {
      "cell_type": "code",
      "metadata": {
        "id": "I9dgYEHQKCyc"
      },
      "source": [
        "from nltk.corpus import wordnet as wn\n",
        "def get_lemma(word):\n",
        "    lemma = wn.morphy(word)\n",
        "    if lemma is None:\n",
        "        return word\n",
        "    else:\n",
        "        return lemma\n",
        "    \n",
        "from nltk.stem.wordnet import WordNetLemmatizer\n",
        "def get_lemma2(word):\n",
        "    return WordNetLemmatizer().lemmatize(word)"
      ],
      "execution_count": 10,
      "outputs": []
    },
    {
      "cell_type": "code",
      "source": [
        "nltk.download('omw-1.4')"
      ],
      "metadata": {
        "colab": {
          "base_uri": "https://localhost:8080/"
        },
        "id": "imlON3oCfJ3P",
        "outputId": "8f12a0de-8bce-4dcf-986e-2e50a5454af2"
      },
      "execution_count": 13,
      "outputs": [
        {
          "output_type": "stream",
          "name": "stderr",
          "text": [
            "[nltk_data] Downloading package omw-1.4 to /root/nltk_data...\n"
          ]
        },
        {
          "output_type": "execute_result",
          "data": {
            "text/plain": [
              "True"
            ]
          },
          "metadata": {},
          "execution_count": 13
        }
      ]
    },
    {
      "cell_type": "code",
      "metadata": {
        "colab": {
          "base_uri": "https://localhost:8080/"
        },
        "id": "JkeLGNjHKCyc",
        "outputId": "b29d7f11-9e52-4d24-9e0a-aabdfe8e5240"
      },
      "source": [
        "for w in ['dogs', 'ran', 'discouraged']:\n",
        "    print(w, get_lemma(w), get_lemma2(w))"
      ],
      "execution_count": 14,
      "outputs": [
        {
          "output_type": "stream",
          "name": "stdout",
          "text": [
            "dogs dog dog\n",
            "ran run ran\n",
            "discouraged discourage discouraged\n"
          ]
        }
      ]
    },
    {
      "cell_type": "code",
      "metadata": {
        "colab": {
          "base_uri": "https://localhost:8080/"
        },
        "id": "7Dj5FL9OKCyd",
        "outputId": "229e6227-3779-476a-abde-92c110e626c8"
      },
      "source": [
        "for word in tokenize(text_example):\n",
        "    print(word, get_lemma(word))"
      ],
      "execution_count": 15,
      "outputs": [
        {
          "output_type": "stream",
          "name": "stdout",
          "text": [
            "holy holy\n",
            "hell hell\n",
            "- -\n",
            "fbi fbi\n",
            "agent agent\n",
            "investigating investigating\n",
            "child child\n",
            "porn porn\n",
            "has ha\n",
            "subpoenaed subpoena\n",
            "hunter hunter\n",
            "biden biden\n",
            "'s 's\n",
            "laptop laptop\n"
          ]
        }
      ]
    },
    {
      "cell_type": "code",
      "metadata": {
        "colab": {
          "base_uri": "https://localhost:8080/"
        },
        "id": "1P5C6xrlKCye",
        "outputId": "46a91ce5-09e8-409a-a0d3-e7fb74d75129"
      },
      "source": [
        "nltk.download('stopwords')\n",
        "en_stop = set(nltk.corpus.stopwords.words('english'))"
      ],
      "execution_count": 16,
      "outputs": [
        {
          "output_type": "stream",
          "name": "stderr",
          "text": [
            "[nltk_data] Downloading package stopwords to /root/nltk_data...\n",
            "[nltk_data]   Unzipping corpora/stopwords.zip.\n"
          ]
        }
      ]
    },
    {
      "cell_type": "code",
      "metadata": {
        "id": "kgCKMyMwKCyf"
      },
      "source": [
        "def get_tokens(text):\n",
        "    tokens = tokenize(text)\n",
        "    tokens = [token for token in tokens if len(token) > 4]\n",
        "    tokens = [token for token in tokens if token not in en_stop]\n",
        "    tokens = [get_lemma(token) for token in tokens]\n",
        "    return tokens"
      ],
      "execution_count": 17,
      "outputs": []
    },
    {
      "cell_type": "code",
      "metadata": {
        "colab": {
          "base_uri": "https://localhost:8080/"
        },
        "id": "wr94C8cVKCyg",
        "outputId": "e4411987-a5fa-4323-96d7-d648c5689bcd"
      },
      "source": [
        "get_tokens(text_example)"
      ],
      "execution_count": 18,
      "outputs": [
        {
          "output_type": "execute_result",
          "data": {
            "text/plain": [
              "['agent', 'investigating', 'child', 'subpoena', 'hunter', 'biden', 'laptop']"
            ]
          },
          "metadata": {},
          "execution_count": 18
        }
      ]
    },
    {
      "cell_type": "markdown",
      "metadata": {
        "id": "JlkFmb2WKCyh"
      },
      "source": [
        "choice of package can affect the analysis: something to keep in mind when reading and writing the papers\n",
        "\n",
        "- where small issues and discrepencies can happen\n",
        "- sentiment analysis has many intemediate steps that can affect the final estimate"
      ]
    },
    {
      "cell_type": "markdown",
      "metadata": {
        "id": "Mhz1B6cOKCyi"
      },
      "source": [
        "## Data Augmentation"
      ]
    },
    {
      "cell_type": "markdown",
      "metadata": {
        "id": "N11JkQ0_KCyj"
      },
      "source": [
        "Now that we have collected, stored and cleaned data, we can move on to enriching it. We will cover the following data enrichment processes:\n",
        "    - sentiment analysis\n",
        "    - topic modeling\n",
        "    - OPTIONAL:  Toxicity API"
      ]
    },
    {
      "cell_type": "markdown",
      "metadata": {
        "id": "g5KJl1lHKCyj"
      },
      "source": [
        "### Sentiment Analysis"
      ]
    },
    {
      "cell_type": "markdown",
      "metadata": {
        "id": "ivHn3YzJKCyk"
      },
      "source": [
        "There are several options for sentiment analysis. Today we will use VADER sentiment: https://github.com/cjhutto/vaderSentiment which stands for Valence Aware Dictionary and sEntiment Reasoner. It is a lexicon and rule-based sentiment analysis tool that is specifically attuned to sentiments expressed in social media. "
      ]
    },
    {
      "cell_type": "code",
      "metadata": {
        "colab": {
          "base_uri": "https://localhost:8080/"
        },
        "id": "E0pyQpEXKCyk",
        "outputId": "e555a3f5-2b19-4a22-bb57-7cf2ffb670fa"
      },
      "source": [
        "import nltk # VADER is a part of the popular NLP toolkit called nltk\n",
        "nltk.download('vader_lexicon')\n",
        "from nltk.sentiment.vader import SentimentIntensityAnalyzer\n",
        "sid = SentimentIntensityAnalyzer()"
      ],
      "execution_count": 19,
      "outputs": [
        {
          "output_type": "stream",
          "name": "stderr",
          "text": [
            "[nltk_data] Downloading package vader_lexicon to /root/nltk_data...\n"
          ]
        }
      ]
    },
    {
      "cell_type": "code",
      "metadata": {
        "colab": {
          "base_uri": "https://localhost:8080/",
          "height": 669
        },
        "id": "No2MnZ7qKCyl",
        "outputId": "157808ab-c228-41aa-89a4-2642553f2958"
      },
      "source": [
        "elections_df['Sentiment'] = [sid.polarity_scores(i) for i in elections_df['Title']]\n",
        "elections_df['Sentiment'] = [sid.polarity_scores(i)['compound'] for i in elections_df['Title']]\n",
        "elections_df.head()"
      ],
      "execution_count": 20,
      "outputs": [
        {
          "output_type": "execute_result",
          "data": {
            "text/plain": [
              "  Post ID                                              Title  \\\n",
              "0  jdr9ej  Holy Hell - FBI agent investigating CHILD PORN...   \n",
              "1  jdracy  Biden Surrogate Arrested on Child Pornography ...   \n",
              "2  jdrdat  Trump dancing with me while I lip sync to Upri...   \n",
              "3  jdre50            He’s probably as high as ammo prices rn   \n",
              "4  jdrens  Just saw for myself a behind the scenes look a...   \n",
              "\n",
              "                                                 Url           Author  Score  \\\n",
              "0  https://pittsburgh.forums.rivals.com/threads/h...      TrumpFan-45      1   \n",
              "1  https://m.theepochtimes.com/biden-surrogate-ar...      TrumpFan-45      1   \n",
              "2                    https://v.redd.it/af5a6nz90yt51       leandroman      1   \n",
              "3                https://i.redd.it/d4fiwz661yt51.jpg  limacharlie1776      1   \n",
              "4                https://i.redd.it/oshjah3c1yt51.png      TrumpFan-45      1   \n",
              "\n",
              "          Publish Date  Total No. of Comments  \\\n",
              "0  2020-10-19 02:00:46                      8   \n",
              "1  2020-10-19 02:02:26                      3   \n",
              "2  2020-10-19 02:07:32                      2   \n",
              "3  2020-10-19 02:09:05                      2   \n",
              "4  2020-10-19 02:10:00                     28   \n",
              "\n",
              "                                           Permalink  \\\n",
              "0  /r/donaldtrump/comments/jdr9ej/holy_hell_fbi_a...   \n",
              "1  /r/donaldtrump/comments/jdracy/biden_surrogate...   \n",
              "2  /r/donaldtrump/comments/jdrdat/trump_dancing_w...   \n",
              "3  /r/donaldtrump/comments/jdre50/hes_probably_as...   \n",
              "4  /r/donaldtrump/comments/jdrens/just_saw_for_my...   \n",
              "\n",
              "                                          Flair    Subreddit  Sentiment  \n",
              "0  :snoo_scream: PANIC IN D.C. :snoo_surprised:  donaldtrump    -0.6808  \n",
              "1  :snoo_scream: PANIC IN D.C. :snoo_surprised:  donaldtrump    -0.4767  \n",
              "2                                           NaN  donaldtrump     0.0000  \n",
              "3                                           NaN  donaldtrump     0.0000  \n",
              "4  :snoo_scream: PANIC IN D.C. :snoo_surprised:  donaldtrump    -0.1027  "
            ],
            "text/html": [
              "\n",
              "  <div id=\"df-defe5321-1866-43d0-8ed3-950a526f0dc7\">\n",
              "    <div class=\"colab-df-container\">\n",
              "      <div>\n",
              "<style scoped>\n",
              "    .dataframe tbody tr th:only-of-type {\n",
              "        vertical-align: middle;\n",
              "    }\n",
              "\n",
              "    .dataframe tbody tr th {\n",
              "        vertical-align: top;\n",
              "    }\n",
              "\n",
              "    .dataframe thead th {\n",
              "        text-align: right;\n",
              "    }\n",
              "</style>\n",
              "<table border=\"1\" class=\"dataframe\">\n",
              "  <thead>\n",
              "    <tr style=\"text-align: right;\">\n",
              "      <th></th>\n",
              "      <th>Post ID</th>\n",
              "      <th>Title</th>\n",
              "      <th>Url</th>\n",
              "      <th>Author</th>\n",
              "      <th>Score</th>\n",
              "      <th>Publish Date</th>\n",
              "      <th>Total No. of Comments</th>\n",
              "      <th>Permalink</th>\n",
              "      <th>Flair</th>\n",
              "      <th>Subreddit</th>\n",
              "      <th>Sentiment</th>\n",
              "    </tr>\n",
              "  </thead>\n",
              "  <tbody>\n",
              "    <tr>\n",
              "      <th>0</th>\n",
              "      <td>jdr9ej</td>\n",
              "      <td>Holy Hell - FBI agent investigating CHILD PORN...</td>\n",
              "      <td>https://pittsburgh.forums.rivals.com/threads/h...</td>\n",
              "      <td>TrumpFan-45</td>\n",
              "      <td>1</td>\n",
              "      <td>2020-10-19 02:00:46</td>\n",
              "      <td>8</td>\n",
              "      <td>/r/donaldtrump/comments/jdr9ej/holy_hell_fbi_a...</td>\n",
              "      <td>:snoo_scream: PANIC IN D.C. :snoo_surprised:</td>\n",
              "      <td>donaldtrump</td>\n",
              "      <td>-0.6808</td>\n",
              "    </tr>\n",
              "    <tr>\n",
              "      <th>1</th>\n",
              "      <td>jdracy</td>\n",
              "      <td>Biden Surrogate Arrested on Child Pornography ...</td>\n",
              "      <td>https://m.theepochtimes.com/biden-surrogate-ar...</td>\n",
              "      <td>TrumpFan-45</td>\n",
              "      <td>1</td>\n",
              "      <td>2020-10-19 02:02:26</td>\n",
              "      <td>3</td>\n",
              "      <td>/r/donaldtrump/comments/jdracy/biden_surrogate...</td>\n",
              "      <td>:snoo_scream: PANIC IN D.C. :snoo_surprised:</td>\n",
              "      <td>donaldtrump</td>\n",
              "      <td>-0.4767</td>\n",
              "    </tr>\n",
              "    <tr>\n",
              "      <th>2</th>\n",
              "      <td>jdrdat</td>\n",
              "      <td>Trump dancing with me while I lip sync to Upri...</td>\n",
              "      <td>https://v.redd.it/af5a6nz90yt51</td>\n",
              "      <td>leandroman</td>\n",
              "      <td>1</td>\n",
              "      <td>2020-10-19 02:07:32</td>\n",
              "      <td>2</td>\n",
              "      <td>/r/donaldtrump/comments/jdrdat/trump_dancing_w...</td>\n",
              "      <td>NaN</td>\n",
              "      <td>donaldtrump</td>\n",
              "      <td>0.0000</td>\n",
              "    </tr>\n",
              "    <tr>\n",
              "      <th>3</th>\n",
              "      <td>jdre50</td>\n",
              "      <td>He’s probably as high as ammo prices rn</td>\n",
              "      <td>https://i.redd.it/d4fiwz661yt51.jpg</td>\n",
              "      <td>limacharlie1776</td>\n",
              "      <td>1</td>\n",
              "      <td>2020-10-19 02:09:05</td>\n",
              "      <td>2</td>\n",
              "      <td>/r/donaldtrump/comments/jdre50/hes_probably_as...</td>\n",
              "      <td>NaN</td>\n",
              "      <td>donaldtrump</td>\n",
              "      <td>0.0000</td>\n",
              "    </tr>\n",
              "    <tr>\n",
              "      <th>4</th>\n",
              "      <td>jdrens</td>\n",
              "      <td>Just saw for myself a behind the scenes look a...</td>\n",
              "      <td>https://i.redd.it/oshjah3c1yt51.png</td>\n",
              "      <td>TrumpFan-45</td>\n",
              "      <td>1</td>\n",
              "      <td>2020-10-19 02:10:00</td>\n",
              "      <td>28</td>\n",
              "      <td>/r/donaldtrump/comments/jdrens/just_saw_for_my...</td>\n",
              "      <td>:snoo_scream: PANIC IN D.C. :snoo_surprised:</td>\n",
              "      <td>donaldtrump</td>\n",
              "      <td>-0.1027</td>\n",
              "    </tr>\n",
              "  </tbody>\n",
              "</table>\n",
              "</div>\n",
              "      <button class=\"colab-df-convert\" onclick=\"convertToInteractive('df-defe5321-1866-43d0-8ed3-950a526f0dc7')\"\n",
              "              title=\"Convert this dataframe to an interactive table.\"\n",
              "              style=\"display:none;\">\n",
              "        \n",
              "  <svg xmlns=\"http://www.w3.org/2000/svg\" height=\"24px\"viewBox=\"0 0 24 24\"\n",
              "       width=\"24px\">\n",
              "    <path d=\"M0 0h24v24H0V0z\" fill=\"none\"/>\n",
              "    <path d=\"M18.56 5.44l.94 2.06.94-2.06 2.06-.94-2.06-.94-.94-2.06-.94 2.06-2.06.94zm-11 1L8.5 8.5l.94-2.06 2.06-.94-2.06-.94L8.5 2.5l-.94 2.06-2.06.94zm10 10l.94 2.06.94-2.06 2.06-.94-2.06-.94-.94-2.06-.94 2.06-2.06.94z\"/><path d=\"M17.41 7.96l-1.37-1.37c-.4-.4-.92-.59-1.43-.59-.52 0-1.04.2-1.43.59L10.3 9.45l-7.72 7.72c-.78.78-.78 2.05 0 2.83L4 21.41c.39.39.9.59 1.41.59.51 0 1.02-.2 1.41-.59l7.78-7.78 2.81-2.81c.8-.78.8-2.07 0-2.86zM5.41 20L4 18.59l7.72-7.72 1.47 1.35L5.41 20z\"/>\n",
              "  </svg>\n",
              "      </button>\n",
              "      \n",
              "  <style>\n",
              "    .colab-df-container {\n",
              "      display:flex;\n",
              "      flex-wrap:wrap;\n",
              "      gap: 12px;\n",
              "    }\n",
              "\n",
              "    .colab-df-convert {\n",
              "      background-color: #E8F0FE;\n",
              "      border: none;\n",
              "      border-radius: 50%;\n",
              "      cursor: pointer;\n",
              "      display: none;\n",
              "      fill: #1967D2;\n",
              "      height: 32px;\n",
              "      padding: 0 0 0 0;\n",
              "      width: 32px;\n",
              "    }\n",
              "\n",
              "    .colab-df-convert:hover {\n",
              "      background-color: #E2EBFA;\n",
              "      box-shadow: 0px 1px 2px rgba(60, 64, 67, 0.3), 0px 1px 3px 1px rgba(60, 64, 67, 0.15);\n",
              "      fill: #174EA6;\n",
              "    }\n",
              "\n",
              "    [theme=dark] .colab-df-convert {\n",
              "      background-color: #3B4455;\n",
              "      fill: #D2E3FC;\n",
              "    }\n",
              "\n",
              "    [theme=dark] .colab-df-convert:hover {\n",
              "      background-color: #434B5C;\n",
              "      box-shadow: 0px 1px 3px 1px rgba(0, 0, 0, 0.15);\n",
              "      filter: drop-shadow(0px 1px 2px rgba(0, 0, 0, 0.3));\n",
              "      fill: #FFFFFF;\n",
              "    }\n",
              "  </style>\n",
              "\n",
              "      <script>\n",
              "        const buttonEl =\n",
              "          document.querySelector('#df-defe5321-1866-43d0-8ed3-950a526f0dc7 button.colab-df-convert');\n",
              "        buttonEl.style.display =\n",
              "          google.colab.kernel.accessAllowed ? 'block' : 'none';\n",
              "\n",
              "        async function convertToInteractive(key) {\n",
              "          const element = document.querySelector('#df-defe5321-1866-43d0-8ed3-950a526f0dc7');\n",
              "          const dataTable =\n",
              "            await google.colab.kernel.invokeFunction('convertToInteractive',\n",
              "                                                     [key], {});\n",
              "          if (!dataTable) return;\n",
              "\n",
              "          const docLinkHtml = 'Like what you see? Visit the ' +\n",
              "            '<a target=\"_blank\" href=https://colab.research.google.com/notebooks/data_table.ipynb>data table notebook</a>'\n",
              "            + ' to learn more about interactive tables.';\n",
              "          element.innerHTML = '';\n",
              "          dataTable['output_type'] = 'display_data';\n",
              "          await google.colab.output.renderOutput(dataTable, element);\n",
              "          const docLink = document.createElement('div');\n",
              "          docLink.innerHTML = docLinkHtml;\n",
              "          element.appendChild(docLink);\n",
              "        }\n",
              "      </script>\n",
              "    </div>\n",
              "  </div>\n",
              "  "
            ]
          },
          "metadata": {},
          "execution_count": 20
        }
      ]
    },
    {
      "cell_type": "code",
      "metadata": {
        "id": "9SFUJheFKCy6"
      },
      "source": [
        "import matplotlib.pyplot as plt"
      ],
      "execution_count": 21,
      "outputs": []
    },
    {
      "cell_type": "code",
      "metadata": {
        "colab": {
          "base_uri": "https://localhost:8080/"
        },
        "id": "vSeqmslpKCy7",
        "outputId": "20b3481f-7311-4f5f-bd2e-01642bc07c20"
      },
      "source": [
        "elections_df.Subreddit.unique()"
      ],
      "execution_count": 22,
      "outputs": [
        {
          "output_type": "execute_result",
          "data": {
            "text/plain": [
              "array(['donaldtrump', 'politics', 'JoeBiden'], dtype=object)"
            ]
          },
          "metadata": {},
          "execution_count": 22
        }
      ]
    },
    {
      "cell_type": "code",
      "metadata": {
        "colab": {
          "base_uri": "https://localhost:8080/",
          "height": 334
        },
        "id": "5A_0aaJMKCy7",
        "outputId": "e5b22461-2722-40b4-c4dd-8da60f96a7a7"
      },
      "source": [
        "ax, fig = plt.subplots(nrows = 1, ncols = 1, figsize = (10, 5))\n",
        "elections_df['date'] = pd.to_datetime(elections_df['Publish Date']).dt.floor('d')\n",
        "m1 = elections_df[elections_df['Subreddit'] == \"donaldtrump\"].groupby(elections_df.date).Sentiment.mean().reset_index()\n",
        "m2 = elections_df[elections_df['Subreddit'] == \"politics\"].groupby(elections_df.date).Sentiment.mean().reset_index()\n",
        "m3 = elections_df[elections_df['Subreddit'] == \"JoeBiden\"].groupby(elections_df.date).Sentiment.mean().reset_index()\n",
        "\n",
        "import seaborn as sns\n",
        "\n",
        "ax = sns.lineplot(data = m1, x = 'date', y = 'Sentiment', color = \"red\", label = 'Trump')\n",
        "ax = sns.lineplot(data = m2, x = 'date', y = 'Sentiment', color = \"blue\", label = 'Politics')\n",
        "ax = sns.lineplot(data = m3, x = 'date', y = 'Sentiment', color = \"green\", label = 'Biden')\n"
      ],
      "execution_count": 23,
      "outputs": [
        {
          "output_type": "display_data",
          "data": {
            "text/plain": [
              "<Figure size 720x360 with 1 Axes>"
            ],
            "image/png": "[encoded data removed]"
          },
          "metadata": {
            "needs_background": "light"
          }
        }
      ]
    },
    {
      "cell_type": "markdown",
      "metadata": {
        "id": "p_xADD-PKCy9"
      },
      "source": [
        "## Topic Modeling"
      ]
    },
    {
      "cell_type": "markdown",
      "metadata": {
        "id": "_n7p_J9zKCy9"
      },
      "source": [
        "The last demo for data enriching is topic modeling where we use the LDA algorithm to find latent topics in our data."
      ]
    },
    {
      "cell_type": "code",
      "metadata": {
        "id": "3PrIgfZkKCy9",
        "outputId": "22a39730-5400-4318-8f8f-48c0420521dd",
        "colab": {
          "base_uri": "https://localhost:8080/"
        }
      },
      "source": [
        "import random\n",
        "text_data = []\n",
        "for line in elections_df['Title']:\n",
        "    tokens = get_tokens(line)\n",
        "    if random.random() > .99:\n",
        "        print(line)\n",
        "        print(tokens)\n",
        "        text_data.append(tokens)"
      ],
      "execution_count": 24,
      "outputs": [
        {
          "output_type": "stream",
          "name": "stdout",
          "text": [
            "How the average person sees Jake Tapper interview\n",
            "['average', 'person', 'tapper', 'interview']\n",
            "Wrote a new blog post to troll all my liberal friends on Facebook check it out.\n",
            "['write', 'troll', 'liberal', 'friend', 'facebook', 'check']\n",
            "Remember when impeachment was about daring to look for fire where there was smoke? Now there is proof of fire and nobody cares\n",
            "['remember', 'impeachment', 'daring', 'smoke', 'proof', 'nobody', 'care']\n",
            "WATCH: The Media Has Waged a Four-Year War Against Trump\n",
            "['watch', 'medium', 'wage', 'trump']\n",
            "I'm making Halloween great again.\n",
            "['making', 'halloween', 'great']\n",
            "Mark Meadows: Biden Family Involved in Hundreds of Millions of Dollars in Money Laundering Schemes\n",
            "['meadow', 'biden', 'family', 'involve', 'hundred', 'million', 'dollar', 'money', 'laundering', 'scheme']\n",
            "The Trump Administration Is Committed to Combating Human Trafficking and Protecting The Innocent\n",
            "['trump', 'administration', 'commit', 'combat', 'human', 'traffic', 'protect', 'innocent']\n",
            "Tried to post the Clinton foundation tax evasion link on Facebook. Happened immediately\n",
            "['try', 'clinton', 'foundation', 'evasion', 'facebook', 'happen', 'immediately']\n",
            "Someone put a biden sign on my property this morning so I fixed it.\n",
            "['someone', 'biden', 'property', 'morning', 'fix']\n",
            "Great article by Sundance: The media and polls are doing everything they did in 2016 to try to psyche out Trump’s supporters, and FAILING just as badly.\n",
            "['great', 'article', 'sundance', 'medium', 'polls', 'everything', 'psyche', 'trump', 'supporter', 'failing', 'badly']\n",
            "Made this, thought it fit\n",
            "['thought']\n",
            "The left's favorite brand.\n",
            "['favorite', 'brand']\n",
            "Got my Space Force coin today!\n",
            "['space', 'force', 'today']\n",
            "Brain Freeze: Joe Biden Calls ‘Proud Boys’ the ‘Poor Boys’\n",
            "['brain', 'freeze', 'biden', 'call', 'proud']\n",
            "If you say so\n",
            "[]\n",
            "Do not pass go! Joe!\n",
            "[]\n",
            "It's about time we agreed to this\n",
            "['agree']\n",
            "Trump 2020 god bless America\n",
            "['trump', 'bless', 'america']\n",
            "This Is Why We Must Expose This Information MAXIMALLY\n",
            "['expose', 'information', 'maximally']\n",
            "Vote NOW ! Don’t wait for Election Day and 200 mile long socially distanced lines and Election Day shenanigans. Vote NOW NOW NOW and do it IN PERSON\n",
            "['election', 'socially', 'distance', 'line', 'election', 'shenanigan', 'person']\n",
            "Biden supporters after watching the final debate\n",
            "['biden', 'supporter', 'watching', 'final', 'debate']\n",
            "Ultimate Joe Biden Cringe!\n",
            "['ultimate', 'biden', 'cringe']\n",
            "Daily Beast pushing Russian Disinformation 😂 C’mon man! Putin can’t save Biden crime family!\n",
            "['daily', 'beast', 'pushing', 'russian', 'disinformation', 'putin', 'biden', 'crime', 'family']\n",
            "Trump, Biden go on offense in states they're trying to flip\n",
            "['trump', 'biden', 'offense', 'state', 'try']\n",
            "Dump Dollars, Buy Silver And Gold! We Destroyed The World’s Greatest Eco...\n",
            "['dollar', 'silver', 'destroy', 'world', 'greatest']\n",
            "No offense\n",
            "['offense']\n",
            "Protest Arrests Show Regular Americans, Not Urban Antifa as Trump Claims\n",
            "['protest', 'arrest', 'regular', 'american', 'urban', 'antifa', 'trump', 'claim']\n",
            "Donald Trump Responds to Kirstie Alley's Endorsement: 'She Has Great Hair'\n",
            "['donald', 'trump', 'respond', 'kirstie', 'alley', 'endorsement', 'great']\n",
            "Joe Biden campaign discussing Charlie Baker for a potential cabinet job\n",
            "['biden', 'campaign', 'discuss', 'charlie', 'baker', 'potential', 'cabinet']\n",
            "Jamal Khashoggi’s fiancee and pro-democracy group he founded sue Saudi crown prince in his slaying\n",
            "['jamal', 'khashoggi', 'fiancee', 'democracy', 'group', 'found', 'saudi', 'crown', 'prince', 'slaying']\n",
            "Oregon and Washington voters are turning out in droves\n",
            "['oregon', 'washington', 'voter', 'turning', 'drove']\n",
            "'You have to be optimistic': Pelosi hopes for Covid stimulus by Election Day as negotiations enter third month\n",
            "['optimistic', 'pelosi', 'hope', 'covid', 'stimulus', 'election', 'negotiation', 'enter', 'third', 'month']\n",
            "You're frustrated about politics, so we made a little game that'll give you some catharsis and let you voice your opinion.\n",
            "['frustrate', 'politics', 'little', 'catharsis', 'voice', 'opinion']\n",
            "MAKE A PLAN TO VOTE PSA (feat. on NY1 News &amp; www.broadwayworld.com) featuring performers from Sesame Street &amp; Broadway/Nat’l Tour productions of Hamilton, Phantom of the Opera, The Prom, Fiddler on the Roof, Les Mis, 42nd Street, West Side Story, Anything Goes, &amp; more!\n",
            "['feature', 'performer', 'sesame', 'street', 'broadway', 'nat’l', 'production', 'hamilton', 'phantom', 'opera', 'fiddler', 'street', 'story', 'anything']\n",
            "Republicans, it’s time to choose between autocracy and a republic\n",
            "['republican', 'choose', 'autocracy', 'republic']\n",
            "Biden makes own island in Animal Crossing: New Horizons\n",
            "['biden', 'make', 'island', 'animal', 'crossing', 'horizon']\n",
            "Short on cash, Trump campaign can’t keep up with Biden\n",
            "['short', 'trump', 'campaign', 'biden']\n",
            "The race to be Biden’s secretary of State is already underway\n",
            "['biden', 'secretary', 'state', 'already', 'underway']\n",
            "Watergate Led to Reforms. Now, Would-Be Reformers Believe, So Will Trump.\n",
            "['watergate', 'reform', 'would', 'reformer', 'believe', 'trump']\n",
            "How to Vote - Rock the Vote - Election Information for Your State\n",
            "['election', 'information', 'state']\n",
            "OxyContin maker agrees to $8b settlement with Trump administration\n",
            "['oxycontin', 'maker', 'agree', 'settlement', 'trump', 'administration']\n",
            "Senate is leaning to the Democrats, big time, with a wave\n",
            "['senate', 'leaning', 'democrat']\n",
            "Watch this funny among us video. You'll have a great time watching others too.\n",
            "['watch', 'funny', 'among', 'video', 'great', 'watching', 'others']\n",
            "OxyContin maker Purdue to plead guilty over opioid practices, deal sparks opposition\n",
            "['oxycontin', 'maker', 'purdue', 'plead', 'guilty', 'opioid', 'practice', 'spark', 'opposition']\n",
            "Judge slams DeVos for rejecting 94% of loan relief claims\n",
            "['judge', 'slam', 'devos', 'reject', 'relief', 'claim']\n",
            "Jaime Harrison on What He Really Thinks of Lindsey Graham\n",
            "['jaime', 'harrison', 'really', 'think', 'lindsey', 'graham']\n",
            "Trump Is Giving America a Grisly Preview of a Second Term | If reelected, he would likely take his exuberant penchant for corruption and vindictiveness to pornographic heights.\n",
            "['trump', 'giving', 'america', 'grisly', 'preview', 'second', 'reelect', 'would', 'likely', 'exuberant', 'penchant', 'corruption', 'vindictiveness', 'pornographic', 'heights']\n",
            "Obama says Trump treats presidency \"like a reality show he can use to get attention\"\n",
            "['obama', 'trump', 'treat', 'presidency', 'reality', 'attention']\n",
            "Democrats Plan To Boycott Senate Committee Vote On Barrett Nomination\n",
            "['democrat', 'boycott', 'senate', 'committee', 'barrett', 'nomination']\n",
            "New Video: Barack Obama rips Donald Trump at Philly rally for Joe Biden\n",
            "['video', 'barack', 'obama', 'donald', 'trump', 'philly', 'rally', 'biden']\n",
            "Trump Grants Clemency To 5, Most Incarcerated For Drug Offenses\n",
            "['trump', 'grant', 'clemency', 'incarcerate', 'offense']\n",
            "50 Cent Says 'Vote for Trump' While Also Claiming President 'Doesn't Like Black People'\n",
            "['trump', 'claim', 'president', 'black', 'people']\n",
            "This group monitors foreign elections. Its latest challenge: American democracy\n",
            "['group', 'monitor', 'foreign', 'election', 'latest', 'challenge', 'american', 'democracy']\n",
            "Barack Obama likens Donald Trump to 'crazy uncle' in Joe Biden rally speech – video\n",
            "['barack', 'obama', 'liken', 'donald', 'trump', 'crazy', 'uncle', 'biden', 'rally', 'speech', 'video']\n",
            "FBI says Iran and Russia have US voter information\n",
            "['russia', 'voter', 'information']\n",
            "Opinion | Let’s not mince words. The Trump administration kidnapped children.\n",
            "['opinion', 'mince', 'words', 'trump', 'administration', 'kidnap', 'child']\n",
            "Politicians should be issue-solving robots. Fuck any notion of celebrity or personality-based campaigning; no politicians faces in any media. Rather they deliver problem-solving ideas from behind a curtain. No smoky distractions; discuss issues and related solutions exclusively.\n",
            "['politician', 'issue', 'solving', 'robot', 'notion', 'celebrity', 'personality', 'base', 'campaigning', 'politician', 'face', 'medium', 'rather', 'deliver', 'problem', 'solving', 'idea', 'behind', 'curtain', 'smoky', 'distraction', 'discus', 'issue', 'relate', 'solution', 'exclusively']\n",
            "Hunter Biden had relationship with his dead brothers widow\n",
            "['hunter', 'biden', 'relationship', 'brother', 'widow']\n",
            "2020 U.S. Election Tracker: Trump Fails to Make Up Ground in Battleground States; Key Senate Races Are Tightening\n",
            "['election', 'tracker', 'trump', 'fail', 'ground', 'battleground', 'state', 'senate', 'race', 'tightening']\n",
            "The presidential campaign closes as it began: Biden on message\n",
            "['presidential', 'campaign', 'close', 'begin', 'biden', 'message']\n",
            "Can The U.S. Government Force You To Take A [COVID-19] Vaccine?\n",
            "['government', 'force', 'covid-19', 'vaccine']\n",
            "Russia gives whistleblower Edward Snowden permanent residency rights\n",
            "['russia', 'give', 'whistleblower', 'edward', 'snowden', 'permanent', 'residency', 'right']\n",
            "This pollster has Trump leading. 'Silent' Trump supporters aren't being accounted for in mainstream polling.\n",
            "['pollster', 'trump', 'leading', 'silent', 'trump', 'supporter', 'account', 'mainstream', 'poll']\n",
            "NYC, Seattle and Portland sue Trump over 'anarchist' designation\n",
            "['seattle', 'portland', 'trump', 'anarchist', 'designation']\n",
            "Jo Jorgensen Town Hall, what are your thoughts on this candidate\n",
            "['jorgensen', 'thought', 'candidate']\n",
            "GOP rushes to Feinstein's defense after her praise of Barrett hearings prompts Democratic fury\n",
            "['rush', 'feinstein', 'defense', 'praise', 'barrett', 'hearing', 'prompt', 'democratic']\n",
            "Facebook Promised To Label Political Ads, But Ads For Biden, The Daily Wire, And Interest Groups Are Slipping Through\n",
            "['facebook', 'promise', 'label', 'political', 'biden', 'daily', 'interest', 'group', 'slip']\n",
            "Michigan court tosses ruling that said to count late absentee ballots\n",
            "['michigan', 'court', 'toss', 'ruling', 'count', 'absentee', 'ballot']\n",
            "Trump order strips workplace protections from civil servants\n",
            "['trump', 'order', 'strip', 'workplace', 'protection', 'civil', 'servant']\n",
            "Bipartisan group of senators call on Trump to sanction Russia over Navalny poisoning\n",
            "['bipartisan', 'group', 'senator', 'trump', 'sanction', 'russia', 'navalny', 'poisoning']\n",
            "Landlord Letter Threatens To Double Rent If Trump Loses\n",
            "['landlord', 'letter', 'threaten', 'double', 'trump', 'lose']\n",
            "US Presidential Debate: COVID-19 vaccine ready &amp; coming within weeks, says Trump\n",
            "['presidential', 'debate', 'covid-19', 'vaccine', 'ready', 'coming', 'within', 'week', 'trump']\n",
            "Why Russia — and Putin — might be worried about a Biden presidency\n",
            "['russia', 'putin', 'might', 'worry', 'biden', 'presidency']\n",
            "5 takeaways from the final Trump-Biden debate\n",
            "['takeaway', 'final', 'trump', 'biden', 'debate']\n",
            "Laugh or Cringe as Stand-Up Comedian goes into political rant about how swapping politicians won't change a thing.\n",
            "['laugh', 'cringe', 'stand', 'comedian', 'political', 'swap', 'politician', 'change', 'thing']\n",
            "How Trump success in ending Obamacare would kill Fauci plan to conquer HIV\n",
            "['trump', 'success', 'ending', 'obamacare', 'would', 'fauci', 'conquer']\n",
            "Fact check: Trump did not say it was “good” that over 500 children at the border had lost their parents\n",
            "['check', 'trump', 'child', 'border', 'parent']\n",
            "Biden Claimed He Never Wanted to Ban Fracking. He Did\n",
            "['biden', 'claim', 'never', 'want', 'fracking']\n",
            "The Moment Joe Biden Found His Voice—and Won the Final Debate\n",
            "['moment', 'biden', 'found', 'voice', 'final', 'debate']\n",
            "Can America survive the re-election of Donald Trump?\n",
            "['america', 'survive', 'election', 'donald', 'trump']\n",
            "Minnesota attorney general probes company that tried to hire armed guards to monitor polls\n",
            "['minnesota', 'attorney', 'general', 'probe', 'company', 'try', 'arm', 'guard', 'monitor', 'polls']\n",
            "Joe Biden maintains big cash advantage in campaign's waning days\n",
            "['biden', 'maintain', 'advantage', 'campaign', 'waning']\n",
            "Democrat Trails Narrowly in Key Montana Senate Race\n",
            "['democrat', 'trail', 'narrowly', 'montana', 'senate']\n",
            "Trump campaign sets online fundraising record, plans 'heavy' ad buy in Minn.\n",
            "['trump', 'campaign', 'online', 'fundraise', 'record', 'plan', 'heavy', 'minn.']\n",
            "Democrats leading Republicans in early voting turnout\n",
            "['democrat', 'leading', 'republican', 'early', 'voting', 'turnout']\n",
            "'Boogaloo Bois' Member Charged With Rioting at George Floyd Protest\n",
            "['boogaloo', 'member', 'charge', 'rioting', 'george', 'floyd', 'protest']\n",
            "Healthcare, retirement security seen as top issues for older voters, lawmakers say | TheHill\n",
            "['healthcare', 'retirement', 'security', 'issue', 'older', 'voter', 'lawmaker', 'thehill']\n",
            "US passes single-day record for new COVID-19 case\n",
            "['pass', 'single', 'record', 'covid-19']\n",
            "In the calm before the possible storm, it doesn't look like courts will decide the election - KRDO\n",
            "['possible', 'storm', 'court', 'decide', 'election']\n",
            "Fauci says it might be time to mandate masks as Covid-19 surges across US\n",
            "['fauci', 'might', 'mandate', 'mask', 'covid-19', 'surge', 'across']\n",
            "Trump announces peace deal between Sudan and Israel\n",
            "['trump', 'announce', 'peace', 'sudan', 'israel']\n",
            "Michael Keaton Releases A Presidential Endorsement Video Like No Other\n",
            "['michael', 'keaton', 'release', 'presidential', 'endorsement', 'video']\n",
            "My Experience as a Working Mother at Notre Dame Was Much Different From Amy Coney Barrett’s\n",
            "['experience', 'working', 'mother', 'notre', 'different', 'coney', 'barrett']\n",
            "The US just brokered another peace deal for Israel, this time with Sudan\n",
            "['broker', 'another', 'peace', 'israel', 'sudan']\n",
            "Trump says pandemic will end soon after Biden blasts his handling of crisis\n",
            "['trump', 'pandemic', 'biden', 'blast', 'handling', 'crisis']\n",
            "Vote for the Rule of Law.\n",
            "[]\n",
            "Murkowski to back Barrett for Supreme Court, despite opposing GOP process\n",
            "['murkowski', 'barrett', 'supreme', 'court', 'despite', 'oppose', 'process']\n",
            "A passionate pleading in favour of voting for Joe Biden.\n",
            "['passionate', 'pleading', 'favour', 'voting', 'biden']\n",
            "China hopes for change if Biden wins, but little likely\n",
            "['china', 'hope', 'change', 'biden', 'little', 'likely']\n",
            "Two Loeffler staffers test positive for COVID-19\n",
            "['loeffler', 'staffer', 'positive', 'covid-19']\n",
            "Survey: More Americans Support Same-Sex Marriage Than Ever Before\n",
            "['survey', 'american', 'support', 'marriage']\n",
            "Israel launches new spy Satellite Ofek 16\n",
            "['israel', 'launch', 'satellite']\n",
            "Suffolk County grocery store offering 20% discount to Trump supporters\n",
            "['suffolk', 'county', 'grocery', 'store', 'offering', 'discount', 'trump', 'supporter']\n",
            "Trump aide says ‘we’re not going to control the pandemic’\n",
            "['trump', 'going', 'control', 'pandemic']\n",
            "The U.S. Health Department tried to offer early vaccines to shopping mall Santas\n",
            "['health', 'department', 'try', 'offer', 'early', 'vaccine', 'shopping', 'santa']\n",
            "Company cancels plan to recruit ex-special forces members as armed guards for Minnesota polls\n",
            "['company', 'cancel', 'recruit', 'special', 'force', 'member', 'arm', 'guard', 'minnesota', 'polls']\n",
            "Trump passes executive order that could destroy a future Biden administration\n",
            "['trump', 'pass', 'executive', 'order', 'could', 'destroy', 'future', 'biden', 'administration']\n",
            "Trump Had One Last Story to Sell. The Wall Street Journal Wouldn’t Buy It.\n",
            "['trump', 'story', 'street', 'journal', 'would']\n",
            "On Fox News, Matthew McConaughey criticizes \"both sides\" for politicization of coronavirus\n",
            "['matthew', 'mcconaughey', 'criticize', 'side', 'politicization', 'coronavirus']\n",
            "Biden on attacks on mental fitness: Trump thought '9/11 attack was 7/11 attack'\n",
            "['biden', 'attack', 'mental', 'fitness', 'trump', 'thought', 'attack', 'attack']\n",
            "For Coffee Lovers!\n",
            "['coffee', 'lover']\n",
            "Ideal lockdown?— The Great Reset.\n",
            "['ideal', 'lockdown', 'great', 'reset']\n",
            "Did The U.S. Really Become The World’s Top Oil Producer Under Trump?\n",
            "['really', 'become', 'world', 'producer', 'trump']\n",
            "Why Christians Should Dump Trump\n",
            "['christian', 'trump']\n",
            "The Federal Election Commission Can’t Meet...For The Most Ironic Reason\n",
            "['federal', 'election', 'commission', 'ironic', 'reason']\n",
            "How the country's law enforcement is bracing for Election Day\n",
            "['country', 'enforcement', 'bracing', 'election']\n",
            "⚠️ The Trump/Biden debate the media doesn’t want you to see\n",
            "['trump', 'biden', 'debate', 'medium']\n",
            "Trump’s conservative imprint on the federal judiciary gives Democrats a playbook — if they win\n",
            "['trump', 'conservative', 'imprint', 'federal', 'judiciary', 'give', 'democrat', 'playbook']\n",
            "Trump Is the Best Candidate for the Illiberal Left\n",
            "['trump', 'candidate', 'illiberal']\n",
            "GOP senators pondering action if Trump loses and refuses to step down, Carl Bernstein says\n",
            "['senator', 'ponder', 'action', 'trump', 'lose', 'refuse', 'bernstein']\n",
            "Barrett’s SCOTUS confirmation set to be most partisan since Reconstruction\n",
            "['barrett', 'scotus', 'confirmation', 'partisan', 'since', 'reconstruction']\n",
            "Mother Nature Says No!\n",
            "['mother', 'nature']\n",
            "‘Avengers’ Superheroes Assembles for Joe Biden Fundraisers\n",
            "['avenger', 'superheroes', 'assemble', 'biden', 'fundraiser']\n",
            "Dear Arkansas and Florida, early voting starts today!\n",
            "['arkansas', 'florida', 'early', 'voting', 'start', 'today']\n",
            "The Beastie Boys allow Biden to use 'Sabotage' in political ad, in a first for the band\n",
            "['beastie', 'allow', 'biden', 'sabotage', 'political', 'first']\n",
            "Feeling down about the state of America? Me too. But good news may be coming | Art Cullen\n",
            "['feeling', 'state', 'america', 'coming', 'cullen']\n",
            "I’m Joe Biden and, Floridians, here’s my plan\n",
            "['biden', 'floridian']\n",
            "Joe Biden’s love of Amtrak tells us how he would govern\n",
            "['biden', 'amtrak', 'tell', 'would', 'govern']\n",
            "Let's Get Serious, Trump’s not funny!!! Let’s Vote him Out!!!\n",
            "['serious', 'trump', 'funny']\n",
            "+2 for Biden in Georgia! (My sister's ballot was accepted today too) [re-uploaded to cover personal info]\n",
            "['biden', 'georgia', 'sister', 'ballot', 'accept', 'today', 'upload', 'cover', 'personal']\n",
            "Best set of wheels to go beat corn pop in 😎🍦\n",
            "['wheel']\n",
            "Joe Biden's Build Back Better Train Tour Speech to American Workers\n",
            "['biden', 'build', 'better', 'train', 'speech', 'american', 'worker']\n",
            "Rudy's Borat Stillshot\n",
            "['borat', 'stillshot']\n",
            "What exactly is going on with Hunter Biden\n",
            "['exactly', 'going', 'hunter', 'biden']\n",
            "Another video from Trump Hates Dogs.\n",
            "['another', 'video', 'trump', 'hate']\n",
            "Honestly kinda terrified\n",
            "['honestly', 'kinda', 'terrify']\n",
            "Donald Trump is no Abe Lincoln.\n",
            "['donald', 'trump', 'lincoln']\n",
            "Received confirmation that my ballot was received right after the debate! +1 in CA!!\n",
            "['receive', 'confirmation', 'ballot', 'receive', 'right', 'debate']\n",
            "Malarkey!\n",
            "['malarkey']\n",
            "Biden leads Trump in Pennsylvania in election’s home stretch, new Morning Call/Muhlenberg College poll shows; Biden holds a 7-point lead over Trump\n",
            "['biden', 'lead', 'trump', 'pennsylvania', 'election', 'stretch', 'morning', 'muhlenberg', 'college', 'show', 'biden', 'hold', 'point', 'trump']\n",
            "Trumps Covid Plan, 😏\n",
            "['trump', 'covid']\n",
            "Biden gets late boost with key union endorsement\n",
            "['biden', 'boost', 'union', 'endorsement']\n",
            "NBC running Trump ad using faked emails. What can we do? That’s unacceptable and should be illegal frankly.\n",
            "['running', 'trump', 'using', 'fake', 'email', 'unacceptable', 'illegal', 'frankly']\n",
            "Beware of trolls claiming to be former Trump voters\n",
            "['beware', 'troll', 'claim', 'former', 'trump', 'voter']\n",
            "Column: They're young and don't love Biden, but can't take any more of Trump\n",
            "['column', 'young', 'biden', 'trump']\n",
            "One other thing I'm looking forward to when this pandemic is all over with is actually seeing a decent Commander in Chief in the White House. Someone who actually gives a crap about another country putting bounties on our soldiers.\n",
            "['thing', 'looking', 'forward', 'pandemic', 'actually', 'seeing', 'decent', 'commander', 'chief', 'white', 'house', 'someone', 'actually', 'give', 'another', 'country', 'putting', 'bounty', 'soldier']\n",
            "Serious Queation regarding total votes cast this election.\n",
            "['serious', 'queation', 'regard', 'total', 'vote', 'election']\n",
            "Online voter registration deadline for Colorado, Montana, and Washington is tomorrow, Oct. 26!\n",
            "['online', 'voter', 'registration', 'deadline', 'colorado', 'montana', 'washington', 'tomorrow']\n",
            "There was a Trump rally in my city today so I felt motivated by them to donate to Joe Biden\n",
            "['trump', 'rally', 'today', 'motivate', 'donate', 'biden']\n",
            "Republican Registered voters have overtaken Democrat Registered voters in the early-in-person votes...(still early in the race but worrisome)\n",
            "['republican', 'register', 'voter', 'overtake', 'democrat', 'register', 'voter', 'early', 'person', 'vote', '(still', 'early', 'worrisome']\n",
            "+3 for Joe in Miami including 2 recent American citizens !! 🇺🇸❤️\n",
            "['miami', 'include', 'recent', 'american', 'citizen']\n"
          ]
        }
      ]
    },
    {
      "cell_type": "code",
      "metadata": {
        "id": "-kOtbn6ZKCy-"
      },
      "source": [
        "from gensim import corpora\n",
        "dictionary = corpora.Dictionary(text_data)"
      ],
      "execution_count": 25,
      "outputs": []
    },
    {
      "cell_type": "code",
      "metadata": {
        "id": "v_nH-oa8KCy-"
      },
      "source": [
        "corpus = [dictionary.doc2bow(text) for text in text_data]"
      ],
      "execution_count": 26,
      "outputs": []
    },
    {
      "cell_type": "code",
      "metadata": {
        "id": "NQhvQuIoKCy-"
      },
      "source": [
        "import pickle\n",
        "pickle.dump(corpus, open('corpus.pkl', 'wb'))\n",
        "dictionary.save('dictionary.gensim')"
      ],
      "execution_count": 27,
      "outputs": []
    },
    {
      "cell_type": "code",
      "metadata": {
        "id": "ciNAcv-PKCy-"
      },
      "source": [
        "import gensim\n",
        "NUM_TOPICS = 5\n",
        "ldamodel = gensim.models.ldamodel.LdaModel(corpus, num_topics = NUM_TOPICS, id2word=dictionary, passes=15)\n",
        "ldamodel.save('model5.gensim')"
      ],
      "execution_count": 28,
      "outputs": []
    },
    {
      "cell_type": "code",
      "metadata": {
        "id": "kUiIVWqmKCy_",
        "outputId": "cdeca520-c206-45ef-8154-30bc831501ce",
        "colab": {
          "base_uri": "https://localhost:8080/"
        }
      },
      "source": [
        "topics = ldamodel.print_topics(num_words=4)\n",
        "for topic in topics:\n",
        "    print(topic)\n"
      ],
      "execution_count": 29,
      "outputs": [
        {
          "output_type": "stream",
          "name": "stdout",
          "text": [
            "(0, '0.032*\"trump\" + 0.015*\"election\" + 0.012*\"group\" + 0.009*\"supporter\"')\n",
            "(1, '0.055*\"trump\" + 0.052*\"biden\" + 0.016*\"voter\" + 0.013*\"early\"')\n",
            "(2, '0.031*\"trump\" + 0.022*\"biden\" + 0.018*\"democrat\" + 0.011*\"covid-19\"')\n",
            "(3, '0.037*\"biden\" + 0.029*\"trump\" + 0.017*\"election\" + 0.013*\"obama\"')\n",
            "(4, '0.030*\"trump\" + 0.023*\"biden\" + 0.012*\"would\" + 0.008*\"american\"')\n"
          ]
        }
      ]
    },
    {
      "cell_type": "code",
      "metadata": {
        "id": "cCfjhK-0KCy_",
        "outputId": "52dadda5-ab9a-4869-f622-d5e87b54dfc2",
        "colab": {
          "base_uri": "https://localhost:8080/"
        }
      },
      "source": [
        "new_doc = 'Trump is corrupt'\n",
        "new_doc = get_tokens(new_doc)\n",
        "new_doc_bow = dictionary.doc2bow(new_doc)\n",
        "print(new_doc_bow)\n",
        "print(ldamodel.get_document_topics(new_doc_bow))"
      ],
      "execution_count": 30,
      "outputs": [
        {
          "output_type": "stream",
          "name": "stdout",
          "text": [
            "[(18, 1)]\n",
            "[(0, 0.102266766), (1, 0.59172785), (2, 0.102112584), (3, 0.101891965), (4, 0.10200089)]\n"
          ]
        }
      ]
    },
    {
      "cell_type": "code",
      "metadata": {
        "id": "Y1S6Faf3KCzA",
        "outputId": "e7eb3cb5-1115-4c94-9594-3e7463fca44d",
        "colab": {
          "base_uri": "https://localhost:8080/"
        }
      },
      "source": [
        "ldamodel = gensim.models.ldamodel.LdaModel(corpus, num_topics = 3, id2word=dictionary, passes=15)\n",
        "ldamodel.save('model3.gensim')\n",
        "topics = ldamodel.print_topics(num_words=4)\n",
        "for topic in topics:\n",
        "    print(topic)"
      ],
      "execution_count": 31,
      "outputs": [
        {
          "output_type": "stream",
          "name": "stdout",
          "text": [
            "(0, '0.030*\"biden\" + 0.028*\"trump\" + 0.011*\"american\" + 0.011*\"democrat\"')\n",
            "(1, '0.068*\"trump\" + 0.035*\"biden\" + 0.011*\"election\" + 0.009*\"donald\"')\n",
            "(2, '0.013*\"election\" + 0.012*\"biden\" + 0.012*\"covid-19\" + 0.008*\"barrett\"')\n"
          ]
        }
      ]
    },
    {
      "cell_type": "code",
      "metadata": {
        "id": "AMnsBIu9KCzA",
        "outputId": "220176d5-0b84-4b65-828f-1bc6e7f4c9a0",
        "colab": {
          "base_uri": "https://localhost:8080/"
        }
      },
      "source": [
        "ldamodel = gensim.models.ldamodel.LdaModel(corpus, num_topics = 10, id2word=dictionary, passes=15)\n",
        "ldamodel.save('model10.gensim')\n",
        "topics = ldamodel.print_topics(num_words=4)\n",
        "for topic in topics:\n",
        "    print(topic)"
      ],
      "execution_count": 32,
      "outputs": [
        {
          "output_type": "stream",
          "name": "stdout",
          "text": [
            "(0, '0.054*\"trump\" + 0.027*\"biden\" + 0.021*\"donald\" + 0.014*\"election\"')\n",
            "(1, '0.034*\"trump\" + 0.021*\"attack\" + 0.021*\"biden\" + 0.014*\"election\"')\n",
            "(2, '0.017*\"russia\" + 0.017*\"polls\" + 0.017*\"member\" + 0.017*\"thought\"')\n",
            "(3, '0.035*\"trump\" + 0.018*\"early\" + 0.018*\"street\" + 0.012*\"biden\"')\n",
            "(4, '0.048*\"biden\" + 0.042*\"trump\" + 0.019*\"american\" + 0.013*\"today\"')\n",
            "(5, '0.049*\"biden\" + 0.043*\"trump\" + 0.013*\"election\" + 0.013*\"final\"')\n",
            "(6, '0.028*\"trump\" + 0.021*\"video\" + 0.014*\"endorsement\" + 0.014*\"issue\"')\n",
            "(7, '0.031*\"democrat\" + 0.023*\"covid-19\" + 0.023*\"vaccine\" + 0.022*\"senate\"')\n",
            "(8, '0.051*\"trump\" + 0.036*\"biden\" + 0.021*\"offense\" + 0.014*\"would\"')\n",
            "(9, '0.049*\"biden\" + 0.034*\"trump\" + 0.015*\"information\" + 0.015*\"election\"')\n"
          ]
        }
      ]
    },
    {
      "cell_type": "markdown",
      "metadata": {
        "id": "Wph8yHexKCzB"
      },
      "source": [
        "There are several other topic modeling techniques:\n",
        "\n",
        "- LSA\n",
        "- word-embedding based\n",
        "- hierarchical techniques"
      ]
    },
    {
      "cell_type": "markdown",
      "metadata": {
        "id": "risd__-RKCzB"
      },
      "source": [
        "## Visualizing topics"
      ]
    },
    {
      "cell_type": "code",
      "metadata": {
        "id": "mT0rRSZeKCzK"
      },
      "source": [
        "dictionary = gensim.corpora.Dictionary.load('dictionary.gensim')\n",
        "corpus = pickle.load(open('corpus.pkl', 'rb'))\n",
        "lda = gensim.models.ldamodel.LdaModel.load('model5.gensim')"
      ],
      "execution_count": 33,
      "outputs": []
    },
    {
      "cell_type": "code",
      "metadata": {
        "id": "4SEZATn2KCzL",
        "colab": {
          "base_uri": "https://localhost:8080/"
        },
        "outputId": "268103bd-460e-471c-9805-2ecc7ff91ef7"
      },
      "source": [
        "!python3 -m pip install -U pyLDAvis"
      ],
      "execution_count": 35,
      "outputs": [
        {
          "output_type": "stream",
          "name": "stdout",
          "text": [
            "Looking in indexes: https://pypi.org/simple, https://us-python.pkg.dev/colab-wheels/public/simple/\n",
            "Collecting pyLDAvis\n",
            "  Downloading pyLDAvis-3.3.1.tar.gz (1.7 MB)\n",
            "\u001b[K     |████████████████████████████████| 1.7 MB 24.4 MB/s \n",
            "\u001b[?25h  Installing build dependencies ... \u001b[?25l\u001b[?25hdone\n",
            "  Getting requirements to build wheel ... \u001b[?25l\u001b[?25hdone\n",
            "  Installing backend dependencies ... \u001b[?25l\u001b[?25hdone\n",
            "    Preparing wheel metadata ... \u001b[?25l\u001b[?25hdone\n",
            "Requirement already satisfied: scikit-learn in /usr/local/lib/python3.8/dist-packages (from pyLDAvis) (1.0.2)\n",
            "Requirement already satisfied: numexpr in /usr/local/lib/python3.8/dist-packages (from pyLDAvis) (2.8.4)\n",
            "Collecting funcy\n",
            "  Downloading funcy-1.17-py2.py3-none-any.whl (33 kB)\n",
            "Requirement already satisfied: setuptools in /usr/local/lib/python3.8/dist-packages (from pyLDAvis) (57.4.0)\n",
            "Requirement already satisfied: gensim in /usr/local/lib/python3.8/dist-packages (from pyLDAvis) (3.6.0)\n",
            "Collecting sklearn\n",
            "  Downloading sklearn-0.0.post1.tar.gz (3.6 kB)\n",
            "Requirement already satisfied: numpy>=1.20.0 in /usr/local/lib/python3.8/dist-packages (from pyLDAvis) (1.21.6)\n",
            "Requirement already satisfied: scipy in /usr/local/lib/python3.8/dist-packages (from pyLDAvis) (1.7.3)\n",
            "Requirement already satisfied: jinja2 in /usr/local/lib/python3.8/dist-packages (from pyLDAvis) (2.11.3)\n",
            "Requirement already satisfied: joblib in /usr/local/lib/python3.8/dist-packages (from pyLDAvis) (1.2.0)\n",
            "Requirement already satisfied: future in /usr/local/lib/python3.8/dist-packages (from pyLDAvis) (0.16.0)\n",
            "Requirement already satisfied: pandas>=1.2.0 in /usr/local/lib/python3.8/dist-packages (from pyLDAvis) (1.3.5)\n",
            "Requirement already satisfied: pytz>=2017.3 in /usr/local/lib/python3.8/dist-packages (from pandas>=1.2.0->pyLDAvis) (2022.6)\n",
            "Requirement already satisfied: python-dateutil>=2.7.3 in /usr/local/lib/python3.8/dist-packages (from pandas>=1.2.0->pyLDAvis) (2.8.2)\n",
            "Requirement already satisfied: six>=1.5 in /usr/local/lib/python3.8/dist-packages (from python-dateutil>=2.7.3->pandas>=1.2.0->pyLDAvis) (1.15.0)\n",
            "Requirement already satisfied: smart-open>=1.2.1 in /usr/local/lib/python3.8/dist-packages (from gensim->pyLDAvis) (5.2.1)\n",
            "Requirement already satisfied: MarkupSafe>=0.23 in /usr/local/lib/python3.8/dist-packages (from jinja2->pyLDAvis) (2.0.1)\n",
            "Requirement already satisfied: threadpoolctl>=2.0.0 in /usr/local/lib/python3.8/dist-packages (from scikit-learn->pyLDAvis) (3.1.0)\n",
            "Building wheels for collected packages: pyLDAvis, sklearn\n",
            "  Building wheel for pyLDAvis (PEP 517) ... \u001b[?25l\u001b[?25hdone\n",
            "  Created wheel for pyLDAvis: filename=pyLDAvis-3.3.1-py2.py3-none-any.whl size=136898 sha256=886e60dc4ee2ce169be6616c904aef2721fae28f25174910f9bb9274ee45bc9c\n",
            "  Stored in directory: /root/.cache/pip/wheels/90/61/ec/9dbe9efc3acf9c4e37ba70fbbcc3f3a0ebd121060aa593181a\n",
            "  Building wheel for sklearn (setup.py) ... \u001b[?25l\u001b[?25hdone\n",
            "  Created wheel for sklearn: filename=sklearn-0.0.post1-py3-none-any.whl size=2344 sha256=ca84870ef3b8d9b324f3b163bdfd62063fb0a73752bf8cd755377c9cb5b00208\n",
            "  Stored in directory: /root/.cache/pip/wheels/14/25/f7/1cc0956978ae479e75140219088deb7a36f60459df242b1a72\n",
            "Successfully built pyLDAvis sklearn\n",
            "Installing collected packages: sklearn, funcy, pyLDAvis\n",
            "Successfully installed funcy-1.17 pyLDAvis-3.3.1 sklearn-0.0.post1\n"
          ]
        }
      ]
    },
    {
      "cell_type": "code",
      "metadata": {
        "id": "vG8tTFiqKCzM",
        "outputId": "de1e95c2-625c-44d9-9045-c28e6d4e872a",
        "colab": {
          "base_uri": "https://localhost:8080/",
          "height": 916
        }
      },
      "source": [
        "import pyLDAvis\n",
        "import pyLDAvis.gensim_models as gensimvis\n",
        "lda_display = gensimvis.prepare(lda, corpus, dictionary, sort_topics=False)\n",
        "pyLDAvis.display(lda_display)"
      ],
      "execution_count": 39,
      "outputs": [
        {
          "output_type": "stream",
          "name": "stderr",
          "text": [
            "/usr/local/lib/python3.8/dist-packages/pyLDAvis/_prepare.py:246: FutureWarning: In a future version of pandas all arguments of DataFrame.drop except for the argument 'labels' will be keyword-only\n",
            "  default_term_info = default_term_info.sort_values(\n"
          ]
        },
        {
          "output_type": "execute_result",
          "data": {
            "text/plain": [
              "<IPython.core.display.HTML object>"
            ],
            "text/html": [
              "\n",
              "<link rel=\"stylesheet\" type=\"text/css\" href=\"https://cdn.jsdelivr.net/gh/bmabey/pyLDAvis@3.3.1/pyLDAvis/js/ldavis.v1.0.0.css\">\n",
              "\n",
              "\n",
              "<div id=\"ldavis_el681397904201604006215876104\"></div>\n",
              "<script type=\"text/javascript\">\n",
              "\n",
              "var ldavis_el681397904201604006215876104_data = {\"mdsDat\": {\"x\": [-0.14710840647787174, 0.06313598600422154, 0.04977174942584299, 0.008935424571896687, 0.025265246475910514], \"y\": [-0.013586596007698452, -0.058182704629935356, -0.02266351579530811, -0.025527184937012858, 0.11996000136995479], \"topics\": [1, 2, 3, 4, 5], \"cluster\": [1, 1, 1, 1, 1], \"Freq\": [26.227057763630224, 22.922456513979395, 18.36874477390473, 14.609565574757305, 17.872175373728343]}, \"tinfo\": {\"Term\": [\"biden\", \"democrat\", \"election\", \"obama\", \"rally\", \"today\", \"russia\", \"would\", \"voter\", \"endorsement\", \"early\", \"group\", \"senate\", \"video\", \"give\", \"barack\", \"presidency\", \"attack\", \"information\", \"federal\", \"covid-19\", \"thought\", \"offense\", \"debate\", \"actually\", \"thing\", \"likely\", \"someone\", \"change\", \"israel\", \"group\", \"israel\", \"polls\", \"democracy\", \"member\", \"child\", \"sudan\", \"peace\", \"mother\", \"guard\", \"arm\", \"minnesota\", \"company\", \"monitor\", \"solving\", \"found\", \"supporter\", \"fiddler\", \"phantom\", \"feature\", \"broadway\", \"performer\", \"sesame\", \"hamilton\", \"anything\", \"opera\", \"nat\\u2019l\", \"production\", \"sundance\", \"article\", \"force\", \"court\", \"politician\", \"street\", \"issue\", \"election\", \"trump\", \"medium\", \"great\", \"barrett\", \"claim\", \"biden\", \"story\", \"attack\", \"information\", \"register\", \"hunter\", \"early\", \"voter\", \"point\", \"muhlenberg\", \"show\", \"hold\", \"pennsylvania\", \"lead\", \"college\", \"stretch\", \"(still\", \"overtake\", \"worrisome\", \"santa\", \"illegal\", \"thehill\", \"fake\", \"shopping\", \"health\", \"lawmaker\", \"healthcare\", \"security\", \"heavy\", \"unacceptable\", \"frankly\", \"fundraise\", \"campaign\", \"biden\", \"trump\", \"final\", \"debate\", \"america\", \"administration\", \"medium\", \"would\", \"state\", \"claim\", \"election\", \"agree\", \"person\", \"thought\", \"vaccine\", \"morning\", \"record\", \"pass\", \"vote\", \"destroy\", \"senator\", \"endorsement\", \"democrat\", \"receive\", \"dollar\", \"watching\", \"montana\", \"funny\", \"family\", \"senate\", \"hundred\", \"involve\", \"million\", \"meadow\", \"scheme\", \"laundering\", \"money\", \"registration\", \"colorado\", \"combat\", \"protect\", \"commit\", \"deadline\", \"innocent\", \"human\", \"tomorrow\", \"traffic\", \"mandate\", \"cabinet\", \"baker\", \"others\", \"offense\", \"covid-19\", \"republican\", \"trump\", \"video\", \"biden\", \"great\", \"debate\", \"voice\", \"watch\", \"washington\", \"going\", \"voting\", \"opinion\", \"online\", \"donald\", \"leading\", \"obama\", \"rally\", \"barack\", \"presidency\", \"federal\", \"today\", \"russia\", \"liken\", \"crazy\", \"month\", \"pelosi\", \"enter\", \"uncle\", \"optimistic\", \"stimulus\", \"negotiation\", \"georgia\", \"upload\", \"accept\", \"personal\", \"third\", \"snowden\", \"sister\", \"permanent\", \"edward\", \"philly\", \"cover\", \"residency\", \"whistleblower\", \"queation\", \"give\", \"thought\", \"biden\", \"election\", \"donald\", \"video\", \"trump\", \"covid\", \"offense\", \"serious\", \"ballot\", \"check\", \"candidate\", \"troll\", \"speech\", \"hope\", \"facebook\", \"right\", \"pandemic\", \"lose\", \"might\", \"actually\", \"thing\", \"likely\", \"someone\", \"change\", \"seeing\", \"soldier\", \"forward\", \"white\", \"putting\", \"decent\", \"house\", \"bounty\", \"chief\", \"looking\", \"commander\", \"reelect\", \"penchant\", \"preview\", \"pornographic\", \"grisly\", \"giving\", \"vindictiveness\", \"heights\", \"corruption\", \"exuberant\", \"second\", \"laugh\", \"spark\", \"purdue\", \"presidential\", \"would\", \"trump\", \"biden\", \"american\", \"barrett\", \"another\", \"america\", \"cringe\", \"pandemic\", \"vaccine\", \"country\", \"political\", \"coming\", \"oxycontin\", \"maker\", \"give\", \"protest\", \"try\", \"really\", \"covid-19\", \"facebook\", \"world\", \"fauci\", \"little\"], \"Freq\": [23.0, 4.0, 7.0, 2.0, 2.0, 2.0, 2.0, 3.0, 4.0, 2.0, 3.0, 3.0, 2.0, 3.0, 2.0, 1.0, 1.0, 2.0, 2.0, 1.0, 3.0, 2.0, 2.0, 4.0, 1.0, 1.0, 1.0, 1.0, 1.0, 2.0, 2.772256861203188, 2.1121704297874477, 2.1120895719156088, 1.4521312572641039, 1.4521307064611622, 1.452121783453507, 1.4521162754240902, 1.45211363156997, 1.4520935823428929, 1.4520193341063539, 1.4520123939892886, 1.4520053437116351, 1.45200501322987, 1.4519315361174494, 1.45128907956627, 1.450205429858802, 2.1140607854833053, 0.7920712093092702, 0.7920707135866227, 0.7920707135866227, 0.7920707135866227, 0.7920706585063285, 0.7920704932654461, 0.7920703831048577, 0.7920702729442693, 0.792070162783681, 0.7920699975427985, 0.792069832301916, 0.7920677392507376, 0.7920672435280901, 1.453419475184113, 1.4526782045851956, 1.45178248884143, 1.4535963930889817, 1.4520201052304722, 3.4332796576197904, 7.679276987255793, 1.4529916114590133, 1.4530541826731886, 1.4529380734130817, 1.452131587745869, 0.8455023994702099, 0.792540328174702, 1.995057498230865, 1.9931553828869524, 1.3716051110061334, 1.3715813297503152, 2.620921998014366, 3.2467841870685565, 0.7481446843690098, 0.7481446362288158, 0.748144491808234, 0.748144395527846, 0.748144395527846, 0.7481442511072641, 0.7481442511072641, 0.7481441066866822, 0.7481436734249365, 0.7481436734249365, 0.7481433845837727, 0.7481384742839884, 0.7481383298634066, 0.7481380891624367, 0.7481379447418548, 0.7481378003212729, 0.7481378003212729, 0.7481378003212729, 0.748137655900691, 0.748137655900691, 0.748137559620303, 0.7481375114801091, 0.7481375114801091, 0.7481373670595273, 1.997339535985543, 10.704391910427203, 11.364822995084745, 1.291472484619563, 1.9620774215891075, 1.3735079003127617, 1.3727397753778692, 1.3707271301486146, 1.369875818958552, 1.3724728861425317, 1.3718511073972903, 1.9899249833111798, 0.7510460457190371, 0.7488783409250239, 0.7486286377389317, 0.7485343792391498, 0.7484767554269747, 0.74842399377439, 0.7482993588122167, 0.7482279669045678, 0.7481698135502591, 0.748157778501768, 1.8516172484679836, 3.0094237168329414, 1.2729835889382497, 1.2729828945559158, 1.2729818915592113, 1.272980811408914, 1.2729738675855748, 1.272446522779761, 1.8526410766425485, 0.6943548672384462, 0.6943546357776682, 0.6943544814704828, 0.6943544043168902, 0.6943543271632976, 0.6943543271632976, 0.6943539413953342, 0.6943520897091104, 0.6943519354019252, 0.6943519354019252, 0.6943518582483326, 0.6943517039411472, 0.6943517039411472, 0.6943511638659986, 0.694350855251628, 0.69435062379085, 0.6943502380228868, 0.694349929408516, 0.6943498522549234, 0.6943498522549234, 0.6943496979477382, 1.2718198813001969, 1.8563049464506673, 1.2731656714169215, 5.148000945694087, 1.2744846892369939, 3.5829634647146493, 1.2759782284836576, 1.2738989391615383, 0.695429616784165, 0.6949457866046099, 0.694729293623613, 0.6945541549682804, 0.6945385699425637, 0.6945161182471004, 0.6944464485529306, 0.6944064058383413, 0.6943804822312084, 1.7223270955230614, 1.719766619403293, 1.1840992568611544, 1.1840948386499521, 1.1776037500253755, 1.7219223382857036, 1.7206610617155622, 0.6458706204666692, 0.6458704363745358, 0.6458704977385803, 0.6458702522824024, 0.6458701295543134, 0.6458700681902689, 0.64586994546218, 0.645869822734091, 0.6458696386419576, 0.6458693931857797, 0.6458693318217352, 0.6458689022734239, 0.6458688409093795, 0.6458685954532015, 0.6458684727251126, 0.6458683499970236, 0.6458682272689347, 0.6458679818127567, 0.6458679204487123, 0.6458679204487123, 0.6458675522644455, 0.6458665704397338, 0.6458652204307553, 1.176431205863545, 1.1826468926565175, 4.934643145912384, 2.2642247495007575, 1.1900131552833981, 1.187079831229399, 3.7918919640432667, 0.6482235633880227, 0.6469130114901678, 0.6467717514597862, 0.6465987662184108, 0.6464368878690855, 0.64628145274443, 0.6462667867378005, 0.6462635344434433, 0.6461930271563414, 0.6461848043743817, 0.6461519746105876, 0.6460823264201083, 0.6460602967281417, 0.6459205094348275, 1.2906219151819773, 1.290619663145887, 1.290615159073707, 1.2906133574448349, 1.290612456630399, 0.7039742457019581, 0.7039740955662187, 0.703974020498349, 0.7039738703626097, 0.7039738703626097, 0.7039738703626097, 0.7039738703626097, 0.7039738703626097, 0.70397379529474, 0.7039736451590007, 0.7039734950232613, 0.7039728194124343, 0.7039725942088253, 0.7039725942088253, 0.7039725191409556, 0.7039725191409556, 0.7039725191409556, 0.7039723690052163, 0.7039723690052163, 0.7039722188694769, 0.7039721438016073, 0.7039720687337376, 0.7039686156117329, 0.7039685405438632, 0.7039685405438632, 1.291545400114657, 1.8788822677061159, 4.807865843321189, 3.631034657563957, 1.293093749994469, 1.2913574301690034, 0.7056123767538955, 0.7053572961327571, 0.705126237229913, 0.7050371316686148, 0.705035029768264, 0.704952905518845, 0.7046045155357069, 0.7044570822396751, 0.7043577674481017, 0.7043552902084027, 0.7042864529719154, 0.7042468922045992, 0.7042330046487103, 0.7041538831140782, 0.704120027504857, 0.7041164993149825, 0.7039969161985984, 0.703996766062859, 0.7039963907235107], \"Total\": [23.0, 4.0, 7.0, 2.0, 2.0, 2.0, 2.0, 3.0, 4.0, 2.0, 3.0, 3.0, 2.0, 3.0, 2.0, 1.0, 1.0, 2.0, 2.0, 1.0, 3.0, 2.0, 2.0, 4.0, 1.0, 1.0, 1.0, 1.0, 1.0, 2.0, 3.2376756594923144, 2.57760636975331, 2.577603590180502, 1.917542133741884, 1.917542131561112, 1.9175409423245637, 1.9175403271130687, 1.917539902875632, 1.9175373328958354, 1.9175359707816098, 1.9175356816744253, 1.9175351474964584, 1.9175352522425246, 1.9175310162087664, 1.9174852418990356, 1.9174345629468172, 3.156476939336571, 1.2574756939560208, 1.2574755754572866, 1.2574755984637944, 1.2574756645965641, 1.2574756766399453, 1.2574755959624457, 1.2574755850622346, 1.2574755307120395, 1.257475563345591, 1.257475516697651, 1.257475462736379, 1.2574752558968973, 1.2574751680175764, 2.45601513694018, 2.455876553434379, 2.5041938299841173, 2.5410833609673946, 2.540988124146351, 7.920527388421805, 32.79185873539908, 3.164506423023798, 3.661526987884986, 3.6695874853709576, 3.751126635210213, 23.698535578088403, 1.8809611112058722, 2.4677925210181852, 2.4676109717866526, 1.8443315760363723, 1.8443301528547047, 3.670064012398046, 4.95308985877984, 1.2208702794877713, 1.2208702912977538, 1.2208702986517885, 1.2208702755842515, 1.220870276881183, 1.2208702368828097, 1.2208703085049966, 1.2208702470394153, 1.2208701849934132, 1.2208702072449897, 1.220870210705479, 1.2208699413428767, 1.220869970690671, 1.2208698667138234, 1.220869921772167, 1.220869821669493, 1.220869969008523, 1.2208699703669583, 1.2208698669626978, 1.2208699614795255, 1.2208698420694122, 1.220869857340591, 1.2208698828979199, 1.2208698520337091, 3.6332265073671715, 23.698535578088403, 32.79185873539908, 2.427695085690039, 4.213579440853015, 3.0097744911252007, 3.0829602402880085, 3.164506423023798, 3.6041774035864726, 3.621333134750769, 3.751126635210213, 7.920527388421805, 1.7595098692034883, 2.4595981440462946, 2.2976304466497686, 2.467427083026074, 1.8075391212868839, 1.7995281982493663, 1.7995217472942993, 1.7591148941005892, 1.7995114229477571, 1.8809338150818526, 2.3333221646484748, 4.113879393063962, 1.7546847523551117, 1.7546849494185413, 1.7546849069452348, 1.7546849498309545, 1.7546851852149201, 1.754726732670532, 2.993243610911345, 1.1760471568371356, 1.1760471179788063, 1.1760471160829686, 1.1760470149094815, 1.1760470775137528, 1.1760471791991212, 1.1760471203709835, 1.176047233449806, 1.1760471965158945, 1.1760472058090237, 1.176047164692053, 1.1760472243025155, 1.1760473192081824, 1.1760472611538453, 1.1760473008011538, 1.176047300394452, 1.1760472927441514, 1.176047288501493, 1.1760472837540847, 1.176047309240322, 1.1760472852487085, 2.2928433303990468, 3.5793588260169, 2.378131558817742, 32.79185873539908, 3.454023535125994, 23.698535578088403, 3.661526987884986, 4.213579440853015, 1.835691164211038, 1.7994610456925855, 1.7994784211116184, 1.799490953140574, 2.386144028728235, 1.8360891936586137, 1.799500595621779, 3.4619483049541064, 1.83610843287408, 2.212106519693659, 2.212685657086516, 1.6738742230252566, 1.6738748683655624, 1.674362796270799, 2.835806241432182, 2.8722683368978914, 1.135642147287559, 1.1356421146921225, 1.1356422949163596, 1.1356422461842803, 1.135642175327714, 1.1356421495880578, 1.1356422331603837, 1.1356422549648368, 1.1356423638305604, 1.135642394193113, 1.13564237163019, 1.1356424867457913, 1.1356424531906812, 1.1356424504157936, 1.1356424818736977, 1.1356425288015726, 1.135642450918361, 1.1356425403210935, 1.1356424464542312, 1.1356426078069066, 1.1356425204984264, 1.1356427187032292, 1.135642893984432, 2.2611042627189306, 2.2976304466497686, 23.698535578088403, 7.920527388421805, 3.4619483049541064, 3.454023535125994, 32.79185873539908, 1.7587293612531412, 2.2928433303990468, 1.7142142403692147, 2.3742096056871693, 1.7955785370772759, 1.714251957639654, 1.7956174744053888, 1.7590407535691173, 1.7222630519675537, 2.382268823047546, 1.7142595791975586, 2.3009291930981233, 1.7590730272005772, 1.7142770254061515, 1.7707082274111312, 1.7707081736438135, 1.7707081920109529, 1.7707082040237951, 1.7707082381165313, 1.184058824011269, 1.1840587550741954, 1.1840587974346635, 1.1840587626640624, 1.1840587723082612, 1.1840588348949734, 1.18405884500532, 1.1840588718232412, 1.1840589404398532, 1.1840587667639844, 1.1840588378653394, 1.18405882104439, 1.1840588551780606, 1.1840588677968371, 1.1840588425621412, 1.1840588760954653, 1.1840588839053263, 1.1840588130562706, 1.1840588593374382, 1.184058813596589, 1.1840588323936228, 1.1840588479920893, 1.1840588399614786, 1.1840589013396665, 1.1840589558344559, 2.3493587448538396, 3.6041774035864726, 32.79185873539908, 23.698535578088403, 3.5923184842111864, 3.6695874853709576, 2.4674393225891054, 3.0097744911252007, 1.8074454466357257, 2.3009291930981233, 2.467427083026074, 1.8439999987447662, 2.4675215929917327, 1.8074882732013768, 1.8074949039579882, 1.8074949172363963, 2.2611042627189306, 1.8440893009283486, 3.0058151630224756, 1.844099650410353, 3.5793588260169, 2.382268823047546, 1.7626976206096818, 1.762697231311998, 1.7626974174885315], \"Category\": [\"Default\", \"Default\", \"Default\", \"Default\", \"Default\", \"Default\", \"Default\", \"Default\", \"Default\", \"Default\", \"Default\", \"Default\", \"Default\", \"Default\", \"Default\", \"Default\", \"Default\", \"Default\", \"Default\", \"Default\", \"Default\", \"Default\", \"Default\", \"Default\", \"Default\", \"Default\", \"Default\", \"Default\", \"Default\", \"Default\", \"Topic1\", \"Topic1\", \"Topic1\", \"Topic1\", \"Topic1\", \"Topic1\", \"Topic1\", \"Topic1\", \"Topic1\", \"Topic1\", \"Topic1\", \"Topic1\", \"Topic1\", \"Topic1\", \"Topic1\", \"Topic1\", \"Topic1\", \"Topic1\", \"Topic1\", \"Topic1\", \"Topic1\", \"Topic1\", \"Topic1\", \"Topic1\", \"Topic1\", \"Topic1\", \"Topic1\", \"Topic1\", \"Topic1\", \"Topic1\", \"Topic1\", \"Topic1\", \"Topic1\", \"Topic1\", \"Topic1\", \"Topic1\", \"Topic1\", \"Topic1\", \"Topic1\", \"Topic1\", \"Topic1\", \"Topic1\", \"Topic1\", \"Topic2\", \"Topic2\", \"Topic2\", \"Topic2\", \"Topic2\", \"Topic2\", \"Topic2\", \"Topic2\", \"Topic2\", \"Topic2\", \"Topic2\", \"Topic2\", \"Topic2\", \"Topic2\", \"Topic2\", \"Topic2\", \"Topic2\", \"Topic2\", \"Topic2\", \"Topic2\", \"Topic2\", \"Topic2\", \"Topic2\", \"Topic2\", \"Topic2\", \"Topic2\", \"Topic2\", \"Topic2\", \"Topic2\", \"Topic2\", \"Topic2\", \"Topic2\", \"Topic2\", \"Topic2\", \"Topic2\", \"Topic2\", \"Topic2\", \"Topic2\", \"Topic2\", \"Topic2\", \"Topic2\", \"Topic2\", \"Topic2\", \"Topic2\", \"Topic2\", \"Topic2\", \"Topic2\", \"Topic2\", \"Topic2\", \"Topic2\", \"Topic2\", \"Topic2\", \"Topic3\", \"Topic3\", \"Topic3\", \"Topic3\", \"Topic3\", \"Topic3\", \"Topic3\", \"Topic3\", \"Topic3\", \"Topic3\", \"Topic3\", \"Topic3\", \"Topic3\", \"Topic3\", \"Topic3\", \"Topic3\", \"Topic3\", \"Topic3\", \"Topic3\", \"Topic3\", \"Topic3\", \"Topic3\", \"Topic3\", \"Topic3\", \"Topic3\", \"Topic3\", \"Topic3\", \"Topic3\", \"Topic3\", \"Topic3\", \"Topic3\", \"Topic3\", \"Topic3\", \"Topic3\", \"Topic3\", \"Topic3\", \"Topic3\", \"Topic3\", \"Topic3\", \"Topic3\", \"Topic3\", \"Topic3\", \"Topic3\", \"Topic3\", \"Topic3\", \"Topic3\", \"Topic3\", \"Topic4\", \"Topic4\", \"Topic4\", \"Topic4\", \"Topic4\", \"Topic4\", \"Topic4\", \"Topic4\", \"Topic4\", \"Topic4\", \"Topic4\", \"Topic4\", \"Topic4\", \"Topic4\", \"Topic4\", \"Topic4\", \"Topic4\", \"Topic4\", \"Topic4\", \"Topic4\", \"Topic4\", \"Topic4\", \"Topic4\", \"Topic4\", \"Topic4\", \"Topic4\", \"Topic4\", \"Topic4\", \"Topic4\", \"Topic4\", \"Topic4\", \"Topic4\", \"Topic4\", \"Topic4\", \"Topic4\", \"Topic4\", \"Topic4\", \"Topic4\", \"Topic4\", \"Topic4\", \"Topic4\", \"Topic4\", \"Topic4\", \"Topic4\", \"Topic4\", \"Topic4\", \"Topic4\", \"Topic4\", \"Topic4\", \"Topic4\", \"Topic4\", \"Topic5\", \"Topic5\", \"Topic5\", \"Topic5\", \"Topic5\", \"Topic5\", \"Topic5\", \"Topic5\", \"Topic5\", \"Topic5\", \"Topic5\", \"Topic5\", \"Topic5\", \"Topic5\", \"Topic5\", \"Topic5\", \"Topic5\", \"Topic5\", \"Topic5\", \"Topic5\", \"Topic5\", \"Topic5\", \"Topic5\", \"Topic5\", \"Topic5\", \"Topic5\", \"Topic5\", \"Topic5\", \"Topic5\", \"Topic5\", \"Topic5\", \"Topic5\", \"Topic5\", \"Topic5\", \"Topic5\", \"Topic5\", \"Topic5\", \"Topic5\", \"Topic5\", \"Topic5\", \"Topic5\", \"Topic5\", \"Topic5\", \"Topic5\", \"Topic5\", \"Topic5\", \"Topic5\", \"Topic5\", \"Topic5\", \"Topic5\", \"Topic5\", \"Topic5\", \"Topic5\", \"Topic5\", \"Topic5\"], \"logprob\": [30.0, 29.0, 28.0, 27.0, 26.0, 25.0, 24.0, 23.0, 22.0, 21.0, 20.0, 19.0, 18.0, 17.0, 16.0, 15.0, 14.0, 13.0, 12.0, 11.0, 10.0, 9.0, 8.0, 7.0, 6.0, 5.0, 4.0, 3.0, 2.0, 1.0, -4.4466, -4.7185, -4.7186, -5.0932, -5.0932, -5.0932, -5.0932, -5.0932, -5.0932, -5.0933, -5.0933, -5.0933, -5.0933, -5.0933, -5.0938, -5.0945, -4.7176, -5.6993, -5.6993, -5.6993, -5.6993, -5.6993, -5.6993, -5.6993, -5.6993, -5.6993, -5.6993, -5.6993, -5.6993, -5.6993, -5.0923, -5.0928, -5.0934, -5.0922, -5.0933, -4.2327, -3.4277, -5.0926, -5.0926, -5.0926, -5.0932, -5.6341, -5.6987, -4.6409, -4.6418, -5.0156, -5.0156, -4.368, -4.1539, -5.6217, -5.6217, -5.6217, -5.6217, -5.6217, -5.6217, -5.6217, -5.6217, -5.6217, -5.6217, -5.6217, -5.6217, -5.6217, -5.6217, -5.6217, -5.6217, -5.6217, -5.6217, -5.6217, -5.6217, -5.6217, -5.6217, -5.6217, -5.6217, -4.6397, -2.9609, -2.901, -5.0758, -4.6576, -5.0142, -5.0148, -5.0162, -5.0168, -5.0149, -5.0154, -4.6435, -5.6178, -5.6207, -5.6211, -5.6212, -5.6213, -5.6213, -5.6215, -5.6216, -5.6217, -5.6217, -4.494, -4.0083, -4.8687, -4.8687, -4.8687, -4.8687, -4.8687, -4.8692, -4.4935, -5.4749, -5.4749, -5.4749, -5.4749, -5.4749, -5.4749, -5.4749, -5.4749, -5.4749, -5.4749, -5.4749, -5.4749, -5.4749, -5.4749, -5.4749, -5.4749, -5.4749, -5.4749, -5.4749, -5.4749, -5.4749, -4.8696, -4.4915, -4.8686, -3.4715, -4.8676, -3.8339, -4.8664, -4.868, -5.4733, -5.474, -5.4743, -5.4746, -5.4746, -5.4746, -5.4747, -5.4748, -5.4748, -4.3374, -4.3389, -4.7121, -4.7121, -4.7176, -4.3377, -4.3384, -5.3183, -5.3183, -5.3183, -5.3183, -5.3183, -5.3183, -5.3183, -5.3183, -5.3183, -5.3183, -5.3183, -5.3183, -5.3183, -5.3183, -5.3183, -5.3183, -5.3183, -5.3183, -5.3183, -5.3183, -5.3183, -5.3183, -5.3183, -4.7186, -4.7134, -3.2848, -4.0639, -4.7072, -4.7096, -3.5483, -5.3146, -5.3167, -5.3169, -5.3172, -5.3174, -5.3176, -5.3177, -5.3177, -5.3178, -5.3178, -5.3178, -5.3179, -5.318, -5.3182, -4.8276, -4.8276, -4.8276, -4.8276, -4.8276, -5.4337, -5.4337, -5.4337, -5.4337, -5.4337, -5.4337, -5.4337, -5.4337, -5.4337, -5.4337, -5.4337, -5.4337, -5.4337, -5.4337, -5.4337, -5.4337, -5.4337, -5.4337, -5.4337, -5.4337, -5.4337, -5.4337, -5.4337, -5.4337, -5.4337, -4.8268, -4.452, -3.5124, -3.7932, -4.8257, -4.827, -5.4314, -5.4317, -5.4321, -5.4322, -5.4322, -5.4323, -5.4328, -5.433, -5.4332, -5.4332, -5.4333, -5.4333, -5.4333, -5.4334, -5.4335, -5.4335, -5.4337, -5.4337, -5.4337], \"loglift\": [30.0, 29.0, 28.0, 27.0, 26.0, 25.0, 24.0, 23.0, 22.0, 21.0, 20.0, 19.0, 18.0, 17.0, 16.0, 15.0, 14.0, 13.0, 12.0, 11.0, 10.0, 9.0, 8.0, 7.0, 6.0, 5.0, 4.0, 3.0, 2.0, 1.0, 1.1832, 1.1392, 1.1392, 1.0604, 1.0604, 1.0604, 1.0604, 1.0604, 1.0603, 1.0603, 1.0603, 1.0603, 1.0603, 1.0602, 1.0598, 1.0591, 0.9375, 0.8762, 0.8762, 0.8762, 0.8762, 0.8762, 0.8762, 0.8762, 0.8762, 0.8762, 0.8762, 0.8762, 0.8762, 0.8762, 0.8138, 0.8133, 0.7932, 0.7798, 0.7788, 0.5024, -0.1133, 0.56, 0.4142, 0.4119, 0.3894, -1.9949, 0.4741, 1.2604, 1.2595, 1.1769, 1.1769, 1.1364, 1.0507, 0.9833, 0.9833, 0.9833, 0.9833, 0.9833, 0.9833, 0.9833, 0.9833, 0.9833, 0.9833, 0.9833, 0.9833, 0.9833, 0.9833, 0.9833, 0.9833, 0.9833, 0.9833, 0.9833, 0.9833, 0.9833, 0.9833, 0.9833, 0.9833, 0.8747, 0.6783, 0.4134, 0.8419, 0.7087, 0.6886, 0.664, 0.6364, 0.5057, 0.5028, 0.4672, 0.0917, 0.6217, 0.2839, 0.3517, 0.2802, 0.5914, 0.5957, 0.5956, 0.6182, 0.5954, 0.5511, 1.4633, 1.3819, 1.3736, 1.3736, 1.3736, 1.3736, 1.3736, 1.3731, 1.2148, 1.1676, 1.1676, 1.1676, 1.1676, 1.1676, 1.1676, 1.1676, 1.1676, 1.1676, 1.1676, 1.1676, 1.1676, 1.1676, 1.1676, 1.1676, 1.1676, 1.1676, 1.1676, 1.1676, 1.1676, 1.1676, 1.1052, 1.0379, 1.0697, -0.1571, 0.6975, -0.1947, 0.6404, 0.4983, 0.7239, 0.7431, 0.7428, 0.7425, 0.4603, 0.7223, 0.7424, 0.088, 0.7221, 1.6732, 1.6715, 1.5773, 1.5773, 1.5715, 1.4246, 1.4111, 1.3591, 1.3591, 1.3591, 1.3591, 1.3591, 1.3591, 1.3591, 1.3591, 1.3591, 1.3591, 1.3591, 1.3591, 1.3591, 1.3591, 1.3591, 1.3591, 1.3591, 1.3591, 1.3591, 1.3591, 1.3591, 1.3591, 1.3591, 1.2701, 1.2594, 0.3544, 0.6713, 0.8556, 0.8555, -0.2338, 0.9254, 0.6582, 0.9488, 0.6228, 0.9019, 0.948, 0.9016, 0.9222, 0.9432, 0.6188, 0.9478, 0.6534, 0.9218, 0.9474, 1.4057, 1.4057, 1.4057, 1.4057, 1.4057, 1.202, 1.202, 1.202, 1.202, 1.202, 1.202, 1.202, 1.202, 1.202, 1.202, 1.202, 1.202, 1.202, 1.202, 1.202, 1.202, 1.202, 1.202, 1.202, 1.202, 1.202, 1.202, 1.202, 1.202, 1.202, 1.1236, 1.0705, -0.198, -0.154, 0.7002, 0.6775, 0.4701, 0.271, 0.7806, 0.5391, 0.4692, 0.7604, 0.4686, 0.7797, 0.7795, 0.7795, 0.5555, 0.7593, 0.2707, 0.7592, 0.0959, 0.5031, 0.8041, 0.8041, 0.8041]}, \"token.table\": {\"Topic\": [2, 4, 5, 1, 2, 3, 2, 4, 2, 3, 5, 1, 2, 4, 5, 1, 2, 5, 1, 1, 1, 2, 3, 1, 3, 4, 4, 1, 3, 5, 1, 2, 3, 4, 5, 5, 1, 3, 2, 3, 5, 3, 4, 5, 1, 4, 5, 1, 1, 2, 5, 2, 3, 3, 2, 5, 5, 3, 1, 5, 1, 5, 1, 4, 4, 2, 4, 1, 3, 5, 4, 2, 5, 3, 2, 3, 5, 5, 1, 2, 3, 2, 3, 3, 2, 3, 4, 5, 2, 3, 4, 1, 2, 4, 3, 4, 5, 1, 4, 5, 2, 3, 3, 5, 1, 4, 1, 2, 3, 1, 4, 5, 1, 2, 2, 3, 4, 4, 5, 5, 2, 3, 1, 3, 5, 5, 1, 1, 1, 2, 2, 2, 5, 2, 4, 5, 5, 3, 3, 2, 2, 2, 3, 3, 1, 1, 2, 5, 3, 2, 2, 1, 3, 5, 4, 3, 5, 5, 2, 4, 2, 5, 3, 3, 1, 2, 1, 3, 4, 3, 1, 3, 1, 3, 4, 2, 5, 1, 2, 1, 4, 4, 3, 4, 2, 3, 1, 1, 3, 4, 3, 2, 2, 5, 3, 4, 5, 2, 3, 1, 4, 5, 2, 1, 4, 1, 2, 3, 4, 1, 4, 2, 1, 2, 5, 1, 5, 1, 5, 4, 3, 5, 5, 1, 3, 1, 5, 5, 5, 4, 4, 1, 5, 3, 2, 3, 5, 2, 3, 2, 3, 4, 3, 4, 1, 4, 2, 3, 5, 2, 5, 1, 3, 1, 2, 3, 4, 1, 2, 2, 4, 4, 5, 1, 5, 5, 2, 4, 1, 2, 3, 4, 4, 1, 2, 1, 2, 2, 1, 1, 1, 3, 2, 5, 4, 2, 4, 2, 4, 3, 3, 1, 4, 1, 2, 3, 4, 5, 1, 2, 4, 5, 2, 4, 4, 1, 2, 5, 2, 3, 4, 5, 1, 3, 2, 4, 1, 2, 3, 2, 3, 5, 2, 3, 2, 3, 3, 4, 5, 3, 5, 2, 2, 5], \"Freq\": [0.8190879032772802, 0.8805588128932391, 0.5647457805411865, 0.32436357333839005, 0.32436357333839005, 0.32436357333839005, 0.5683400914668865, 0.5683400914668865, 0.3322508058157378, 0.3322508058157378, 0.3322508058157378, 0.2783717547303113, 0.2783717547303113, 0.2783717547303113, 0.2783717547303113, 0.4052784564325948, 0.4052784564325948, 0.4052784564325948, 0.7952441026297782, 0.5215026815703282, 0.7952443320026041, 0.8104409033441843, 0.8503059291432405, 0.42119280353537664, 0.42119280353537664, 0.42119280353537664, 0.5974164523500828, 0.2725101946708079, 0.2725101946708079, 0.2725101946708079, 0.0421967001591692, 0.46416370175086125, 0.1687868006366768, 0.21098350079584602, 0.1687868006366768, 0.844552601054521, 0.7952440179594489, 0.8503059475703046, 0.5504749004623183, 0.27523745023115914, 0.27523745023115914, 0.5833448201960321, 0.5833448201960321, 0.5647457771268297, 0.5569235649406535, 0.5569235649406535, 0.844552552112415, 0.5215012508612917, 0.26658657444764194, 0.26658657444764194, 0.26658657444764194, 0.8190878204127505, 0.8503060106452834, 0.8503060039261624, 0.5532539352129935, 0.5532539352129935, 0.8445526252756436, 0.8503059905549926, 0.5215027983608214, 0.8445526425857945, 0.5422993496099309, 0.5422993496099309, 0.4071865903038029, 0.4071865903038029, 0.8805587190244187, 0.5685923155837198, 0.5685923155837198, 0.27937964551958516, 0.5587592910391703, 0.27937964551958516, 0.8805591013777296, 0.553267044303518, 0.553267044303518, 0.8503059219362765, 0.4746558189004054, 0.2373279094502027, 0.2373279094502027, 0.8445526273943139, 0.5215009268394035, 0.24307956176012577, 0.7292386852803773, 0.5557063918838107, 0.5557063918838107, 0.5699028764858187, 0.28885468872223863, 0.28885468872223863, 0.28885468872223863, 0.28885468872223863, 0.8174244345236307, 0.2724748115078769, 0.8805587713518185, 0.3787626571919173, 0.2525084381279449, 0.2525084381279449, 0.8571469599446885, 0.8805590543618447, 0.8445526291784502, 0.4197679079394315, 0.4197679079394315, 0.4197679079394315, 0.8190880798737666, 0.5698893060562725, 0.5673124018330064, 0.5673124018330064, 0.7952440597826775, 0.5972421283053088, 0.7952439993921459, 0.4119133436049955, 0.4119133436049955, 0.40716361432765735, 0.40716361432765735, 0.8445526541135979, 0.521530183780116, 0.8190881059547053, 0.8190881266616692, 0.5699027999016909, 0.8805588846570944, 0.4422617817709657, 0.4422617817709657, 0.8445525924367431, 0.5557127132285623, 0.5557127132285623, 0.2731100995045872, 0.2731100995045872, 0.2731100995045872, 0.8445525980072756, 0.9265906519093443, 0.5215026029432911, 0.7952440682579999, 0.8190880481826471, 0.8190881166457308, 0.8190881333467694, 0.8445526099602585, 0.8190878424994389, 0.5806313959168877, 0.5806313959168877, 0.8445526201829158, 0.8503059352449295, 0.8503060393338331, 0.5422022724359695, 0.8190880470540853, 0.8105005298107899, 0.8503059639107348, 0.8503060674291972, 0.7759136629505653, 0.3935476874123336, 0.3935476874123336, 0.8445526237805322, 0.8503060231656625, 0.8190880472712657, 0.8190878684644265, 0.5446301438933481, 0.5446301438933481, 0.5647457918316415, 0.8805590761037396, 0.5673123419133314, 0.5673123419133314, 0.8445526759900488, 0.5684812310444094, 0.5684812310444094, 0.5532519015483424, 0.5532519015483424, 0.8503059441378326, 0.8503061419504291, 0.3160050467031331, 0.3160050467031331, 0.5215009274324933, 0.5833362899809481, 0.5833362899809481, 0.8503060687999267, 0.5215028268481045, 0.8503060656996043, 0.521503950417002, 0.5699028763518713, 0.8805589616347024, 0.5532383715645648, 0.5532383715645648, 0.5215022324962066, 0.8190878319571735, 0.7952441114926624, 0.880558908199731, 0.9041155939800618, 0.4361396990111661, 0.4361396990111661, 0.5557097354860676, 0.5557097354860676, 0.7952440819918907, 0.5446358507275934, 0.5446358507275934, 0.8805590095193058, 0.8503059464896615, 0.8190878883485867, 0.5532519056126993, 0.5532519056126993, 0.43460702876020874, 0.43460702876020874, 0.43460702876020874, 0.5557032036448387, 0.5557032036448387, 0.5215015335536713, 0.8805589994207826, 0.844552612927014, 0.8190878416293212, 0.7952440103430576, 0.88055884067325, 0.4065704808001262, 0.4065704808001262, 0.4065704808001262, 0.8805588389113294, 0.7952440743322952, 0.8805588441346641, 0.8190878398805485, 0.40526494391789925, 0.40526494391789925, 0.40526494391789925, 0.3993301109628333, 0.3993301109628333, 0.7759144996612709, 0.8445526219255598, 0.5974162220240748, 0.42564806340898476, 0.42564806340898476, 0.8445526039264306, 0.7952441456184844, 0.8503060336545679, 0.5422730881289651, 0.5422730881289651, 0.8445525411319221, 0.8445526720354868, 0.8805584971270982, 0.9038789552391445, 0.5422700447763101, 0.5422700447763101, 0.5699029404899171, 0.5557012115580235, 0.5557012115580235, 0.8445526372735077, 0.5422018540446433, 0.8503059839413162, 0.4204981832448064, 0.4204981832448064, 0.8805587867219926, 0.5833422266586359, 0.5833422266586359, 0.34815688602410333, 0.6963137720482067, 0.8190880667436743, 0.8503060966862578, 0.8445526180525454, 0.819088053233891, 0.8445526351573245, 0.3340857377443905, 0.668171475488781, 0.5316508172598742, 0.5316508172598742, 0.5833576553328689, 0.5833576553328689, 0.7952440613645633, 0.8190881470331849, 0.8190878270233157, 0.8805587802838678, 0.8805588166709817, 0.8445526843280154, 0.5215163997870574, 0.564745788000292, 0.8445525800013675, 0.5684916611346194, 0.5684916611346194, 0.2761413995315355, 0.2761413995315355, 0.2761413995315355, 0.2761413995315355, 0.8805589926124784, 0.5316431020516454, 0.5316431020516454, 0.39353293770704884, 0.39353293770704884, 0.8190878616503097, 0.5215014181764505, 0.795244276426535, 0.6336178082201863, 0.31680890411009316, 0.819088116812702, 0.5647457976896169, 0.8805588410629325, 0.4352310013379761, 0.4352310013379761, 0.35263340117869435, 0.7052668023573887, 0.850305935538983, 0.8503059410703049, 0.556911488250662, 0.556911488250662, 0.2439629929048192, 0.3354491152441264, 0.152476870565512, 0.1219814964524096, 0.152476870565512, 0.33268845413450415, 0.33268845413450415, 0.33268845413450415, 0.33268845413450415, 0.8190881231012537, 0.880559074319969, 0.8805589021520231, 0.4052804667984723, 0.4052804667984723, 0.4052804667984723, 0.28951742506396166, 0.28951742506396166, 0.28951742506396166, 0.844552642971187, 0.5447539430903074, 0.5447539430903074, 0.5684677012022492, 0.5684677012022492, 0.20189417686969707, 0.6056825306090912, 0.20189417686969707, 0.4190861858967411, 0.4190861858967411, 0.4190861858967411, 0.555716583354334, 0.555716583354334, 0.5557219492990553, 0.5557219492990553, 0.5699028902806941, 0.8805586330372309, 0.8445526789143969, 0.5673122765401589, 0.5673122765401589, 0.8190878860269273, 0.277455820849693, 0.554911641699386], \"Term\": [\"(still\", \"accept\", \"actually\", \"administration\", \"administration\", \"administration\", \"agree\", \"agree\", \"america\", \"america\", \"america\", \"american\", \"american\", \"american\", \"american\", \"another\", \"another\", \"another\", \"anything\", \"arm\", \"article\", \"attack\", \"baker\", \"ballot\", \"ballot\", \"ballot\", \"barack\", \"barrett\", \"barrett\", \"barrett\", \"biden\", \"biden\", \"biden\", \"biden\", \"biden\", \"bounty\", \"broadway\", \"cabinet\", \"campaign\", \"campaign\", \"campaign\", \"candidate\", \"candidate\", \"change\", \"check\", \"check\", \"chief\", \"child\", \"claim\", \"claim\", \"claim\", \"college\", \"colorado\", \"combat\", \"coming\", \"coming\", \"commander\", \"commit\", \"company\", \"corruption\", \"country\", \"country\", \"court\", \"court\", \"cover\", \"covid\", \"covid\", \"covid-19\", \"covid-19\", \"covid-19\", \"crazy\", \"cringe\", \"cringe\", \"deadline\", \"debate\", \"debate\", \"debate\", \"decent\", \"democracy\", \"democrat\", \"democrat\", \"destroy\", \"destroy\", \"dollar\", \"donald\", \"donald\", \"donald\", \"donald\", \"early\", \"early\", \"edward\", \"election\", \"election\", \"election\", \"endorsement\", \"enter\", \"exuberant\", \"facebook\", \"facebook\", \"facebook\", \"fake\", \"family\", \"fauci\", \"fauci\", \"feature\", \"federal\", \"fiddler\", \"final\", \"final\", \"force\", \"force\", \"forward\", \"found\", \"frankly\", \"fundraise\", \"funny\", \"georgia\", \"give\", \"give\", \"giving\", \"going\", \"going\", \"great\", \"great\", \"great\", \"grisly\", \"group\", \"guard\", \"hamilton\", \"health\", \"healthcare\", \"heavy\", \"heights\", \"hold\", \"hope\", \"hope\", \"house\", \"human\", \"hundred\", \"hunter\", \"illegal\", \"information\", \"innocent\", \"involve\", \"israel\", \"issue\", \"issue\", \"laugh\", \"laundering\", \"lawmaker\", \"lead\", \"leading\", \"leading\", \"likely\", \"liken\", \"little\", \"little\", \"looking\", \"lose\", \"lose\", \"maker\", \"maker\", \"mandate\", \"meadow\", \"medium\", \"medium\", \"member\", \"might\", \"might\", \"million\", \"minnesota\", \"money\", \"monitor\", \"montana\", \"month\", \"morning\", \"morning\", \"mother\", \"muhlenberg\", \"nat\\u2019l\", \"negotiation\", \"obama\", \"offense\", \"offense\", \"online\", \"online\", \"opera\", \"opinion\", \"opinion\", \"optimistic\", \"others\", \"overtake\", \"oxycontin\", \"oxycontin\", \"pandemic\", \"pandemic\", \"pandemic\", \"pass\", \"pass\", \"peace\", \"pelosi\", \"penchant\", \"pennsylvania\", \"performer\", \"permanent\", \"person\", \"person\", \"person\", \"personal\", \"phantom\", \"philly\", \"point\", \"political\", \"political\", \"political\", \"politician\", \"politician\", \"polls\", \"pornographic\", \"presidency\", \"presidential\", \"presidential\", \"preview\", \"production\", \"protect\", \"protest\", \"protest\", \"purdue\", \"putting\", \"queation\", \"rally\", \"really\", \"really\", \"receive\", \"record\", \"record\", \"reelect\", \"register\", \"registration\", \"republican\", \"republican\", \"residency\", \"right\", \"right\", \"russia\", \"russia\", \"santa\", \"scheme\", \"second\", \"security\", \"seeing\", \"senate\", \"senate\", \"senator\", \"senator\", \"serious\", \"serious\", \"sesame\", \"shopping\", \"show\", \"sister\", \"snowden\", \"soldier\", \"solving\", \"someone\", \"spark\", \"speech\", \"speech\", \"state\", \"state\", \"state\", \"state\", \"stimulus\", \"story\", \"story\", \"street\", \"street\", \"stretch\", \"sudan\", \"sundance\", \"supporter\", \"supporter\", \"thehill\", \"thing\", \"third\", \"thought\", \"thought\", \"today\", \"today\", \"tomorrow\", \"traffic\", \"troll\", \"troll\", \"trump\", \"trump\", \"trump\", \"trump\", \"trump\", \"try\", \"try\", \"try\", \"try\", \"unacceptable\", \"uncle\", \"upload\", \"vaccine\", \"vaccine\", \"vaccine\", \"video\", \"video\", \"video\", \"vindictiveness\", \"voice\", \"voice\", \"vote\", \"vote\", \"voter\", \"voter\", \"voter\", \"voting\", \"voting\", \"voting\", \"washington\", \"washington\", \"watch\", \"watch\", \"watching\", \"whistleblower\", \"white\", \"world\", \"world\", \"worrisome\", \"would\", \"would\"]}, \"R\": 30, \"lambda.step\": 0.01, \"plot.opts\": {\"xlab\": \"PC1\", \"ylab\": \"PC2\"}, \"topic.order\": [1, 2, 3, 4, 5]};\n",
              "\n",
              "function LDAvis_load_lib(url, callback){\n",
              "  var s = document.createElement('script');\n",
              "  s.src = url;\n",
              "  s.async = true;\n",
              "  s.onreadystatechange = s.onload = callback;\n",
              "  s.onerror = function(){console.warn(\"failed to load library \" + url);};\n",
              "  document.getElementsByTagName(\"head\")[0].appendChild(s);\n",
              "}\n",
              "\n",
              "if(typeof(LDAvis) !== \"undefined\"){\n",
              "   // already loaded: just create the visualization\n",
              "   !function(LDAvis){\n",
              "       new LDAvis(\"#\" + \"ldavis_el681397904201604006215876104\", ldavis_el681397904201604006215876104_data);\n",
              "   }(LDAvis);\n",
              "}else if(typeof define === \"function\" && define.amd){\n",
              "   // require.js is available: use it to load d3/LDAvis\n",
              "   require.config({paths: {d3: \"https://d3js.org/d3.v5\"}});\n",
              "   require([\"d3\"], function(d3){\n",
              "      window.d3 = d3;\n",
              "      LDAvis_load_lib(\"https://cdn.jsdelivr.net/gh/bmabey/pyLDAvis@3.3.1/pyLDAvis/js/ldavis.v3.0.0.js\", function(){\n",
              "        new LDAvis(\"#\" + \"ldavis_el681397904201604006215876104\", ldavis_el681397904201604006215876104_data);\n",
              "      });\n",
              "    });\n",
              "}else{\n",
              "    // require.js not available: dynamically load d3 & LDAvis\n",
              "    LDAvis_load_lib(\"https://d3js.org/d3.v5.js\", function(){\n",
              "         LDAvis_load_lib(\"https://cdn.jsdelivr.net/gh/bmabey/pyLDAvis@3.3.1/pyLDAvis/js/ldavis.v3.0.0.js\", function(){\n",
              "                 new LDAvis(\"#\" + \"ldavis_el681397904201604006215876104\", ldavis_el681397904201604006215876104_data);\n",
              "            })\n",
              "         });\n",
              "}\n",
              "</script>"
            ]
          },
          "metadata": {},
          "execution_count": 39
        }
      ]
    },
    {
      "cell_type": "code",
      "metadata": {
        "id": "nzrAkZ4JKCzN",
        "outputId": "5cd40a2e-5681-4e86-dff2-6faa4afaa1e2",
        "colab": {
          "base_uri": "https://localhost:8080/",
          "height": 1000
        }
      },
      "source": [
        "lda3 = gensim.models.ldamodel.LdaModel.load('model3.gensim')\n",
        "lda_display3 = gensimvis.prepare(lda3, corpus, dictionary, sort_topics=False)\n",
        "pyLDAvis.display(lda_display3)"
      ],
      "execution_count": 41,
      "outputs": [
        {
          "output_type": "stream",
          "name": "stderr",
          "text": [
            "/usr/local/lib/python3.8/dist-packages/smart_open/smart_open_lib.py:494: DeprecationWarning: This function is deprecated.  See https://github.com/RaRe-Technologies/smart_open/blob/develop/MIGRATING_FROM_OLDER_VERSIONS.rst for more information\n",
            "  warnings.warn(message, category=DeprecationWarning)\n",
            "/usr/local/lib/python3.8/dist-packages/smart_open/smart_open_lib.py:494: DeprecationWarning: This function is deprecated.  See https://github.com/RaRe-Technologies/smart_open/blob/develop/MIGRATING_FROM_OLDER_VERSIONS.rst for more information\n",
            "  warnings.warn(message, category=DeprecationWarning)\n",
            "/usr/local/lib/python3.8/dist-packages/smart_open/smart_open_lib.py:494: DeprecationWarning: This function is deprecated.  See https://github.com/RaRe-Technologies/smart_open/blob/develop/MIGRATING_FROM_OLDER_VERSIONS.rst for more information\n",
            "  warnings.warn(message, category=DeprecationWarning)\n",
            "/usr/local/lib/python3.8/dist-packages/pyLDAvis/_prepare.py:246: FutureWarning: In a future version of pandas all arguments of DataFrame.drop except for the argument 'labels' will be keyword-only\n",
            "  default_term_info = default_term_info.sort_values(\n"
          ]
        },
        {
          "output_type": "execute_result",
          "data": {
            "text/plain": [
              "<IPython.core.display.HTML object>"
            ],
            "text/html": [
              "\n",
              "<link rel=\"stylesheet\" type=\"text/css\" href=\"https://cdn.jsdelivr.net/gh/bmabey/pyLDAvis@3.3.1/pyLDAvis/js/ldavis.v1.0.0.css\">\n",
              "\n",
              "\n",
              "<div id=\"ldavis_el681397904091484487220890102\"></div>\n",
              "<script type=\"text/javascript\">\n",
              "\n",
              "var ldavis_el681397904091484487220890102_data = {\"mdsDat\": {\"x\": [-0.028231230068462797, -0.07368204317866199, 0.10191327324712478], \"y\": [-0.08952672453409374, 0.06635376919569147, 0.0231729553384023], \"topics\": [1, 2, 3], \"cluster\": [1, 1, 1], \"Freq\": [31.292204077891046, 41.72913114104636, 26.978664781062594]}, \"tinfo\": {\"Term\": [\"trump\", \"covid-19\", \"american\", \"today\", \"democrat\", \"court\", \"donald\", \"early\", \"attack\", \"republican\", \"another\", \"election\", \"try\", \"voice\", \"receive\", \"confirmation\", \"solving\", \"coming\", \"supporter\", \"information\", \"pandemic\", \"barrett\", \"biden\", \"political\", \"politician\", \"ballot\", \"thought\", \"register\", \"protest\", \"watching\", \"american\", \"today\", \"attack\", \"republican\", \"another\", \"register\", \"protest\", \"watching\", \"leading\", \"actually\", \"watch\", \"change\", \"sudan\", \"peace\", \"cringe\", \"thing\", \"democrat\", \"pandemic\", \"early\", \"worrisome\", \"(still\", \"overtake\", \"practice\", \"spark\", \"guilty\", \"opioid\", \"plead\", \"purdue\", \"opposition\", \"georgia\", \"supporter\", \"senate\", \"israel\", \"voting\", \"person\", \"biden\", \"trump\", \"voter\", \"going\", \"russia\", \"administration\", \"claim\", \"donald\", \"try\", \"polls\", \"endorsement\", \"obama\", \"offense\", \"presidential\", \"vaccine\", \"minnesota\", \"company\", \"arm\", \"guard\", \"barack\", \"online\", \"morning\", \"lose\", \"federal\", \"child\", \"world\", \"mother\", \"serious\", \"agree\", \"would\", \"trump\", \"campaign\", \"pennsylvania\", \"hold\", \"point\", \"lead\", \"stretch\", \"biden\", \"election\", \"video\", \"rally\", \"force\", \"voter\", \"debate\", \"medium\", \"america\", \"great\", \"state\", \"covid-19\", \"court\", \"voice\", \"receive\", \"confirmation\", \"solving\", \"coming\", \"broadway\", \"production\", \"nat\\u2019l\", \"fiddler\", \"anything\", \"opera\", \"performer\", \"phantom\", \"hamilton\", \"feature\", \"sesame\", \"hundred\", \"involve\", \"scheme\", \"money\", \"laundering\", \"meadow\", \"million\", \"promise\", \"interest\", \"label\", \"prompt\", \"defense\", \"information\", \"barrett\", \"street\", \"political\", \"politician\", \"ballot\", \"facebook\", \"issue\", \"thought\", \"election\", \"debate\", \"group\", \"america\", \"state\", \"great\", \"biden\", \"covid\", \"story\", \"final\", \"candidate\", \"medium\", \"dollar\", \"really\"], \"Freq\": [33.0, 3.0, 3.0, 2.0, 4.0, 2.0, 3.0, 3.0, 2.0, 2.0, 2.0, 7.0, 3.0, 1.0, 1.0, 1.0, 1.0, 1.0, 3.0, 2.0, 2.0, 3.0, 24.0, 2.0, 2.0, 2.0, 2.0, 1.0, 1.0, 1.0, 3.1690973432336755, 2.5748104792172244, 1.9807202427747086, 1.9792807606960066, 1.9791511652495493, 1.3865782207278274, 1.3864122176356617, 1.3857859272681474, 1.3857672634208889, 1.3856635607766141, 1.3857209981093748, 1.385612038043337, 1.3855174044516034, 1.3854815225480712, 1.3852320578854183, 1.384609710584226, 3.1200445467007816, 1.7374705098231786, 2.6015029352500165, 0.7922366795250415, 0.7922362852184093, 0.7922337879430719, 0.7921482891216516, 0.792147303355071, 0.7921460547174023, 0.7921462518707184, 0.7921456604107701, 0.7921450689508217, 0.7921423745221682, 0.7921222648839249, 1.988872400960375, 1.871062911175772, 1.4074178519829894, 1.4028683420604005, 1.3903873542306457, 8.570460742300018, 7.923848862445397, 1.9962071614974433, 1.0379409055443876, 1.3827753961311249, 1.3933967024477716, 1.3995368453247483, 3.3953735520973574, 2.7588166634611095, 2.122267136307733, 2.121876802442158, 2.121861027836005, 2.119318862417818, 2.039076771114333, 2.0168259880425277, 1.4854741543994017, 1.485473979126, 1.4854676692835391, 1.485463112175095, 1.485399838477083, 1.4853370905992762, 1.4852869624063914, 1.4852079141022267, 1.4851269377906435, 1.485122731229003, 1.4849020620162685, 1.4844509082803052, 1.4843478475201084, 1.4810250143707706, 2.916072835829059, 25.548972780864432, 2.774865923034135, 0.8487717888397469, 0.8487716135663452, 0.8487699484690291, 0.8487699484690291, 0.848767669914807, 12.991738472927034, 4.0595472189983095, 2.140149405115687, 1.496971213183599, 1.4959823206512346, 2.132529218703586, 1.6002861198128395, 1.5024534146418218, 1.4978971825647547, 1.4950184922153127, 1.4949848397221872, 2.914631749227394, 1.8858661407204225, 1.3199171148767816, 1.3198564899946492, 1.3192936417898797, 1.319215226054486, 1.3136623268037675, 0.754364190482662, 0.7543609042740977, 0.7543607342977927, 0.7543601677101093, 0.7543601110513409, 0.7543599410750359, 0.7543598844162676, 0.7543595444636574, 0.7543590345347423, 0.7543587512409006, 0.7543582413119854, 0.7542589184910713, 0.7542545557659085, 0.7542495131355256, 0.7542463969032663, 0.7542430540359338, 0.7542423741307137, 0.754237558135404, 0.7542168210261887, 0.7542152912394433, 0.7542141580640763, 0.7542056592488241, 0.7542049226848356, 1.3893081283304638, 1.929237181397948, 1.352636193787338, 1.330851350627661, 1.3300589210935452, 1.3243719671969152, 1.3311353243746213, 1.3303503737979276, 1.30700979417695, 3.0784367812230626, 1.8299020088723237, 1.308211186701002, 1.3087285945735563, 1.3303892417130143, 1.320202561751719, 2.93045767640237, 0.7866683005738371, 0.7688846429761308, 0.7686877537561214, 0.7633721980860128, 0.7686036721438929, 0.7605637929153052, 0.759461836529704], \"Total\": [33.0, 3.0, 3.0, 2.0, 4.0, 2.0, 3.0, 3.0, 2.0, 2.0, 2.0, 7.0, 3.0, 1.0, 1.0, 1.0, 1.0, 1.0, 3.0, 2.0, 2.0, 3.0, 24.0, 2.0, 2.0, 2.0, 2.0, 1.0, 1.0, 1.0, 3.570739587784222, 2.9763935691793866, 2.3820438913436317, 2.382033081478827, 2.382042663590206, 1.7877002423284285, 1.787701151125443, 1.787714727583792, 1.7877463692208906, 1.7876526977219607, 1.7877326681481531, 1.7876622208751782, 1.787670570666195, 1.7876688587774467, 1.787661064230389, 1.787606558760249, 4.211018041692771, 2.399328507584105, 3.6112784518198664, 1.1933571234638654, 1.1933571074299352, 1.193357187089304, 1.1933575340139626, 1.1933575280585225, 1.1933572988763603, 1.1933576151304923, 1.193357303628493, 1.1933575355311425, 1.1933573909482265, 1.1933559969917997, 3.018227335601113, 3.026628460063918, 2.354654182328053, 2.354478985285653, 2.35380652748532, 24.492656891629423, 33.78251626140828, 4.86016413805734, 1.8125202694093903, 3.000144287367439, 3.0607764836803084, 3.62701374028432, 3.782951912124764, 3.146169673852416, 2.5093890233742098, 2.5093535052578737, 2.5093583623238844, 2.5090994866169583, 2.5001356533431163, 2.4976629670643913, 1.8725855129538562, 1.8725856427256569, 1.8725849276965985, 1.8725846377138349, 1.8725791686931617, 1.8725728038127913, 1.8725694347671076, 1.872561097134542, 1.8725551739032444, 1.8725532804184246, 1.8725345785372742, 1.872491744977064, 1.8724936671329637, 1.8722384185288783, 3.7295950379064715, 33.78251626140828, 3.741568532316592, 1.23579035188534, 1.2357902541896562, 1.235790199833932, 1.235790224746192, 1.23578987880816, 24.492656891629423, 7.842369884982622, 3.6992490811825514, 2.467681343188135, 2.4673408191546464, 4.86016413805734, 4.1751041349948945, 3.033253515534847, 3.0057937208399395, 3.599368138625386, 3.598853660183167, 3.4413962647737257, 2.2967284057465664, 1.730839143615197, 1.7308491425661299, 1.7309200782726923, 1.7308883249473823, 1.731624291031979, 1.1649180464805498, 1.1649183639070262, 1.1649185009420284, 1.1649186026183267, 1.164918600639837, 1.1649185841350482, 1.1649186259651554, 1.1649185817132586, 1.164918597380216, 1.1649186866886567, 1.1649186422736317, 1.1649272798604575, 1.1649276272178213, 1.1649280614910973, 1.164928137884703, 1.1649283987011794, 1.1649285349639422, 1.1649286750246315, 1.1649308924905255, 1.1649308465602823, 1.1649310664886254, 1.164932762031489, 1.1649325343803363, 2.3217428256595634, 3.5241929634278018, 2.3635286967914206, 2.3246510661235025, 2.324696748893679, 2.324967668822744, 2.366224889255003, 2.3662768440521225, 2.3258901079389585, 7.842369884982622, 4.1751041349948945, 2.964963211798943, 3.0057937208399395, 3.598853660183167, 3.599368138625386, 24.492656891629423, 1.7975928059238362, 1.7998754307862472, 2.3947061004083077, 1.800516594755488, 3.033253515534847, 1.8009058730947656, 1.8010470112436336], \"Category\": [\"Default\", \"Default\", \"Default\", \"Default\", \"Default\", \"Default\", \"Default\", \"Default\", \"Default\", \"Default\", \"Default\", \"Default\", \"Default\", \"Default\", \"Default\", \"Default\", \"Default\", \"Default\", \"Default\", \"Default\", \"Default\", \"Default\", \"Default\", \"Default\", \"Default\", \"Default\", \"Default\", \"Default\", \"Default\", \"Default\", \"Topic1\", \"Topic1\", \"Topic1\", \"Topic1\", \"Topic1\", \"Topic1\", \"Topic1\", \"Topic1\", \"Topic1\", \"Topic1\", \"Topic1\", \"Topic1\", \"Topic1\", \"Topic1\", \"Topic1\", \"Topic1\", \"Topic1\", \"Topic1\", \"Topic1\", \"Topic1\", \"Topic1\", \"Topic1\", \"Topic1\", \"Topic1\", \"Topic1\", \"Topic1\", \"Topic1\", \"Topic1\", \"Topic1\", \"Topic1\", \"Topic1\", \"Topic1\", \"Topic1\", \"Topic1\", \"Topic1\", \"Topic1\", \"Topic1\", \"Topic1\", \"Topic1\", \"Topic1\", \"Topic1\", \"Topic1\", \"Topic2\", \"Topic2\", \"Topic2\", \"Topic2\", \"Topic2\", \"Topic2\", \"Topic2\", \"Topic2\", \"Topic2\", \"Topic2\", \"Topic2\", \"Topic2\", \"Topic2\", \"Topic2\", \"Topic2\", \"Topic2\", \"Topic2\", \"Topic2\", \"Topic2\", \"Topic2\", \"Topic2\", \"Topic2\", \"Topic2\", \"Topic2\", \"Topic2\", \"Topic2\", \"Topic2\", \"Topic2\", \"Topic2\", \"Topic2\", \"Topic2\", \"Topic2\", \"Topic2\", \"Topic2\", \"Topic2\", \"Topic2\", \"Topic2\", \"Topic2\", \"Topic2\", \"Topic2\", \"Topic2\", \"Topic3\", \"Topic3\", \"Topic3\", \"Topic3\", \"Topic3\", \"Topic3\", \"Topic3\", \"Topic3\", \"Topic3\", \"Topic3\", \"Topic3\", \"Topic3\", \"Topic3\", \"Topic3\", \"Topic3\", \"Topic3\", \"Topic3\", \"Topic3\", \"Topic3\", \"Topic3\", \"Topic3\", \"Topic3\", \"Topic3\", \"Topic3\", \"Topic3\", \"Topic3\", \"Topic3\", \"Topic3\", \"Topic3\", \"Topic3\", \"Topic3\", \"Topic3\", \"Topic3\", \"Topic3\", \"Topic3\", \"Topic3\", \"Topic3\", \"Topic3\", \"Topic3\", \"Topic3\", \"Topic3\", \"Topic3\", \"Topic3\", \"Topic3\", \"Topic3\", \"Topic3\", \"Topic3\", \"Topic3\", \"Topic3\", \"Topic3\", \"Topic3\", \"Topic3\", \"Topic3\"], \"logprob\": [30.0, 29.0, 28.0, 27.0, 26.0, 25.0, 24.0, 23.0, 22.0, 21.0, 20.0, 19.0, 18.0, 17.0, 16.0, 15.0, 14.0, 13.0, 12.0, 11.0, 10.0, 9.0, 8.0, 7.0, 6.0, 5.0, 4.0, 3.0, 2.0, 1.0, -4.4894, -4.697, -4.9594, -4.9601, -4.9601, -5.316, -5.3161, -5.3165, -5.3166, -5.3166, -5.3166, -5.3167, -5.3167, -5.3168, -5.3169, -5.3174, -4.505, -5.0904, -4.6867, -5.8757, -5.8757, -5.8757, -5.8758, -5.8758, -5.8758, -5.8758, -5.8758, -5.8758, -5.8758, -5.8759, -4.9552, -5.0163, -5.3011, -5.3043, -5.3132, -3.4945, -3.5729, -4.9516, -5.6056, -5.3187, -5.3111, -5.3067, -4.7082, -4.9158, -5.1782, -5.1783, -5.1784, -5.1795, -5.2181, -5.2291, -5.5349, -5.5349, -5.5349, -5.5349, -5.535, -5.535, -5.535, -5.5351, -5.5351, -5.5351, -5.5353, -5.5356, -5.5357, -5.5379, -4.8604, -2.69, -4.91, -6.0946, -6.0946, -6.0946, -6.0946, -6.0946, -3.3663, -4.5296, -5.1698, -5.5272, -5.5279, -5.1733, -5.4605, -5.5235, -5.5266, -5.5285, -5.5285, -4.4247, -4.8601, -5.2169, -5.217, -5.2174, -5.2175, -5.2217, -5.7764, -5.7764, -5.7764, -5.7764, -5.7764, -5.7764, -5.7764, -5.7764, -5.7764, -5.7764, -5.7764, -5.7765, -5.7765, -5.7765, -5.7765, -5.7765, -5.7765, -5.7765, -5.7766, -5.7766, -5.7766, -5.7766, -5.7766, -5.1657, -4.8374, -5.1924, -5.2087, -5.2093, -5.2136, -5.2085, -5.209, -5.2267, -4.3701, -4.8902, -5.2258, -5.2254, -5.209, -5.2167, -4.4193, -5.7344, -5.7573, -5.7576, -5.7645, -5.7577, -5.7682, -5.7696], \"loglift\": [30.0, 29.0, 28.0, 27.0, 26.0, 25.0, 24.0, 23.0, 22.0, 21.0, 20.0, 19.0, 18.0, 17.0, 16.0, 15.0, 14.0, 13.0, 12.0, 11.0, 10.0, 9.0, 8.0, 7.0, 6.0, 5.0, 4.0, 3.0, 2.0, 1.0, 1.0425, 1.0169, 0.9773, 0.9766, 0.9765, 0.9077, 0.9076, 0.9071, 0.9071, 0.9071, 0.9071, 0.907, 0.907, 0.9069, 0.9068, 0.9063, 0.8619, 0.839, 0.8338, 0.7521, 0.7521, 0.7521, 0.752, 0.752, 0.752, 0.752, 0.752, 0.752, 0.752, 0.752, 0.7447, 0.6809, 0.6472, 0.644, 0.6353, 0.1117, -0.2883, 0.272, 0.6043, 0.3872, 0.3749, 0.2095, 0.7659, 0.7426, 0.7064, 0.7062, 0.7062, 0.7051, 0.6701, 0.6601, 0.6424, 0.6424, 0.6424, 0.6424, 0.6423, 0.6423, 0.6423, 0.6422, 0.6422, 0.6422, 0.642, 0.6417, 0.6417, 0.6396, 0.6279, 0.5946, 0.5751, 0.4983, 0.4983, 0.4983, 0.4983, 0.4983, 0.2399, 0.2155, 0.3267, 0.3741, 0.3736, 0.0502, -0.085, 0.1714, 0.1775, -0.0046, -0.0045, 1.144, 1.113, 1.0391, 1.039, 1.0386, 1.0385, 1.0339, 0.8756, 0.8756, 0.8756, 0.8756, 0.8756, 0.8756, 0.8756, 0.8756, 0.8756, 0.8756, 0.8756, 0.8754, 0.8754, 0.8754, 0.8754, 0.8754, 0.8754, 0.8754, 0.8754, 0.8754, 0.8754, 0.8754, 0.8754, 0.7966, 0.7076, 0.752, 0.7524, 0.7518, 0.7474, 0.7349, 0.7342, 0.7338, 0.375, 0.4852, 0.4919, 0.4786, 0.315, 0.3072, -0.8131, 0.4837, 0.4596, 0.1738, 0.452, -0.0627, 0.4481, 0.4466]}, \"token.table\": {\"Topic\": [1, 1, 1, 2, 2, 2, 3, 1, 1, 3, 2, 1, 1, 3, 2, 1, 2, 3, 1, 2, 3, 3, 1, 2, 2, 3, 1, 2, 1, 2, 3, 3, 2, 3, 3, 2, 3, 3, 1, 1, 2, 3, 3, 1, 2, 2, 3, 2, 1, 2, 1, 2, 3, 2, 2, 3, 3, 2, 3, 1, 2, 3, 1, 2, 1, 1, 2, 1, 2, 3, 1, 2, 3, 2, 1, 3, 2, 3, 1, 3, 3, 3, 1, 3, 2, 3, 3, 3, 2, 1, 2, 3, 1, 2, 3, 3, 2, 3, 2, 2, 3, 2, 2, 2, 3, 1, 1, 1, 1, 1, 2, 3, 1, 3, 3, 1, 2, 1, 3, 1, 3, 2, 1, 2, 3, 3, 3, 1, 1, 1, 2, 2, 3, 3, 1, 1, 1, 2, 3, 3, 1, 2, 2, 3, 3, 1, 1, 2, 3, 2, 3, 2, 3, 2, 1, 1, 2, 1, 1, 3, 1, 1, 2, 2, 2, 1, 2, 3, 1, 2, 3, 1, 3, 1, 1, 2, 1, 2, 3], \"Freq\": [0.8379721323767391, 0.5593927731456556, 0.32671448089459637, 0.32671448089459637, 0.5341200084900274, 0.3326908274066658, 0.3326908274066658, 0.840162080220925, 0.8396155243439709, 0.8584290777490764, 0.5340211731972366, 0.8396150915892093, 0.43011350798970627, 0.43011350798970627, 0.5340228155469023, 0.2837529075103059, 0.2837529075103059, 0.5675058150206118, 0.36745707253490445, 0.530771326994862, 0.12248569084496815, 0.8584294861095163, 0.26726758881009993, 0.8018027664302998, 0.555396158476285, 0.555396158476285, 0.5593897931738101, 0.5340301984766749, 0.27570890865211073, 0.27570890865211073, 0.27570890865211073, 0.5774924763870342, 0.534020969286319, 0.5777274251725781, 0.8708038769389831, 0.5562995116049491, 0.5562995116049491, 0.8717391922308174, 0.5593901551077932, 0.2395149839780518, 0.4790299679561036, 0.4790299679561036, 0.8584188100918059, 0.7124168004737499, 0.2374722668245833, 0.5552761057309179, 0.5552761057309179, 0.793031492254681, 0.8307307342883463, 0.2769102447627821, 0.12751247577787717, 0.5100499031115087, 0.38253742733363155, 0.7970180350474255, 0.42261409916740683, 0.42261409916740683, 0.8584290143396645, 0.5340296584775933, 0.8584290762911264, 0.41758777823696014, 0.41758777823696014, 0.41758777823696014, 0.40529463632941365, 0.40529463632941365, 0.8379729121241192, 0.5517179680014558, 0.5517179680014558, 0.27782654107226284, 0.27782654107226284, 0.27782654107226284, 0.33727231286396514, 0.33727231286396514, 0.33727231286396514, 0.5340212558941319, 0.8379719979435988, 0.8584290801510926, 0.8091988074915911, 0.8584226820748729, 0.43071092497762703, 0.43071092497762703, 0.8584200538192654, 0.8584224261109548, 0.42469081341332987, 0.42469081341332987, 0.42260482010530664, 0.42260482010530664, 0.8584198917574014, 0.8584218576136834, 0.8091988267712517, 0.5593634629703124, 0.5340279692503677, 0.8584217572032887, 0.32967900469858097, 0.6593580093971619, 0.32967900469858097, 0.8584216539942721, 0.5340210062944355, 0.8584220498062805, 0.5340255914859416, 0.5340477482384035, 0.8584291512164459, 0.7970164923545737, 0.797098724330225, 0.5340246306919952, 0.8584290899114634, 0.837971775870933, 0.8379719332910092, 0.8379720764401495, 0.8335665556751164, 0.5593877160694521, 0.8091987435201977, 0.8584290590868375, 0.42484375343641606, 0.42484375343641606, 0.8584290916960815, 0.8379719946066652, 0.8091988430838681, 0.43017208671560375, 0.43017208671560375, 0.4301636333753635, 0.4301636333753635, 0.7970067539829803, 0.8379718328306961, 0.7999565932855092, 0.8584292521976342, 0.85842001997396, 0.8584186423396075, 0.5593776115042788, 0.8379718317653372, 0.40523870829612235, 0.40523870829612235, 0.5552325917964207, 0.5552325917964207, 0.5777511022811703, 0.5593778958700193, 0.8396189018325257, 0.3333173021746491, 0.3333173021746491, 0.3333173021746491, 0.8584221060998471, 0.660801293052588, 0.330400646526294, 0.5340472000266536, 0.8584290470691142, 0.5777380236419349, 0.837971837012587, 0.27786625809872584, 0.27786625809872584, 0.27786625809872584, 0.5555940055046842, 0.5555940055046842, 0.4230961956829793, 0.4230961956829793, 0.8091990532924868, 0.5593871803949533, 0.6626406090784669, 0.33132030453923345, 0.5594072113348731, 0.4299429266183733, 0.4299429266183733, 1.007931219535299, 0.2368088847525802, 0.7696288754458855, 0.9535404351941914, 0.8007485502940713, 0.2703251330349257, 0.5406502660698514, 0.5777544399136385, 0.41150873575216773, 0.41150873575216773, 0.20575436787608387, 0.42472241470385297, 0.42472241470385297, 0.5593677498973397, 0.5593733634177542, 0.5340355320867546, 0.8379721211177568, 0.8043768745691988, 0.26812562485639957], \"Term\": [\"(still\", \"actually\", \"administration\", \"administration\", \"agree\", \"america\", \"america\", \"american\", \"another\", \"anything\", \"arm\", \"attack\", \"ballot\", \"ballot\", \"barack\", \"barrett\", \"barrett\", \"barrett\", \"biden\", \"biden\", \"biden\", \"broadway\", \"campaign\", \"campaign\", \"candidate\", \"candidate\", \"change\", \"child\", \"claim\", \"claim\", \"claim\", \"coming\", \"company\", \"confirmation\", \"court\", \"covid\", \"covid\", \"covid-19\", \"cringe\", \"debate\", \"debate\", \"debate\", \"defense\", \"democrat\", \"democrat\", \"dollar\", \"dollar\", \"donald\", \"early\", \"early\", \"election\", \"election\", \"election\", \"endorsement\", \"facebook\", \"facebook\", \"feature\", \"federal\", \"fiddler\", \"final\", \"final\", \"final\", \"force\", \"force\", \"georgia\", \"going\", \"going\", \"great\", \"great\", \"great\", \"group\", \"group\", \"group\", \"guard\", \"guilty\", \"hamilton\", \"hold\", \"hundred\", \"information\", \"information\", \"interest\", \"involve\", \"israel\", \"israel\", \"issue\", \"issue\", \"label\", \"laundering\", \"lead\", \"leading\", \"lose\", \"meadow\", \"medium\", \"medium\", \"medium\", \"million\", \"minnesota\", \"money\", \"morning\", \"mother\", \"nat\\u2019l\", \"obama\", \"offense\", \"online\", \"opera\", \"opioid\", \"opposition\", \"overtake\", \"pandemic\", \"peace\", \"pennsylvania\", \"performer\", \"person\", \"person\", \"phantom\", \"plead\", \"point\", \"political\", \"political\", \"politician\", \"politician\", \"polls\", \"practice\", \"presidential\", \"production\", \"promise\", \"prompt\", \"protest\", \"purdue\", \"rally\", \"rally\", \"really\", \"really\", \"receive\", \"register\", \"republican\", \"russia\", \"russia\", \"russia\", \"scheme\", \"senate\", \"senate\", \"serious\", \"sesame\", \"solving\", \"spark\", \"state\", \"state\", \"state\", \"story\", \"story\", \"street\", \"street\", \"stretch\", \"sudan\", \"supporter\", \"supporter\", \"thing\", \"thought\", \"thought\", \"today\", \"trump\", \"trump\", \"try\", \"vaccine\", \"video\", \"video\", \"voice\", \"voter\", \"voter\", \"voter\", \"voting\", \"voting\", \"watch\", \"watching\", \"world\", \"worrisome\", \"would\", \"would\"]}, \"R\": 30, \"lambda.step\": 0.01, \"plot.opts\": {\"xlab\": \"PC1\", \"ylab\": \"PC2\"}, \"topic.order\": [1, 2, 3]};\n",
              "\n",
              "function LDAvis_load_lib(url, callback){\n",
              "  var s = document.createElement('script');\n",
              "  s.src = url;\n",
              "  s.async = true;\n",
              "  s.onreadystatechange = s.onload = callback;\n",
              "  s.onerror = function(){console.warn(\"failed to load library \" + url);};\n",
              "  document.getElementsByTagName(\"head\")[0].appendChild(s);\n",
              "}\n",
              "\n",
              "if(typeof(LDAvis) !== \"undefined\"){\n",
              "   // already loaded: just create the visualization\n",
              "   !function(LDAvis){\n",
              "       new LDAvis(\"#\" + \"ldavis_el681397904091484487220890102\", ldavis_el681397904091484487220890102_data);\n",
              "   }(LDAvis);\n",
              "}else if(typeof define === \"function\" && define.amd){\n",
              "   // require.js is available: use it to load d3/LDAvis\n",
              "   require.config({paths: {d3: \"https://d3js.org/d3.v5\"}});\n",
              "   require([\"d3\"], function(d3){\n",
              "      window.d3 = d3;\n",
              "      LDAvis_load_lib(\"https://cdn.jsdelivr.net/gh/bmabey/pyLDAvis@3.3.1/pyLDAvis/js/ldavis.v3.0.0.js\", function(){\n",
              "        new LDAvis(\"#\" + \"ldavis_el681397904091484487220890102\", ldavis_el681397904091484487220890102_data);\n",
              "      });\n",
              "    });\n",
              "}else{\n",
              "    // require.js not available: dynamically load d3 & LDAvis\n",
              "    LDAvis_load_lib(\"https://d3js.org/d3.v5.js\", function(){\n",
              "         LDAvis_load_lib(\"https://cdn.jsdelivr.net/gh/bmabey/pyLDAvis@3.3.1/pyLDAvis/js/ldavis.v3.0.0.js\", function(){\n",
              "                 new LDAvis(\"#\" + \"ldavis_el681397904091484487220890102\", ldavis_el681397904091484487220890102_data);\n",
              "            })\n",
              "         });\n",
              "}\n",
              "</script>"
            ]
          },
          "metadata": {},
          "execution_count": 41
        }
      ]
    },
    {
      "cell_type": "markdown",
      "metadata": {
        "id": "hpst3JYkKCzO"
      },
      "source": [
        "### Toxicity\n",
        "\n",
        "Toxicity: https://github.com/conversationai/perspectiveapi/tree/master/1-get-started\n",
        "\n",
        "This is a popular library that can be used in an 'off-the-shelf' manner to annotate toxic and related concepts in text. In this demo, we will see how to use the API with Python. Like the Twitter API, getting the Toxicity API approved can take some time. So, instead we will demonstrate how it can be used. "
      ]
    },
    {
      "cell_type": "code",
      "metadata": {
        "colab": {
          "base_uri": "https://localhost:8080/",
          "height": 308
        },
        "id": "PzAaRaWMKCzP",
        "outputId": "8b69bbbe-a91e-4ec7-86e2-3b630850b79f"
      },
      "source": [
        "from perspective import parse_summary_scores, get_toxicity_scores"
      ],
      "execution_count": null,
      "outputs": [
        {
          "output_type": "error",
          "ename": "ModuleNotFoundError",
          "evalue": "ignored",
          "traceback": [
            "\u001b[0;31m---------------------------------------------------------------------------\u001b[0m",
            "\u001b[0;31mModuleNotFoundError\u001b[0m                       Traceback (most recent call last)",
            "\u001b[0;32m<ipython-input-33-bd6b39caed99>\u001b[0m in \u001b[0;36m<module>\u001b[0;34m()\u001b[0m\n\u001b[0;32m----> 1\u001b[0;31m \u001b[0;32mfrom\u001b[0m \u001b[0mperspective\u001b[0m \u001b[0;32mimport\u001b[0m \u001b[0mparse_summary_scores\u001b[0m\u001b[0;34m,\u001b[0m \u001b[0mget_toxicity_scores\u001b[0m\u001b[0;34m\u001b[0m\u001b[0;34m\u001b[0m\u001b[0m\n\u001b[0m",
            "\u001b[0;31mModuleNotFoundError\u001b[0m: No module named 'perspective'",
            "",
            "\u001b[0;31m---------------------------------------------------------------------------\u001b[0;32m\nNOTE: If your import is failing due to a missing package, you can\nmanually install dependencies using either !pip or !apt.\n\nTo view examples of installing some common dependencies, click the\n\"Open Examples\" button below.\n\u001b[0;31m---------------------------------------------------------------------------\u001b[0m\n"
          ],
          "errorDetails": {
            "actions": [
              {
                "action": "open_url",
                "actionText": "Open Examples",
                "url": "/notebooks/snippets/importing_libraries.ipynb"
              }
            ]
          }
        }
      ]
    },
    {
      "cell_type": "code",
      "metadata": {
        "colab": {
          "base_uri": "https://localhost:8080/",
          "height": 255
        },
        "id": "FQ5IT10BKCzP",
        "outputId": "54ef1a6b-522f-4992-8426-f8ea501df01d"
      },
      "source": [
        "with open(\"perspective.csv\") as f:\n",
        "        key = f.read().strip()\n",
        "\n",
        "comments = [u'you ugly duck', u'the sun shines today', u'steven wilson is the god of prog']\n",
        "results = list(zip(comments, map(parse_summary_scores, get_toxicity_scores(comments, key, requested_attributes = {\"TOXICITY\":{}}))))\n",
        "for result in results:\n",
        "    print(result)"
      ],
      "execution_count": null,
      "outputs": [
        {
          "output_type": "error",
          "ename": "FileNotFoundError",
          "evalue": "ignored",
          "traceback": [
            "\u001b[0;31m---------------------------------------------------------------------------\u001b[0m",
            "\u001b[0;31mFileNotFoundError\u001b[0m                         Traceback (most recent call last)",
            "\u001b[0;32m<ipython-input-34-a70dc4a87bc2>\u001b[0m in \u001b[0;36m<module>\u001b[0;34m()\u001b[0m\n\u001b[0;32m----> 1\u001b[0;31m \u001b[0;32mwith\u001b[0m \u001b[0mopen\u001b[0m\u001b[0;34m(\u001b[0m\u001b[0;34m\"perspective.csv\"\u001b[0m\u001b[0;34m)\u001b[0m \u001b[0;32mas\u001b[0m \u001b[0mf\u001b[0m\u001b[0;34m:\u001b[0m\u001b[0;34m\u001b[0m\u001b[0;34m\u001b[0m\u001b[0m\n\u001b[0m\u001b[1;32m      2\u001b[0m         \u001b[0mkey\u001b[0m \u001b[0;34m=\u001b[0m \u001b[0mf\u001b[0m\u001b[0;34m.\u001b[0m\u001b[0mread\u001b[0m\u001b[0;34m(\u001b[0m\u001b[0;34m)\u001b[0m\u001b[0;34m.\u001b[0m\u001b[0mstrip\u001b[0m\u001b[0;34m(\u001b[0m\u001b[0;34m)\u001b[0m\u001b[0;34m\u001b[0m\u001b[0;34m\u001b[0m\u001b[0m\n\u001b[1;32m      3\u001b[0m \u001b[0;34m\u001b[0m\u001b[0m\n\u001b[1;32m      4\u001b[0m \u001b[0mcomments\u001b[0m \u001b[0;34m=\u001b[0m \u001b[0;34m[\u001b[0m\u001b[0;34mu'you ugly duck'\u001b[0m\u001b[0;34m,\u001b[0m \u001b[0;34mu'the sun shines today'\u001b[0m\u001b[0;34m,\u001b[0m \u001b[0;34mu'steven wilson is the god of prog'\u001b[0m\u001b[0;34m]\u001b[0m\u001b[0;34m\u001b[0m\u001b[0;34m\u001b[0m\u001b[0m\n\u001b[1;32m      5\u001b[0m \u001b[0mresults\u001b[0m \u001b[0;34m=\u001b[0m \u001b[0mlist\u001b[0m\u001b[0;34m(\u001b[0m\u001b[0mzip\u001b[0m\u001b[0;34m(\u001b[0m\u001b[0mcomments\u001b[0m\u001b[0;34m,\u001b[0m \u001b[0mmap\u001b[0m\u001b[0;34m(\u001b[0m\u001b[0mparse_summary_scores\u001b[0m\u001b[0;34m,\u001b[0m \u001b[0mget_toxicity_scores\u001b[0m\u001b[0;34m(\u001b[0m\u001b[0mcomments\u001b[0m\u001b[0;34m,\u001b[0m \u001b[0mkey\u001b[0m\u001b[0;34m,\u001b[0m \u001b[0mrequested_attributes\u001b[0m \u001b[0;34m=\u001b[0m \u001b[0;34m{\u001b[0m\u001b[0;34m\"TOXICITY\"\u001b[0m\u001b[0;34m:\u001b[0m\u001b[0;34m{\u001b[0m\u001b[0;34m}\u001b[0m\u001b[0;34m}\u001b[0m\u001b[0;34m)\u001b[0m\u001b[0;34m)\u001b[0m\u001b[0;34m)\u001b[0m\u001b[0;34m)\u001b[0m\u001b[0;34m\u001b[0m\u001b[0;34m\u001b[0m\u001b[0m\n",
            "\u001b[0;31mFileNotFoundError\u001b[0m: [Errno 2] No such file or directory: 'perspective.csv'"
          ]
        }
      ]
    },
    {
      "cell_type": "code",
      "metadata": {
        "id": "T8cYWqEAKCzQ"
      },
      "source": [
        "# How to add toxicity scores to your data. This will not run on your system since you do not have teh API key\n",
        "\n",
        "# comments = elections_df['Title']\n",
        "# ids = elections_df['Post ID']\n",
        "# results = list(zip(ids, comments, map(parse_summary_scores, get_toxicity_scores(comments, key, requested_attributes = {\"TOXICITY\":{}}))))"
      ],
      "execution_count": null,
      "outputs": []
    },
    {
      "cell_type": "code",
      "metadata": {
        "id": "yexX4rqcKCzQ"
      },
      "source": [
        "# elections_df['TOXICITY'] = [i[2]['TOXICITY'] for i in results]\n",
        "# elections_df.head()"
      ],
      "execution_count": null,
      "outputs": []
    },
    {
      "cell_type": "code",
      "metadata": {
        "id": "HxFGbVxFKCzR"
      },
      "source": [
        "# elections_df.to_csv(\"elections_toxicity.csv\", encoding = 'utf-8', index = False)"
      ],
      "execution_count": null,
      "outputs": []
    },
    {
      "cell_type": "markdown",
      "metadata": {
        "id": "tgugoWBsKCzR"
      },
      "source": [
        "We have also enriched the elections dataset with toxicity values in a seperate csv file called \"elections_toxicity.csv\". You can load that csv with pandas and play around with the toxicity scores."
      ]
    },
    {
      "cell_type": "code",
      "metadata": {
        "id": "mgzgL42IKCzR"
      },
      "source": [
        "elections_toxicity = pd.read_csv(\"elections_toxicity.csv\", encoding = 'utf-8')\n",
        "elections_toxicity.head()"
      ],
      "execution_count": null,
      "outputs": []
    },
    {
      "cell_type": "markdown",
      "metadata": {
        "id": "wqfBtpRuKCzS"
      },
      "source": [
        "Try it yourself: You can try out the following:\n",
        "\n",
        "- One topic model each for each subreddit\n",
        "- Enriching the posts in the election dataset with Named Entities (Hint: try using NLTK)"
      ]
    }
  ]
}