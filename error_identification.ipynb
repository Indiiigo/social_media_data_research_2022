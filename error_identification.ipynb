{
  "nbformat": 4,
  "nbformat_minor": 0,
  "metadata": {
    "kernelspec": {
      "display_name": "Python 3",
      "language": "python",
      "name": "python3"
    },
    "language_info": {
      "codemirror_mode": {
        "name": "ipython",
        "version": 3
      },
      "file_extension": ".py",
      "mimetype": "text/x-python",
      "name": "python",
      "nbconvert_exporter": "python",
      "pygments_lexer": "ipython3",
      "version": "3.6.9"
    },
    "toc": {
      "base_numbering": 1,
      "nav_menu": {},
      "number_sections": true,
      "sideBar": true,
      "skip_h1_title": false,
      "title_cell": "Table of Contents",
      "title_sidebar": "Contents",
      "toc_cell": false,
      "toc_position": {},
      "toc_section_display": true,
      "toc_window_display": false
    },
    "colab": {
      "provenance": []
    }
  },
  "cells": [
    {
      "cell_type": "markdown",
      "metadata": {
        "id": "tyezzfRm8KRe"
      },
      "source": [
        "### Stance and sentiment are not the same thing"
      ]
    },
    {
      "cell_type": "markdown",
      "metadata": {
        "id": "xpuRr3zj8KRh"
      },
      "source": [
        "In this notebook we will take a closer look and reexamine some of teh design choices we made in collecting and analyzing our data. We will show that even innocuous and seemingly small steps can lead to errors and biases. This exercise helps us become aware of how our design decisions can affect tehvalidity and reliability of our findings. "
      ]
    },
    {
      "cell_type": "code",
      "metadata": {
        "id": "NfIouLQV8KRi"
      },
      "source": [
        "import pandas as pd"
      ],
      "execution_count": 2,
      "outputs": []
    },
    {
      "cell_type": "markdown",
      "metadata": {
        "id": "Asm8rsQo8KRj"
      },
      "source": [
        "We will work with an openly available Twitter dataset for stance detection: http://www.saifmohammad.com/WebPages/StanceDataset.htm\n",
        "\n",
        "\n",
        "We have already seen what stance detection is, now we will compare it with sentiment. The data here are tweets and are similar to Reddit posts so we can see the types of issues our previous analysis might lead to. To stay on the lines of election prediction, we will focus on stance towards a politician --  Hillary Clinton."
      ]
    },
    {
      "cell_type": "code",
      "metadata": {
        "colab": {
          "base_uri": "https://localhost:8080/",
          "height": 206
        },
        "id": "JOSJS6dP8KRk",
        "outputId": "a0a92b60-c42f-4fca-d1ad-2e7ea8d00733"
      },
      "source": [
        "stance_data = pd.read_csv(\"testdata-taskA-all-annotations.txt\", sep = \"\\t\", engine='python')\n",
        "stance_data.head()"
      ],
      "execution_count": 3,
      "outputs": [
        {
          "output_type": "execute_result",
          "data": {
            "text/plain": [
              "      ID   Target                                              Tweet   Stance  \\\n",
              "0  10001  Atheism  He who exalts himself shall      be humbled; a...  AGAINST   \n",
              "1  10002  Atheism  RT @prayerbullets: I remove Nehushtan -previou...  AGAINST   \n",
              "2  10003  Atheism  @Brainman365 @heidtjj @BenjaminLives I have so...  AGAINST   \n",
              "3  10004  Atheism  #God is utterly powerless without Human interv...  AGAINST   \n",
              "4  10005  Atheism  @David_Cameron   Miracles of #Multiculturalism...  AGAINST   \n",
              "\n",
              "  Opinion towards Sentiment  \n",
              "0          TARGET  POSITIVE  \n",
              "1          TARGET   NEITHER  \n",
              "2          TARGET  POSITIVE  \n",
              "3          TARGET  NEGATIVE  \n",
              "4           OTHER  NEGATIVE  "
            ],
            "text/html": [
              "\n",
              "  <div id=\"df-44da50e2-3f7b-481e-9e37-948100f9b7b8\">\n",
              "    <div class=\"colab-df-container\">\n",
              "      <div>\n",
              "<style scoped>\n",
              "    .dataframe tbody tr th:only-of-type {\n",
              "        vertical-align: middle;\n",
              "    }\n",
              "\n",
              "    .dataframe tbody tr th {\n",
              "        vertical-align: top;\n",
              "    }\n",
              "\n",
              "    .dataframe thead th {\n",
              "        text-align: right;\n",
              "    }\n",
              "</style>\n",
              "<table border=\"1\" class=\"dataframe\">\n",
              "  <thead>\n",
              "    <tr style=\"text-align: right;\">\n",
              "      <th></th>\n",
              "      <th>ID</th>\n",
              "      <th>Target</th>\n",
              "      <th>Tweet</th>\n",
              "      <th>Stance</th>\n",
              "      <th>Opinion towards</th>\n",
              "      <th>Sentiment</th>\n",
              "    </tr>\n",
              "  </thead>\n",
              "  <tbody>\n",
              "    <tr>\n",
              "      <th>0</th>\n",
              "      <td>10001</td>\n",
              "      <td>Atheism</td>\n",
              "      <td>He who exalts himself shall      be humbled; a...</td>\n",
              "      <td>AGAINST</td>\n",
              "      <td>TARGET</td>\n",
              "      <td>POSITIVE</td>\n",
              "    </tr>\n",
              "    <tr>\n",
              "      <th>1</th>\n",
              "      <td>10002</td>\n",
              "      <td>Atheism</td>\n",
              "      <td>RT @prayerbullets: I remove Nehushtan -previou...</td>\n",
              "      <td>AGAINST</td>\n",
              "      <td>TARGET</td>\n",
              "      <td>NEITHER</td>\n",
              "    </tr>\n",
              "    <tr>\n",
              "      <th>2</th>\n",
              "      <td>10003</td>\n",
              "      <td>Atheism</td>\n",
              "      <td>@Brainman365 @heidtjj @BenjaminLives I have so...</td>\n",
              "      <td>AGAINST</td>\n",
              "      <td>TARGET</td>\n",
              "      <td>POSITIVE</td>\n",
              "    </tr>\n",
              "    <tr>\n",
              "      <th>3</th>\n",
              "      <td>10004</td>\n",
              "      <td>Atheism</td>\n",
              "      <td>#God is utterly powerless without Human interv...</td>\n",
              "      <td>AGAINST</td>\n",
              "      <td>TARGET</td>\n",
              "      <td>NEGATIVE</td>\n",
              "    </tr>\n",
              "    <tr>\n",
              "      <th>4</th>\n",
              "      <td>10005</td>\n",
              "      <td>Atheism</td>\n",
              "      <td>@David_Cameron   Miracles of #Multiculturalism...</td>\n",
              "      <td>AGAINST</td>\n",
              "      <td>OTHER</td>\n",
              "      <td>NEGATIVE</td>\n",
              "    </tr>\n",
              "  </tbody>\n",
              "</table>\n",
              "</div>\n",
              "      <button class=\"colab-df-convert\" onclick=\"convertToInteractive('df-44da50e2-3f7b-481e-9e37-948100f9b7b8')\"\n",
              "              title=\"Convert this dataframe to an interactive table.\"\n",
              "              style=\"display:none;\">\n",
              "        \n",
              "  <svg xmlns=\"http://www.w3.org/2000/svg\" height=\"24px\"viewBox=\"0 0 24 24\"\n",
              "       width=\"24px\">\n",
              "    <path d=\"M0 0h24v24H0V0z\" fill=\"none\"/>\n",
              "    <path d=\"M18.56 5.44l.94 2.06.94-2.06 2.06-.94-2.06-.94-.94-2.06-.94 2.06-2.06.94zm-11 1L8.5 8.5l.94-2.06 2.06-.94-2.06-.94L8.5 2.5l-.94 2.06-2.06.94zm10 10l.94 2.06.94-2.06 2.06-.94-2.06-.94-.94-2.06-.94 2.06-2.06.94z\"/><path d=\"M17.41 7.96l-1.37-1.37c-.4-.4-.92-.59-1.43-.59-.52 0-1.04.2-1.43.59L10.3 9.45l-7.72 7.72c-.78.78-.78 2.05 0 2.83L4 21.41c.39.39.9.59 1.41.59.51 0 1.02-.2 1.41-.59l7.78-7.78 2.81-2.81c.8-.78.8-2.07 0-2.86zM5.41 20L4 18.59l7.72-7.72 1.47 1.35L5.41 20z\"/>\n",
              "  </svg>\n",
              "      </button>\n",
              "      \n",
              "  <style>\n",
              "    .colab-df-container {\n",
              "      display:flex;\n",
              "      flex-wrap:wrap;\n",
              "      gap: 12px;\n",
              "    }\n",
              "\n",
              "    .colab-df-convert {\n",
              "      background-color: #E8F0FE;\n",
              "      border: none;\n",
              "      border-radius: 50%;\n",
              "      cursor: pointer;\n",
              "      display: none;\n",
              "      fill: #1967D2;\n",
              "      height: 32px;\n",
              "      padding: 0 0 0 0;\n",
              "      width: 32px;\n",
              "    }\n",
              "\n",
              "    .colab-df-convert:hover {\n",
              "      background-color: #E2EBFA;\n",
              "      box-shadow: 0px 1px 2px rgba(60, 64, 67, 0.3), 0px 1px 3px 1px rgba(60, 64, 67, 0.15);\n",
              "      fill: #174EA6;\n",
              "    }\n",
              "\n",
              "    [theme=dark] .colab-df-convert {\n",
              "      background-color: #3B4455;\n",
              "      fill: #D2E3FC;\n",
              "    }\n",
              "\n",
              "    [theme=dark] .colab-df-convert:hover {\n",
              "      background-color: #434B5C;\n",
              "      box-shadow: 0px 1px 3px 1px rgba(0, 0, 0, 0.15);\n",
              "      filter: drop-shadow(0px 1px 2px rgba(0, 0, 0, 0.3));\n",
              "      fill: #FFFFFF;\n",
              "    }\n",
              "  </style>\n",
              "\n",
              "      <script>\n",
              "        const buttonEl =\n",
              "          document.querySelector('#df-44da50e2-3f7b-481e-9e37-948100f9b7b8 button.colab-df-convert');\n",
              "        buttonEl.style.display =\n",
              "          google.colab.kernel.accessAllowed ? 'block' : 'none';\n",
              "\n",
              "        async function convertToInteractive(key) {\n",
              "          const element = document.querySelector('#df-44da50e2-3f7b-481e-9e37-948100f9b7b8');\n",
              "          const dataTable =\n",
              "            await google.colab.kernel.invokeFunction('convertToInteractive',\n",
              "                                                     [key], {});\n",
              "          if (!dataTable) return;\n",
              "\n",
              "          const docLinkHtml = 'Like what you see? Visit the ' +\n",
              "            '<a target=\"_blank\" href=https://colab.research.google.com/notebooks/data_table.ipynb>data table notebook</a>'\n",
              "            + ' to learn more about interactive tables.';\n",
              "          element.innerHTML = '';\n",
              "          dataTable['output_type'] = 'display_data';\n",
              "          await google.colab.output.renderOutput(dataTable, element);\n",
              "          const docLink = document.createElement('div');\n",
              "          docLink.innerHTML = docLinkHtml;\n",
              "          element.appendChild(docLink);\n",
              "        }\n",
              "      </script>\n",
              "    </div>\n",
              "  </div>\n",
              "  "
            ]
          },
          "metadata": {},
          "execution_count": 3
        }
      ]
    },
    {
      "cell_type": "markdown",
      "metadata": {
        "id": "DpThz8Ii8KRm"
      },
      "source": [
        "We will first map stance and sentiment, assuming that negative (positive) sentiment is equivalent to against (favor)"
      ]
    },
    {
      "cell_type": "code",
      "metadata": {
        "colab": {
          "base_uri": "https://localhost:8080/",
          "height": 52
        },
        "id": "ooonzng38KRm",
        "outputId": "6476b6fa-89c3-427b-fa68-f73754fd9b1c"
      },
      "source": [
        "stance_data = stance_data[stance_data['Target'] == \"Hillary Clinton\"].reset_index()\n",
        "\n",
        "stance_mapping = {\"AGAINST\" : \"NEGATIVE\",\n",
        "                 \"FAVOR\" : \"POSITIVE\",\n",
        "                 \"NONE\" : \"NEITHER\"}\n",
        "\n",
        "stance_data['Stance'] = [stance_mapping[i] for i in stance_data['Stance']]\n",
        "stance_data['Tweet'][0]"
      ],
      "execution_count": 4,
      "outputs": [
        {
          "output_type": "execute_result",
          "data": {
            "text/plain": [
              "'#mtp @meetthepress How is deleting emails -part of the government record -different from erasing parts of a tape? #nixon #p2 #SemST'"
            ],
            "application/vnd.google.colaboratory.intrinsic+json": {
              "type": "string"
            }
          },
          "metadata": {},
          "execution_count": 4
        }
      ]
    },
    {
      "cell_type": "markdown",
      "metadata": {
        "id": "12DBdCSm8KRn"
      },
      "source": [
        "This is the distribution of stance"
      ]
    },
    {
      "cell_type": "code",
      "metadata": {
        "colab": {
          "base_uri": "https://localhost:8080/",
          "height": 336
        },
        "id": "K0dm03jf8KRo",
        "outputId": "a521afde-a56c-4cec-bb97-7e5348eaefe9"
      },
      "source": [
        "stance_data.groupby('Stance').size().plot(kind = 'bar')"
      ],
      "execution_count": 5,
      "outputs": [
        {
          "output_type": "execute_result",
          "data": {
            "text/plain": [
              "<matplotlib.axes._subplots.AxesSubplot at 0x7f8cf936c670>"
            ]
          },
          "metadata": {},
          "execution_count": 5
        },
        {
          "output_type": "display_data",
          "data": {
            "text/plain": [
              "<Figure size 432x288 with 1 Axes>"
            ],
            "image/png": "[encoded data removed]"
          },
          "metadata": {
            "needs_background": "light"
          }
        }
      ]
    },
    {
      "cell_type": "code",
      "metadata": {
        "colab": {
          "base_uri": "https://localhost:8080/",
          "height": 336
        },
        "id": "WVYMUybb8KRp",
        "outputId": "2d701c63-08ee-4d3a-cb32-b50f30003a61"
      },
      "source": [
        "stance_data.groupby('Sentiment').size().plot(kind = 'bar')"
      ],
      "execution_count": 6,
      "outputs": [
        {
          "output_type": "execute_result",
          "data": {
            "text/plain": [
              "<matplotlib.axes._subplots.AxesSubplot at 0x7f8cf92967f0>"
            ]
          },
          "metadata": {},
          "execution_count": 6
        },
        {
          "output_type": "display_data",
          "data": {
            "text/plain": [
              "<Figure size 432x288 with 1 Axes>"
            ],
            "image/png": "[encoded data removed]"
          },
          "metadata": {
            "needs_background": "light"
          }
        }
      ]
    },
    {
      "cell_type": "markdown",
      "metadata": {
        "id": "rp8UlKb78KRp"
      },
      "source": [
        "The sentiment and stance distribution differ somewhat, especially for 'none'."
      ]
    },
    {
      "cell_type": "markdown",
      "metadata": {
        "id": "-Ubo1yjS8KRq"
      },
      "source": [
        "Now let us see some examples wehere stance and sentiment do not align."
      ]
    },
    {
      "cell_type": "code",
      "metadata": {
        "colab": {
          "base_uri": "https://localhost:8080/"
        },
        "id": "_aryUbvO8KRq",
        "outputId": "36a36b48-3904-4d05-8d8d-d29b6c410462"
      },
      "source": [
        "mismatch = stance_data[stance_data['Stance'] != stance_data['Sentiment']].reset_index()\n",
        "mismatch['Tweet'][4], mismatch['Stance'][4], mismatch['Sentiment'][4]"
      ],
      "execution_count": 7,
      "outputs": [
        {
          "output_type": "execute_result",
          "data": {
            "text/plain": [
              "('The federal government did not create the states, the states created the federal government. Ronald Reagan #Federalism #SemST',\n",
              " 'NEGATIVE',\n",
              " 'POSITIVE')"
            ]
          },
          "metadata": {},
          "execution_count": 7
        }
      ]
    },
    {
      "cell_type": "markdown",
      "metadata": {
        "id": "9hX-ya8K8KRr"
      },
      "source": [
        "Now we will see what the overall difference in performance results in using the 'wrong' construct."
      ]
    },
    {
      "cell_type": "code",
      "metadata": {
        "colab": {
          "base_uri": "https://localhost:8080/"
        },
        "id": "q_-DBYEg8KRr",
        "outputId": "8da66031-cb0f-439c-f0bc-faf2c387535e"
      },
      "source": [
        "from sklearn.metrics import classification_report\n",
        "print(classification_report(stance_data['Stance'], stance_data['Sentiment']))"
      ],
      "execution_count": 8,
      "outputs": [
        {
          "output_type": "stream",
          "name": "stdout",
          "text": [
            "              precision    recall  f1-score   support\n",
            "\n",
            "    NEGATIVE       0.70      0.84      0.77       172\n",
            "     NEITHER       0.42      0.06      0.11        78\n",
            "    POSITIVE       0.38      0.64      0.48        45\n",
            "\n",
            "    accuracy                           0.61       295\n",
            "   macro avg       0.50      0.52      0.45       295\n",
            "weighted avg       0.58      0.61      0.55       295\n",
            "\n"
          ]
        }
      ]
    },
    {
      "cell_type": "markdown",
      "metadata": {
        "id": "kwVqtUnM8KRr"
      },
      "source": [
        "### How accurate is VADER?"
      ]
    },
    {
      "cell_type": "markdown",
      "metadata": {
        "id": "yS8-q-Nq8KRs"
      },
      "source": [
        "Now we will assess how good our operationalization or measure (VADER sentiment) is at measuring sentiment"
      ]
    },
    {
      "cell_type": "code",
      "metadata": {
        "colab": {
          "base_uri": "https://localhost:8080/"
        },
        "id": "kiKLgc8x8KRs",
        "outputId": "07381a5f-1d5c-49d6-ff76-0a2f1119fb09"
      },
      "source": [
        "import nltk\n",
        "nltk.download('vader_lexicon')\n",
        "from nltk.sentiment.vader import SentimentIntensityAnalyzer\n",
        "sid = SentimentIntensityAnalyzer()"
      ],
      "execution_count": 9,
      "outputs": [
        {
          "output_type": "stream",
          "name": "stderr",
          "text": [
            "[nltk_data] Downloading package vader_lexicon to /root/nltk_data...\n"
          ]
        }
      ]
    },
    {
      "cell_type": "code",
      "metadata": {
        "colab": {
          "base_uri": "https://localhost:8080/",
          "height": 354
        },
        "id": "0rvZNWBt8KRs",
        "outputId": "40cbea02-a6d5-4073-ad99-c00f846802bf"
      },
      "source": [
        "stance_data['VADER_SENTIMENT'] = [sid.polarity_scores(i)['compound'] for i in stance_data['Tweet']]\n",
        "stance_data['VADER_SENTIMENT'] = ['POSITIVE' if i > 0.1 else 'NEGATIVE' if i < -0.1 else 'NEITHER' for i in stance_data['VADER_SENTIMENT']]\n",
        "stance_data.head()"
      ],
      "execution_count": 10,
      "outputs": [
        {
          "output_type": "execute_result",
          "data": {
            "text/plain": [
              "   index     ID           Target  \\\n",
              "0    674  10675  Hillary Clinton   \n",
              "1    675  10676  Hillary Clinton   \n",
              "2    676  10677  Hillary Clinton   \n",
              "3    677  10678  Hillary Clinton   \n",
              "4    678  10679  Hillary Clinton   \n",
              "\n",
              "                                               Tweet    Stance  \\\n",
              "0  #mtp @meetthepress How is deleting emails -par...  NEGATIVE   \n",
              "1  @JDSon78 @AndrewBroering AndrewWhyDoYouCareAbo...  NEGATIVE   \n",
              "2  The white male vote is solidly GOP. The black ...  NEGATIVE   \n",
              "3  @nyinvesting big banker buds need to ratchet u...  NEGATIVE   \n",
              "4  @GOP Why should I believe you on this? The GOP...  NEGATIVE   \n",
              "\n",
              "  Opinion towards Sentiment VADER_SENTIMENT  \n",
              "0           OTHER  NEGATIVE         NEITHER  \n",
              "1           OTHER  NEGATIVE         NEITHER  \n",
              "2           OTHER  NEGATIVE         NEITHER  \n",
              "3          TARGET  NEGATIVE        POSITIVE  \n",
              "4           OTHER  NEGATIVE        POSITIVE  "
            ],
            "text/html": [
              "\n",
              "  <div id=\"df-dbe6ef87-cda3-4303-9edd-6a6e7530a946\">\n",
              "    <div class=\"colab-df-container\">\n",
              "      <div>\n",
              "<style scoped>\n",
              "    .dataframe tbody tr th:only-of-type {\n",
              "        vertical-align: middle;\n",
              "    }\n",
              "\n",
              "    .dataframe tbody tr th {\n",
              "        vertical-align: top;\n",
              "    }\n",
              "\n",
              "    .dataframe thead th {\n",
              "        text-align: right;\n",
              "    }\n",
              "</style>\n",
              "<table border=\"1\" class=\"dataframe\">\n",
              "  <thead>\n",
              "    <tr style=\"text-align: right;\">\n",
              "      <th></th>\n",
              "      <th>index</th>\n",
              "      <th>ID</th>\n",
              "      <th>Target</th>\n",
              "      <th>Tweet</th>\n",
              "      <th>Stance</th>\n",
              "      <th>Opinion towards</th>\n",
              "      <th>Sentiment</th>\n",
              "      <th>VADER_SENTIMENT</th>\n",
              "    </tr>\n",
              "  </thead>\n",
              "  <tbody>\n",
              "    <tr>\n",
              "      <th>0</th>\n",
              "      <td>674</td>\n",
              "      <td>10675</td>\n",
              "      <td>Hillary Clinton</td>\n",
              "      <td>#mtp @meetthepress How is deleting emails -par...</td>\n",
              "      <td>NEGATIVE</td>\n",
              "      <td>OTHER</td>\n",
              "      <td>NEGATIVE</td>\n",
              "      <td>NEITHER</td>\n",
              "    </tr>\n",
              "    <tr>\n",
              "      <th>1</th>\n",
              "      <td>675</td>\n",
              "      <td>10676</td>\n",
              "      <td>Hillary Clinton</td>\n",
              "      <td>@JDSon78 @AndrewBroering AndrewWhyDoYouCareAbo...</td>\n",
              "      <td>NEGATIVE</td>\n",
              "      <td>OTHER</td>\n",
              "      <td>NEGATIVE</td>\n",
              "      <td>NEITHER</td>\n",
              "    </tr>\n",
              "    <tr>\n",
              "      <th>2</th>\n",
              "      <td>676</td>\n",
              "      <td>10677</td>\n",
              "      <td>Hillary Clinton</td>\n",
              "      <td>The white male vote is solidly GOP. The black ...</td>\n",
              "      <td>NEGATIVE</td>\n",
              "      <td>OTHER</td>\n",
              "      <td>NEGATIVE</td>\n",
              "      <td>NEITHER</td>\n",
              "    </tr>\n",
              "    <tr>\n",
              "      <th>3</th>\n",
              "      <td>677</td>\n",
              "      <td>10678</td>\n",
              "      <td>Hillary Clinton</td>\n",
              "      <td>@nyinvesting big banker buds need to ratchet u...</td>\n",
              "      <td>NEGATIVE</td>\n",
              "      <td>TARGET</td>\n",
              "      <td>NEGATIVE</td>\n",
              "      <td>POSITIVE</td>\n",
              "    </tr>\n",
              "    <tr>\n",
              "      <th>4</th>\n",
              "      <td>678</td>\n",
              "      <td>10679</td>\n",
              "      <td>Hillary Clinton</td>\n",
              "      <td>@GOP Why should I believe you on this? The GOP...</td>\n",
              "      <td>NEGATIVE</td>\n",
              "      <td>OTHER</td>\n",
              "      <td>NEGATIVE</td>\n",
              "      <td>POSITIVE</td>\n",
              "    </tr>\n",
              "  </tbody>\n",
              "</table>\n",
              "</div>\n",
              "      <button class=\"colab-df-convert\" onclick=\"convertToInteractive('df-dbe6ef87-cda3-4303-9edd-6a6e7530a946')\"\n",
              "              title=\"Convert this dataframe to an interactive table.\"\n",
              "              style=\"display:none;\">\n",
              "        \n",
              "  <svg xmlns=\"http://www.w3.org/2000/svg\" height=\"24px\"viewBox=\"0 0 24 24\"\n",
              "       width=\"24px\">\n",
              "    <path d=\"M0 0h24v24H0V0z\" fill=\"none\"/>\n",
              "    <path d=\"M18.56 5.44l.94 2.06.94-2.06 2.06-.94-2.06-.94-.94-2.06-.94 2.06-2.06.94zm-11 1L8.5 8.5l.94-2.06 2.06-.94-2.06-.94L8.5 2.5l-.94 2.06-2.06.94zm10 10l.94 2.06.94-2.06 2.06-.94-2.06-.94-.94-2.06-.94 2.06-2.06.94z\"/><path d=\"M17.41 7.96l-1.37-1.37c-.4-.4-.92-.59-1.43-.59-.52 0-1.04.2-1.43.59L10.3 9.45l-7.72 7.72c-.78.78-.78 2.05 0 2.83L4 21.41c.39.39.9.59 1.41.59.51 0 1.02-.2 1.41-.59l7.78-7.78 2.81-2.81c.8-.78.8-2.07 0-2.86zM5.41 20L4 18.59l7.72-7.72 1.47 1.35L5.41 20z\"/>\n",
              "  </svg>\n",
              "      </button>\n",
              "      \n",
              "  <style>\n",
              "    .colab-df-container {\n",
              "      display:flex;\n",
              "      flex-wrap:wrap;\n",
              "      gap: 12px;\n",
              "    }\n",
              "\n",
              "    .colab-df-convert {\n",
              "      background-color: #E8F0FE;\n",
              "      border: none;\n",
              "      border-radius: 50%;\n",
              "      cursor: pointer;\n",
              "      display: none;\n",
              "      fill: #1967D2;\n",
              "      height: 32px;\n",
              "      padding: 0 0 0 0;\n",
              "      width: 32px;\n",
              "    }\n",
              "\n",
              "    .colab-df-convert:hover {\n",
              "      background-color: #E2EBFA;\n",
              "      box-shadow: 0px 1px 2px rgba(60, 64, 67, 0.3), 0px 1px 3px 1px rgba(60, 64, 67, 0.15);\n",
              "      fill: #174EA6;\n",
              "    }\n",
              "\n",
              "    [theme=dark] .colab-df-convert {\n",
              "      background-color: #3B4455;\n",
              "      fill: #D2E3FC;\n",
              "    }\n",
              "\n",
              "    [theme=dark] .colab-df-convert:hover {\n",
              "      background-color: #434B5C;\n",
              "      box-shadow: 0px 1px 3px 1px rgba(0, 0, 0, 0.15);\n",
              "      filter: drop-shadow(0px 1px 2px rgba(0, 0, 0, 0.3));\n",
              "      fill: #FFFFFF;\n",
              "    }\n",
              "  </style>\n",
              "\n",
              "      <script>\n",
              "        const buttonEl =\n",
              "          document.querySelector('#df-dbe6ef87-cda3-4303-9edd-6a6e7530a946 button.colab-df-convert');\n",
              "        buttonEl.style.display =\n",
              "          google.colab.kernel.accessAllowed ? 'block' : 'none';\n",
              "\n",
              "        async function convertToInteractive(key) {\n",
              "          const element = document.querySelector('#df-dbe6ef87-cda3-4303-9edd-6a6e7530a946');\n",
              "          const dataTable =\n",
              "            await google.colab.kernel.invokeFunction('convertToInteractive',\n",
              "                                                     [key], {});\n",
              "          if (!dataTable) return;\n",
              "\n",
              "          const docLinkHtml = 'Like what you see? Visit the ' +\n",
              "            '<a target=\"_blank\" href=https://colab.research.google.com/notebooks/data_table.ipynb>data table notebook</a>'\n",
              "            + ' to learn more about interactive tables.';\n",
              "          element.innerHTML = '';\n",
              "          dataTable['output_type'] = 'display_data';\n",
              "          await google.colab.output.renderOutput(dataTable, element);\n",
              "          const docLink = document.createElement('div');\n",
              "          docLink.innerHTML = docLinkHtml;\n",
              "          element.appendChild(docLink);\n",
              "        }\n",
              "      </script>\n",
              "    </div>\n",
              "  </div>\n",
              "  "
            ]
          },
          "metadata": {},
          "execution_count": 10
        }
      ]
    },
    {
      "cell_type": "code",
      "metadata": {
        "colab": {
          "base_uri": "https://localhost:8080/"
        },
        "id": "tU0Jev6j8KRu",
        "outputId": "ac6c05ea-c62b-4e07-ecfa-0411db6cae54"
      },
      "source": [
        "print(classification_report(stance_data['Sentiment'], stance_data['VADER_SENTIMENT']))"
      ],
      "execution_count": 11,
      "outputs": [
        {
          "output_type": "stream",
          "name": "stdout",
          "text": [
            "              precision    recall  f1-score   support\n",
            "\n",
            "    NEGATIVE       0.94      0.44      0.60       207\n",
            "     NEITHER       0.05      0.33      0.09        12\n",
            "    POSITIVE       0.50      0.82      0.62        76\n",
            "\n",
            "    accuracy                           0.54       295\n",
            "   macro avg       0.50      0.53      0.44       295\n",
            "weighted avg       0.79      0.54      0.59       295\n",
            "\n"
          ]
        }
      ]
    },
    {
      "cell_type": "markdown",
      "metadata": {
        "id": "KZnXwWP58KRu"
      },
      "source": [
        "As you can see, the accuracy is around 54%. Therefore, our measure has a high error rate for *sentiment*\n",
        "\n",
        "Next, let us see how bad VADER is at measuring the actual construct or stance."
      ]
    },
    {
      "cell_type": "code",
      "metadata": {
        "colab": {
          "base_uri": "https://localhost:8080/"
        },
        "id": "IXDn01W38KRu",
        "outputId": "ba2bcf48-e4f0-4e19-ac69-ddf9d7cfbbdd"
      },
      "source": [
        "print(classification_report(stance_data['Stance'], stance_data['VADER_SENTIMENT']))"
      ],
      "execution_count": 12,
      "outputs": [
        {
          "output_type": "stream",
          "name": "stdout",
          "text": [
            "              precision    recall  f1-score   support\n",
            "\n",
            "    NEGATIVE       0.74      0.42      0.54       172\n",
            "     NEITHER       0.38      0.36      0.37        78\n",
            "    POSITIVE       0.24      0.67      0.36        45\n",
            "\n",
            "    accuracy                           0.44       295\n",
            "   macro avg       0.46      0.48      0.42       295\n",
            "weighted avg       0.57      0.44      0.47       295\n",
            "\n"
          ]
        }
      ]
    },
    {
      "cell_type": "markdown",
      "metadata": {
        "id": "RXGslK0E8KRu"
      },
      "source": [
        "VADER has an error rate of 56% when it comes to measuring stance and this error would affect all of our findings. It seems to be worse at detecting positive stance vs negative stance."
      ]
    },
    {
      "cell_type": "markdown",
      "metadata": {
        "id": "9H_rPT688KRv"
      },
      "source": [
        "### What is the effect of different aggregations and different populations?"
      ]
    },
    {
      "cell_type": "markdown",
      "metadata": {
        "id": "DjHG9WVR8KRv"
      },
      "source": [
        "Now, we will see how different aggregation or final measures can affect our findings using the Reddit elections dataset."
      ]
    },
    {
      "cell_type": "code",
      "metadata": {
        "colab": {
          "base_uri": "https://localhost:8080/",
          "height": 669
        },
        "id": "Qa2wmHV_8KRv",
        "outputId": "ea761020-61e6-4e22-dafe-20cde6ea7050"
      },
      "source": [
        "elections_df = pd.read_csv(\"elections.csv\")\n",
        "elections_df = elections_df[elections_df['Subreddit'] == 'donaldtrump']\n",
        "elections_df['Sentiment'] = [sid.polarity_scores(i)['compound'] for i in elections_df['Title']]\n",
        "#elections_df['Sentiment'] = ['POSITIVE' if i > 0.1 else 'NEGATIVE' if i < -0.1 else 'NEITHER' for i in elections_df['Sentiment']]\n",
        "elections_df.head()"
      ],
      "execution_count": 13,
      "outputs": [
        {
          "output_type": "execute_result",
          "data": {
            "text/plain": [
              "  Post ID                                              Title  \\\n",
              "0  jdr9ej  Holy Hell - FBI agent investigating CHILD PORN...   \n",
              "1  jdracy  Biden Surrogate Arrested on Child Pornography ...   \n",
              "2  jdrdat  Trump dancing with me while I lip sync to Upri...   \n",
              "3  jdre50            He’s probably as high as ammo prices rn   \n",
              "4  jdrens  Just saw for myself a behind the scenes look a...   \n",
              "\n",
              "                                                 Url           Author  Score  \\\n",
              "0  https://pittsburgh.forums.rivals.com/threads/h...      TrumpFan-45      1   \n",
              "1  https://m.theepochtimes.com/biden-surrogate-ar...      TrumpFan-45      1   \n",
              "2                    https://v.redd.it/af5a6nz90yt51       leandroman      1   \n",
              "3                https://i.redd.it/d4fiwz661yt51.jpg  limacharlie1776      1   \n",
              "4                https://i.redd.it/oshjah3c1yt51.png      TrumpFan-45      1   \n",
              "\n",
              "          Publish Date  Total No. of Comments  \\\n",
              "0  2020-10-19 02:00:46                      8   \n",
              "1  2020-10-19 02:02:26                      3   \n",
              "2  2020-10-19 02:07:32                      2   \n",
              "3  2020-10-19 02:09:05                      2   \n",
              "4  2020-10-19 02:10:00                     28   \n",
              "\n",
              "                                           Permalink  \\\n",
              "0  /r/donaldtrump/comments/jdr9ej/holy_hell_fbi_a...   \n",
              "1  /r/donaldtrump/comments/jdracy/biden_surrogate...   \n",
              "2  /r/donaldtrump/comments/jdrdat/trump_dancing_w...   \n",
              "3  /r/donaldtrump/comments/jdre50/hes_probably_as...   \n",
              "4  /r/donaldtrump/comments/jdrens/just_saw_for_my...   \n",
              "\n",
              "                                          Flair    Subreddit  Sentiment  \n",
              "0  :snoo_scream: PANIC IN D.C. :snoo_surprised:  donaldtrump    -0.6808  \n",
              "1  :snoo_scream: PANIC IN D.C. :snoo_surprised:  donaldtrump    -0.4767  \n",
              "2                                           NaN  donaldtrump     0.0000  \n",
              "3                                           NaN  donaldtrump     0.0000  \n",
              "4  :snoo_scream: PANIC IN D.C. :snoo_surprised:  donaldtrump    -0.1027  "
            ],
            "text/html": [
              "\n",
              "  <div id=\"df-d61468ea-53ad-40b4-9293-d11d989efb34\">\n",
              "    <div class=\"colab-df-container\">\n",
              "      <div>\n",
              "<style scoped>\n",
              "    .dataframe tbody tr th:only-of-type {\n",
              "        vertical-align: middle;\n",
              "    }\n",
              "\n",
              "    .dataframe tbody tr th {\n",
              "        vertical-align: top;\n",
              "    }\n",
              "\n",
              "    .dataframe thead th {\n",
              "        text-align: right;\n",
              "    }\n",
              "</style>\n",
              "<table border=\"1\" class=\"dataframe\">\n",
              "  <thead>\n",
              "    <tr style=\"text-align: right;\">\n",
              "      <th></th>\n",
              "      <th>Post ID</th>\n",
              "      <th>Title</th>\n",
              "      <th>Url</th>\n",
              "      <th>Author</th>\n",
              "      <th>Score</th>\n",
              "      <th>Publish Date</th>\n",
              "      <th>Total No. of Comments</th>\n",
              "      <th>Permalink</th>\n",
              "      <th>Flair</th>\n",
              "      <th>Subreddit</th>\n",
              "      <th>Sentiment</th>\n",
              "    </tr>\n",
              "  </thead>\n",
              "  <tbody>\n",
              "    <tr>\n",
              "      <th>0</th>\n",
              "      <td>jdr9ej</td>\n",
              "      <td>Holy Hell - FBI agent investigating CHILD PORN...</td>\n",
              "      <td>https://pittsburgh.forums.rivals.com/threads/h...</td>\n",
              "      <td>TrumpFan-45</td>\n",
              "      <td>1</td>\n",
              "      <td>2020-10-19 02:00:46</td>\n",
              "      <td>8</td>\n",
              "      <td>/r/donaldtrump/comments/jdr9ej/holy_hell_fbi_a...</td>\n",
              "      <td>:snoo_scream: PANIC IN D.C. :snoo_surprised:</td>\n",
              "      <td>donaldtrump</td>\n",
              "      <td>-0.6808</td>\n",
              "    </tr>\n",
              "    <tr>\n",
              "      <th>1</th>\n",
              "      <td>jdracy</td>\n",
              "      <td>Biden Surrogate Arrested on Child Pornography ...</td>\n",
              "      <td>https://m.theepochtimes.com/biden-surrogate-ar...</td>\n",
              "      <td>TrumpFan-45</td>\n",
              "      <td>1</td>\n",
              "      <td>2020-10-19 02:02:26</td>\n",
              "      <td>3</td>\n",
              "      <td>/r/donaldtrump/comments/jdracy/biden_surrogate...</td>\n",
              "      <td>:snoo_scream: PANIC IN D.C. :snoo_surprised:</td>\n",
              "      <td>donaldtrump</td>\n",
              "      <td>-0.4767</td>\n",
              "    </tr>\n",
              "    <tr>\n",
              "      <th>2</th>\n",
              "      <td>jdrdat</td>\n",
              "      <td>Trump dancing with me while I lip sync to Upri...</td>\n",
              "      <td>https://v.redd.it/af5a6nz90yt51</td>\n",
              "      <td>leandroman</td>\n",
              "      <td>1</td>\n",
              "      <td>2020-10-19 02:07:32</td>\n",
              "      <td>2</td>\n",
              "      <td>/r/donaldtrump/comments/jdrdat/trump_dancing_w...</td>\n",
              "      <td>NaN</td>\n",
              "      <td>donaldtrump</td>\n",
              "      <td>0.0000</td>\n",
              "    </tr>\n",
              "    <tr>\n",
              "      <th>3</th>\n",
              "      <td>jdre50</td>\n",
              "      <td>He’s probably as high as ammo prices rn</td>\n",
              "      <td>https://i.redd.it/d4fiwz661yt51.jpg</td>\n",
              "      <td>limacharlie1776</td>\n",
              "      <td>1</td>\n",
              "      <td>2020-10-19 02:09:05</td>\n",
              "      <td>2</td>\n",
              "      <td>/r/donaldtrump/comments/jdre50/hes_probably_as...</td>\n",
              "      <td>NaN</td>\n",
              "      <td>donaldtrump</td>\n",
              "      <td>0.0000</td>\n",
              "    </tr>\n",
              "    <tr>\n",
              "      <th>4</th>\n",
              "      <td>jdrens</td>\n",
              "      <td>Just saw for myself a behind the scenes look a...</td>\n",
              "      <td>https://i.redd.it/oshjah3c1yt51.png</td>\n",
              "      <td>TrumpFan-45</td>\n",
              "      <td>1</td>\n",
              "      <td>2020-10-19 02:10:00</td>\n",
              "      <td>28</td>\n",
              "      <td>/r/donaldtrump/comments/jdrens/just_saw_for_my...</td>\n",
              "      <td>:snoo_scream: PANIC IN D.C. :snoo_surprised:</td>\n",
              "      <td>donaldtrump</td>\n",
              "      <td>-0.1027</td>\n",
              "    </tr>\n",
              "  </tbody>\n",
              "</table>\n",
              "</div>\n",
              "      <button class=\"colab-df-convert\" onclick=\"convertToInteractive('df-d61468ea-53ad-40b4-9293-d11d989efb34')\"\n",
              "              title=\"Convert this dataframe to an interactive table.\"\n",
              "              style=\"display:none;\">\n",
              "        \n",
              "  <svg xmlns=\"http://www.w3.org/2000/svg\" height=\"24px\"viewBox=\"0 0 24 24\"\n",
              "       width=\"24px\">\n",
              "    <path d=\"M0 0h24v24H0V0z\" fill=\"none\"/>\n",
              "    <path d=\"M18.56 5.44l.94 2.06.94-2.06 2.06-.94-2.06-.94-.94-2.06-.94 2.06-2.06.94zm-11 1L8.5 8.5l.94-2.06 2.06-.94-2.06-.94L8.5 2.5l-.94 2.06-2.06.94zm10 10l.94 2.06.94-2.06 2.06-.94-2.06-.94-.94-2.06-.94 2.06-2.06.94z\"/><path d=\"M17.41 7.96l-1.37-1.37c-.4-.4-.92-.59-1.43-.59-.52 0-1.04.2-1.43.59L10.3 9.45l-7.72 7.72c-.78.78-.78 2.05 0 2.83L4 21.41c.39.39.9.59 1.41.59.51 0 1.02-.2 1.41-.59l7.78-7.78 2.81-2.81c.8-.78.8-2.07 0-2.86zM5.41 20L4 18.59l7.72-7.72 1.47 1.35L5.41 20z\"/>\n",
              "  </svg>\n",
              "      </button>\n",
              "      \n",
              "  <style>\n",
              "    .colab-df-container {\n",
              "      display:flex;\n",
              "      flex-wrap:wrap;\n",
              "      gap: 12px;\n",
              "    }\n",
              "\n",
              "    .colab-df-convert {\n",
              "      background-color: #E8F0FE;\n",
              "      border: none;\n",
              "      border-radius: 50%;\n",
              "      cursor: pointer;\n",
              "      display: none;\n",
              "      fill: #1967D2;\n",
              "      height: 32px;\n",
              "      padding: 0 0 0 0;\n",
              "      width: 32px;\n",
              "    }\n",
              "\n",
              "    .colab-df-convert:hover {\n",
              "      background-color: #E2EBFA;\n",
              "      box-shadow: 0px 1px 2px rgba(60, 64, 67, 0.3), 0px 1px 3px 1px rgba(60, 64, 67, 0.15);\n",
              "      fill: #174EA6;\n",
              "    }\n",
              "\n",
              "    [theme=dark] .colab-df-convert {\n",
              "      background-color: #3B4455;\n",
              "      fill: #D2E3FC;\n",
              "    }\n",
              "\n",
              "    [theme=dark] .colab-df-convert:hover {\n",
              "      background-color: #434B5C;\n",
              "      box-shadow: 0px 1px 3px 1px rgba(0, 0, 0, 0.15);\n",
              "      filter: drop-shadow(0px 1px 2px rgba(0, 0, 0, 0.3));\n",
              "      fill: #FFFFFF;\n",
              "    }\n",
              "  </style>\n",
              "\n",
              "      <script>\n",
              "        const buttonEl =\n",
              "          document.querySelector('#df-d61468ea-53ad-40b4-9293-d11d989efb34 button.colab-df-convert');\n",
              "        buttonEl.style.display =\n",
              "          google.colab.kernel.accessAllowed ? 'block' : 'none';\n",
              "\n",
              "        async function convertToInteractive(key) {\n",
              "          const element = document.querySelector('#df-d61468ea-53ad-40b4-9293-d11d989efb34');\n",
              "          const dataTable =\n",
              "            await google.colab.kernel.invokeFunction('convertToInteractive',\n",
              "                                                     [key], {});\n",
              "          if (!dataTable) return;\n",
              "\n",
              "          const docLinkHtml = 'Like what you see? Visit the ' +\n",
              "            '<a target=\"_blank\" href=https://colab.research.google.com/notebooks/data_table.ipynb>data table notebook</a>'\n",
              "            + ' to learn more about interactive tables.';\n",
              "          element.innerHTML = '';\n",
              "          dataTable['output_type'] = 'display_data';\n",
              "          await google.colab.output.renderOutput(dataTable, element);\n",
              "          const docLink = document.createElement('div');\n",
              "          docLink.innerHTML = docLinkHtml;\n",
              "          element.appendChild(docLink);\n",
              "        }\n",
              "      </script>\n",
              "    </div>\n",
              "  </div>\n",
              "  "
            ]
          },
          "metadata": {},
          "execution_count": 13
        }
      ]
    },
    {
      "cell_type": "markdown",
      "metadata": {
        "id": "0US3y72g8KRv"
      },
      "source": [
        "#### Number of tweets per day"
      ]
    },
    {
      "cell_type": "markdown",
      "metadata": {
        "id": "xSeyIkjq8KRv"
      },
      "source": [
        "The first aggregation we will consider is a straightforward measure of the number of posts per day as used in some papers"
      ]
    },
    {
      "cell_type": "code",
      "metadata": {
        "colab": {
          "base_uri": "https://localhost:8080/",
          "height": 302
        },
        "id": "h9M4-2pH8KRv",
        "outputId": "c237b424-58ab-4d19-9a73-8e1e359fef23"
      },
      "source": [
        "df = (pd.to_datetime(elections_df['Publish Date'])\n",
        "       .dt.floor('d')\n",
        "       .value_counts()\n",
        "       .rename_axis('date')\n",
        "       .reset_index(name='count'))\n",
        "df.plot(x = 'date', y = 'count')"
      ],
      "execution_count": 14,
      "outputs": [
        {
          "output_type": "execute_result",
          "data": {
            "text/plain": [
              "<matplotlib.axes._subplots.AxesSubplot at 0x7f8cecb612b0>"
            ]
          },
          "metadata": {},
          "execution_count": 14
        },
        {
          "output_type": "display_data",
          "data": {
            "text/plain": [
              "<Figure size 432x288 with 1 Axes>"
            ],
            "image/png": "[encoded data removed]"
          },
          "metadata": {
            "needs_background": "light"
          }
        }
      ]
    },
    {
      "cell_type": "code",
      "metadata": {
        "colab": {
          "base_uri": "https://localhost:8080/",
          "height": 1000
        },
        "id": "puwf5R0T8KRw",
        "outputId": "91a16ffb-830d-4c01-ad91-5378899ee998"
      },
      "source": [
        "elections_df['date'] = pd.to_datetime(elections_df['Publish Date']).dt.floor('d')\n",
        "elections_df"
      ],
      "execution_count": 15,
      "outputs": [
        {
          "output_type": "execute_result",
          "data": {
            "text/plain": [
              "     Post ID                                              Title  \\\n",
              "0     jdr9ej  Holy Hell - FBI agent investigating CHILD PORN...   \n",
              "1     jdracy  Biden Surrogate Arrested on Child Pornography ...   \n",
              "2     jdrdat  Trump dancing with me while I lip sync to Upri...   \n",
              "3     jdre50            He’s probably as high as ammo prices rn   \n",
              "4     jdrens  Just saw for myself a behind the scenes look a...   \n",
              "...      ...                                                ...   \n",
              "2381  jimve3  Finally saw my first Biden caravan. 50 ambulan...   \n",
              "2382  jin678  Kamala Harris admits with a big smile she has ...   \n",
              "2383  jin8e8  BREAKING: Biden told to STAY AWAY from childre...   \n",
              "2384  jin8rl  BUSTED: TV Journalists Blatantly LIE About Hun...   \n",
              "2385  jin9gb           The 4th largest newspaper endorses Trump   \n",
              "\n",
              "                                                    Url           Author  \\\n",
              "0     https://pittsburgh.forums.rivals.com/threads/h...      TrumpFan-45   \n",
              "1     https://m.theepochtimes.com/biden-surrogate-ar...      TrumpFan-45   \n",
              "2                       https://v.redd.it/af5a6nz90yt51       leandroman   \n",
              "3                   https://i.redd.it/d4fiwz661yt51.jpg  limacharlie1776   \n",
              "4                   https://i.redd.it/oshjah3c1yt51.png      TrumpFan-45   \n",
              "...                                                 ...              ...   \n",
              "2381                    https://v.redd.it/o8ec19y04iv51        meister2a   \n",
              "2382        https://www.youtube.com/watch?v=0iMYlJqsDcg          saigeco   \n",
              "2383  https://www.youtube.com/watch?v=q81QXRqD3vs&am...     POLYTICALpod   \n",
              "2384                       https://youtu.be/IvFzejPneoQ         Dronetek   \n",
              "2385                    https://i.imgur.com/IGFT1zI.jpg   AddictedReddit   \n",
              "\n",
              "      Score         Publish Date  Total No. of Comments  \\\n",
              "0         1  2020-10-19 02:00:46                      8   \n",
              "1         1  2020-10-19 02:02:26                      3   \n",
              "2         1  2020-10-19 02:07:32                      2   \n",
              "3         1  2020-10-19 02:09:05                      2   \n",
              "4         1  2020-10-19 02:10:00                     28   \n",
              "...     ...                  ...                    ...   \n",
              "2381      1  2020-10-26 21:45:44                      0   \n",
              "2382      1  2020-10-26 22:00:37                      1   \n",
              "2383      1  2020-10-26 22:03:36                      1   \n",
              "2384      1  2020-10-26 22:04:04                      1   \n",
              "2385      1  2020-10-26 22:04:57                      1   \n",
              "\n",
              "                                              Permalink  \\\n",
              "0     /r/donaldtrump/comments/jdr9ej/holy_hell_fbi_a...   \n",
              "1     /r/donaldtrump/comments/jdracy/biden_surrogate...   \n",
              "2     /r/donaldtrump/comments/jdrdat/trump_dancing_w...   \n",
              "3     /r/donaldtrump/comments/jdre50/hes_probably_as...   \n",
              "4     /r/donaldtrump/comments/jdrens/just_saw_for_my...   \n",
              "...                                                 ...   \n",
              "2381  /r/donaldtrump/comments/jimve3/finally_saw_my_...   \n",
              "2382  /r/donaldtrump/comments/jin678/kamala_harris_a...   \n",
              "2383  /r/donaldtrump/comments/jin8e8/breaking_biden_...   \n",
              "2384  /r/donaldtrump/comments/jin8rl/busted_tv_journ...   \n",
              "2385  /r/donaldtrump/comments/jin9gb/the_4th_largest...   \n",
              "\n",
              "                                             Flair    Subreddit  Sentiment  \\\n",
              "0     :snoo_scream: PANIC IN D.C. :snoo_surprised:  donaldtrump    -0.6808   \n",
              "1     :snoo_scream: PANIC IN D.C. :snoo_surprised:  donaldtrump    -0.4767   \n",
              "2                                              NaN  donaldtrump     0.0000   \n",
              "3                                              NaN  donaldtrump     0.0000   \n",
              "4     :snoo_scream: PANIC IN D.C. :snoo_surprised:  donaldtrump    -0.1027   \n",
              "...                                            ...          ...        ...   \n",
              "2381                                    🎭 SATIRE 🎭  donaldtrump     0.0000   \n",
              "2382                                           NaN  donaldtrump     0.8176   \n",
              "2383                                           NaN  donaldtrump     0.0000   \n",
              "2384                                           NaN  donaldtrump     0.0000   \n",
              "2385                                           NaN  donaldtrump     0.3400   \n",
              "\n",
              "           date  \n",
              "0    2020-10-19  \n",
              "1    2020-10-19  \n",
              "2    2020-10-19  \n",
              "3    2020-10-19  \n",
              "4    2020-10-19  \n",
              "...         ...  \n",
              "2381 2020-10-26  \n",
              "2382 2020-10-26  \n",
              "2383 2020-10-26  \n",
              "2384 2020-10-26  \n",
              "2385 2020-10-26  \n",
              "\n",
              "[2386 rows x 12 columns]"
            ],
            "text/html": [
              "\n",
              "  <div id=\"df-ea53356d-d126-44a6-b179-ce9bc0137b1e\">\n",
              "    <div class=\"colab-df-container\">\n",
              "      <div>\n",
              "<style scoped>\n",
              "    .dataframe tbody tr th:only-of-type {\n",
              "        vertical-align: middle;\n",
              "    }\n",
              "\n",
              "    .dataframe tbody tr th {\n",
              "        vertical-align: top;\n",
              "    }\n",
              "\n",
              "    .dataframe thead th {\n",
              "        text-align: right;\n",
              "    }\n",
              "</style>\n",
              "<table border=\"1\" class=\"dataframe\">\n",
              "  <thead>\n",
              "    <tr style=\"text-align: right;\">\n",
              "      <th></th>\n",
              "      <th>Post ID</th>\n",
              "      <th>Title</th>\n",
              "      <th>Url</th>\n",
              "      <th>Author</th>\n",
              "      <th>Score</th>\n",
              "      <th>Publish Date</th>\n",
              "      <th>Total No. of Comments</th>\n",
              "      <th>Permalink</th>\n",
              "      <th>Flair</th>\n",
              "      <th>Subreddit</th>\n",
              "      <th>Sentiment</th>\n",
              "      <th>date</th>\n",
              "    </tr>\n",
              "  </thead>\n",
              "  <tbody>\n",
              "    <tr>\n",
              "      <th>0</th>\n",
              "      <td>jdr9ej</td>\n",
              "      <td>Holy Hell - FBI agent investigating CHILD PORN...</td>\n",
              "      <td>https://pittsburgh.forums.rivals.com/threads/h...</td>\n",
              "      <td>TrumpFan-45</td>\n",
              "      <td>1</td>\n",
              "      <td>2020-10-19 02:00:46</td>\n",
              "      <td>8</td>\n",
              "      <td>/r/donaldtrump/comments/jdr9ej/holy_hell_fbi_a...</td>\n",
              "      <td>:snoo_scream: PANIC IN D.C. :snoo_surprised:</td>\n",
              "      <td>donaldtrump</td>\n",
              "      <td>-0.6808</td>\n",
              "      <td>2020-10-19</td>\n",
              "    </tr>\n",
              "    <tr>\n",
              "      <th>1</th>\n",
              "      <td>jdracy</td>\n",
              "      <td>Biden Surrogate Arrested on Child Pornography ...</td>\n",
              "      <td>https://m.theepochtimes.com/biden-surrogate-ar...</td>\n",
              "      <td>TrumpFan-45</td>\n",
              "      <td>1</td>\n",
              "      <td>2020-10-19 02:02:26</td>\n",
              "      <td>3</td>\n",
              "      <td>/r/donaldtrump/comments/jdracy/biden_surrogate...</td>\n",
              "      <td>:snoo_scream: PANIC IN D.C. :snoo_surprised:</td>\n",
              "      <td>donaldtrump</td>\n",
              "      <td>-0.4767</td>\n",
              "      <td>2020-10-19</td>\n",
              "    </tr>\n",
              "    <tr>\n",
              "      <th>2</th>\n",
              "      <td>jdrdat</td>\n",
              "      <td>Trump dancing with me while I lip sync to Upri...</td>\n",
              "      <td>https://v.redd.it/af5a6nz90yt51</td>\n",
              "      <td>leandroman</td>\n",
              "      <td>1</td>\n",
              "      <td>2020-10-19 02:07:32</td>\n",
              "      <td>2</td>\n",
              "      <td>/r/donaldtrump/comments/jdrdat/trump_dancing_w...</td>\n",
              "      <td>NaN</td>\n",
              "      <td>donaldtrump</td>\n",
              "      <td>0.0000</td>\n",
              "      <td>2020-10-19</td>\n",
              "    </tr>\n",
              "    <tr>\n",
              "      <th>3</th>\n",
              "      <td>jdre50</td>\n",
              "      <td>He’s probably as high as ammo prices rn</td>\n",
              "      <td>https://i.redd.it/d4fiwz661yt51.jpg</td>\n",
              "      <td>limacharlie1776</td>\n",
              "      <td>1</td>\n",
              "      <td>2020-10-19 02:09:05</td>\n",
              "      <td>2</td>\n",
              "      <td>/r/donaldtrump/comments/jdre50/hes_probably_as...</td>\n",
              "      <td>NaN</td>\n",
              "      <td>donaldtrump</td>\n",
              "      <td>0.0000</td>\n",
              "      <td>2020-10-19</td>\n",
              "    </tr>\n",
              "    <tr>\n",
              "      <th>4</th>\n",
              "      <td>jdrens</td>\n",
              "      <td>Just saw for myself a behind the scenes look a...</td>\n",
              "      <td>https://i.redd.it/oshjah3c1yt51.png</td>\n",
              "      <td>TrumpFan-45</td>\n",
              "      <td>1</td>\n",
              "      <td>2020-10-19 02:10:00</td>\n",
              "      <td>28</td>\n",
              "      <td>/r/donaldtrump/comments/jdrens/just_saw_for_my...</td>\n",
              "      <td>:snoo_scream: PANIC IN D.C. :snoo_surprised:</td>\n",
              "      <td>donaldtrump</td>\n",
              "      <td>-0.1027</td>\n",
              "      <td>2020-10-19</td>\n",
              "    </tr>\n",
              "    <tr>\n",
              "      <th>...</th>\n",
              "      <td>...</td>\n",
              "      <td>...</td>\n",
              "      <td>...</td>\n",
              "      <td>...</td>\n",
              "      <td>...</td>\n",
              "      <td>...</td>\n",
              "      <td>...</td>\n",
              "      <td>...</td>\n",
              "      <td>...</td>\n",
              "      <td>...</td>\n",
              "      <td>...</td>\n",
              "      <td>...</td>\n",
              "    </tr>\n",
              "    <tr>\n",
              "      <th>2381</th>\n",
              "      <td>jimve3</td>\n",
              "      <td>Finally saw my first Biden caravan. 50 ambulan...</td>\n",
              "      <td>https://v.redd.it/o8ec19y04iv51</td>\n",
              "      <td>meister2a</td>\n",
              "      <td>1</td>\n",
              "      <td>2020-10-26 21:45:44</td>\n",
              "      <td>0</td>\n",
              "      <td>/r/donaldtrump/comments/jimve3/finally_saw_my_...</td>\n",
              "      <td>🎭 SATIRE 🎭</td>\n",
              "      <td>donaldtrump</td>\n",
              "      <td>0.0000</td>\n",
              "      <td>2020-10-26</td>\n",
              "    </tr>\n",
              "    <tr>\n",
              "      <th>2382</th>\n",
              "      <td>jin678</td>\n",
              "      <td>Kamala Harris admits with a big smile she has ...</td>\n",
              "      <td>https://www.youtube.com/watch?v=0iMYlJqsDcg</td>\n",
              "      <td>saigeco</td>\n",
              "      <td>1</td>\n",
              "      <td>2020-10-26 22:00:37</td>\n",
              "      <td>1</td>\n",
              "      <td>/r/donaldtrump/comments/jin678/kamala_harris_a...</td>\n",
              "      <td>NaN</td>\n",
              "      <td>donaldtrump</td>\n",
              "      <td>0.8176</td>\n",
              "      <td>2020-10-26</td>\n",
              "    </tr>\n",
              "    <tr>\n",
              "      <th>2383</th>\n",
              "      <td>jin8e8</td>\n",
              "      <td>BREAKING: Biden told to STAY AWAY from childre...</td>\n",
              "      <td>https://www.youtube.com/watch?v=q81QXRqD3vs&amp;am...</td>\n",
              "      <td>POLYTICALpod</td>\n",
              "      <td>1</td>\n",
              "      <td>2020-10-26 22:03:36</td>\n",
              "      <td>1</td>\n",
              "      <td>/r/donaldtrump/comments/jin8e8/breaking_biden_...</td>\n",
              "      <td>NaN</td>\n",
              "      <td>donaldtrump</td>\n",
              "      <td>0.0000</td>\n",
              "      <td>2020-10-26</td>\n",
              "    </tr>\n",
              "    <tr>\n",
              "      <th>2384</th>\n",
              "      <td>jin8rl</td>\n",
              "      <td>BUSTED: TV Journalists Blatantly LIE About Hun...</td>\n",
              "      <td>https://youtu.be/IvFzejPneoQ</td>\n",
              "      <td>Dronetek</td>\n",
              "      <td>1</td>\n",
              "      <td>2020-10-26 22:04:04</td>\n",
              "      <td>1</td>\n",
              "      <td>/r/donaldtrump/comments/jin8rl/busted_tv_journ...</td>\n",
              "      <td>NaN</td>\n",
              "      <td>donaldtrump</td>\n",
              "      <td>0.0000</td>\n",
              "      <td>2020-10-26</td>\n",
              "    </tr>\n",
              "    <tr>\n",
              "      <th>2385</th>\n",
              "      <td>jin9gb</td>\n",
              "      <td>The 4th largest newspaper endorses Trump</td>\n",
              "      <td>https://i.imgur.com/IGFT1zI.jpg</td>\n",
              "      <td>AddictedReddit</td>\n",
              "      <td>1</td>\n",
              "      <td>2020-10-26 22:04:57</td>\n",
              "      <td>1</td>\n",
              "      <td>/r/donaldtrump/comments/jin9gb/the_4th_largest...</td>\n",
              "      <td>NaN</td>\n",
              "      <td>donaldtrump</td>\n",
              "      <td>0.3400</td>\n",
              "      <td>2020-10-26</td>\n",
              "    </tr>\n",
              "  </tbody>\n",
              "</table>\n",
              "<p>2386 rows × 12 columns</p>\n",
              "</div>\n",
              "      <button class=\"colab-df-convert\" onclick=\"convertToInteractive('df-ea53356d-d126-44a6-b179-ce9bc0137b1e')\"\n",
              "              title=\"Convert this dataframe to an interactive table.\"\n",
              "              style=\"display:none;\">\n",
              "        \n",
              "  <svg xmlns=\"http://www.w3.org/2000/svg\" height=\"24px\"viewBox=\"0 0 24 24\"\n",
              "       width=\"24px\">\n",
              "    <path d=\"M0 0h24v24H0V0z\" fill=\"none\"/>\n",
              "    <path d=\"M18.56 5.44l.94 2.06.94-2.06 2.06-.94-2.06-.94-.94-2.06-.94 2.06-2.06.94zm-11 1L8.5 8.5l.94-2.06 2.06-.94-2.06-.94L8.5 2.5l-.94 2.06-2.06.94zm10 10l.94 2.06.94-2.06 2.06-.94-2.06-.94-.94-2.06-.94 2.06-2.06.94z\"/><path d=\"M17.41 7.96l-1.37-1.37c-.4-.4-.92-.59-1.43-.59-.52 0-1.04.2-1.43.59L10.3 9.45l-7.72 7.72c-.78.78-.78 2.05 0 2.83L4 21.41c.39.39.9.59 1.41.59.51 0 1.02-.2 1.41-.59l7.78-7.78 2.81-2.81c.8-.78.8-2.07 0-2.86zM5.41 20L4 18.59l7.72-7.72 1.47 1.35L5.41 20z\"/>\n",
              "  </svg>\n",
              "      </button>\n",
              "      \n",
              "  <style>\n",
              "    .colab-df-container {\n",
              "      display:flex;\n",
              "      flex-wrap:wrap;\n",
              "      gap: 12px;\n",
              "    }\n",
              "\n",
              "    .colab-df-convert {\n",
              "      background-color: #E8F0FE;\n",
              "      border: none;\n",
              "      border-radius: 50%;\n",
              "      cursor: pointer;\n",
              "      display: none;\n",
              "      fill: #1967D2;\n",
              "      height: 32px;\n",
              "      padding: 0 0 0 0;\n",
              "      width: 32px;\n",
              "    }\n",
              "\n",
              "    .colab-df-convert:hover {\n",
              "      background-color: #E2EBFA;\n",
              "      box-shadow: 0px 1px 2px rgba(60, 64, 67, 0.3), 0px 1px 3px 1px rgba(60, 64, 67, 0.15);\n",
              "      fill: #174EA6;\n",
              "    }\n",
              "\n",
              "    [theme=dark] .colab-df-convert {\n",
              "      background-color: #3B4455;\n",
              "      fill: #D2E3FC;\n",
              "    }\n",
              "\n",
              "    [theme=dark] .colab-df-convert:hover {\n",
              "      background-color: #434B5C;\n",
              "      box-shadow: 0px 1px 3px 1px rgba(0, 0, 0, 0.15);\n",
              "      filter: drop-shadow(0px 1px 2px rgba(0, 0, 0, 0.3));\n",
              "      fill: #FFFFFF;\n",
              "    }\n",
              "  </style>\n",
              "\n",
              "      <script>\n",
              "        const buttonEl =\n",
              "          document.querySelector('#df-ea53356d-d126-44a6-b179-ce9bc0137b1e button.colab-df-convert');\n",
              "        buttonEl.style.display =\n",
              "          google.colab.kernel.accessAllowed ? 'block' : 'none';\n",
              "\n",
              "        async function convertToInteractive(key) {\n",
              "          const element = document.querySelector('#df-ea53356d-d126-44a6-b179-ce9bc0137b1e');\n",
              "          const dataTable =\n",
              "            await google.colab.kernel.invokeFunction('convertToInteractive',\n",
              "                                                     [key], {});\n",
              "          if (!dataTable) return;\n",
              "\n",
              "          const docLinkHtml = 'Like what you see? Visit the ' +\n",
              "            '<a target=\"_blank\" href=https://colab.research.google.com/notebooks/data_table.ipynb>data table notebook</a>'\n",
              "            + ' to learn more about interactive tables.';\n",
              "          element.innerHTML = '';\n",
              "          dataTable['output_type'] = 'display_data';\n",
              "          await google.colab.output.renderOutput(dataTable, element);\n",
              "          const docLink = document.createElement('div');\n",
              "          docLink.innerHTML = docLinkHtml;\n",
              "          element.appendChild(docLink);\n",
              "        }\n",
              "      </script>\n",
              "    </div>\n",
              "  </div>\n",
              "  "
            ]
          },
          "metadata": {},
          "execution_count": 15
        }
      ]
    },
    {
      "cell_type": "markdown",
      "metadata": {
        "id": "2uLsFscs8KRw"
      },
      "source": [
        "#### Aggregate of sentiment per day"
      ]
    },
    {
      "cell_type": "code",
      "metadata": {
        "colab": {
          "base_uri": "https://localhost:8080/",
          "height": 320
        },
        "id": "g2KCJ87t8KRw",
        "outputId": "c781270d-90ce-4f98-9c25-c0e3ab71d710"
      },
      "source": [
        "m = elections_df.groupby(elections_df.date).Sentiment.mean().reset_index()\n",
        "m.plot(x = 'date', y = 'Sentiment')"
      ],
      "execution_count": 16,
      "outputs": [
        {
          "output_type": "execute_result",
          "data": {
            "text/plain": [
              "<matplotlib.axes._subplots.AxesSubplot at 0x7f8ced0cfa00>"
            ]
          },
          "metadata": {},
          "execution_count": 16
        },
        {
          "output_type": "display_data",
          "data": {
            "text/plain": [
              "<Figure size 432x288 with 1 Axes>"
            ],
            "image/png": "[encoded data removed]"
          },
          "metadata": {
            "needs_background": "light"
          }
        }
      ]
    },
    {
      "cell_type": "markdown",
      "metadata": {
        "id": "56eOxEbE8KRw"
      },
      "source": [
        "#### Two different subreddit tell different stories"
      ]
    },
    {
      "cell_type": "code",
      "metadata": {
        "colab": {
          "base_uri": "https://localhost:8080/",
          "height": 1000
        },
        "id": "2Gm1JhX68KRw",
        "outputId": "d359d617-7e38-464f-f32e-3c02c0b78992"
      },
      "source": [
        "elections_df = pd.read_csv(\"elections.csv\")\n",
        "elections_df_trump = elections_df[elections_df['Subreddit'] == 'donaldtrump']\n",
        "elections_df_biden = elections_df[elections_df['Subreddit'] == 'JoeBiden']\n",
        "\n",
        "elections_df_trump['Sentiment'] = [sid.polarity_scores(i)['compound'] for i in elections_df_trump['Title']]\n",
        "elections_df_trump['date'] = pd.to_datetime(elections_df_trump['Publish Date']).dt.floor('d')\n",
        "m = elections_df_trump.groupby(elections_df_trump.date).Sentiment.mean().reset_index()\n",
        "ax = m.plot(x = 'date', y = 'Sentiment', label = 'Trump', color = 'red')\n",
        "\n",
        "elections_df_biden['Sentiment'] = [sid.polarity_scores(i)['compound'] for i in elections_df_biden['Title']]\n",
        "elections_df_biden['date'] = pd.to_datetime(elections_df_biden['Publish Date']).dt.floor('d')\n",
        "m = elections_df_biden.groupby(elections_df_biden.date).Sentiment.mean().reset_index()\n",
        "ax = m.plot(x = 'date', y = 'Sentiment', label = 'Biden', color = 'blue')"
      ],
      "execution_count": 27,
      "outputs": [
        {
          "output_type": "stream",
          "name": "stderr",
          "text": [
            "<ipython-input-27-01985e1c69a8>:5: SettingWithCopyWarning: \n",
            "A value is trying to be set on a copy of a slice from a DataFrame.\n",
            "Try using .loc[row_indexer,col_indexer] = value instead\n",
            "\n",
            "See the caveats in the documentation: https://pandas.pydata.org/pandas-docs/stable/user_guide/indexing.html#returning-a-view-versus-a-copy\n",
            "  elections_df_trump['Sentiment'] = [sid.polarity_scores(i)['compound'] for i in elections_df_trump['Title']]\n",
            "<ipython-input-27-01985e1c69a8>:6: SettingWithCopyWarning: \n",
            "A value is trying to be set on a copy of a slice from a DataFrame.\n",
            "Try using .loc[row_indexer,col_indexer] = value instead\n",
            "\n",
            "See the caveats in the documentation: https://pandas.pydata.org/pandas-docs/stable/user_guide/indexing.html#returning-a-view-versus-a-copy\n",
            "  elections_df_trump['date'] = pd.to_datetime(elections_df_trump['Publish Date']).dt.floor('d')\n",
            "<ipython-input-27-01985e1c69a8>:10: SettingWithCopyWarning: \n",
            "A value is trying to be set on a copy of a slice from a DataFrame.\n",
            "Try using .loc[row_indexer,col_indexer] = value instead\n",
            "\n",
            "See the caveats in the documentation: https://pandas.pydata.org/pandas-docs/stable/user_guide/indexing.html#returning-a-view-versus-a-copy\n",
            "  elections_df_biden['Sentiment'] = [sid.polarity_scores(i)['compound'] for i in elections_df_biden['Title']]\n",
            "<ipython-input-27-01985e1c69a8>:11: SettingWithCopyWarning: \n",
            "A value is trying to be set on a copy of a slice from a DataFrame.\n",
            "Try using .loc[row_indexer,col_indexer] = value instead\n",
            "\n",
            "See the caveats in the documentation: https://pandas.pydata.org/pandas-docs/stable/user_guide/indexing.html#returning-a-view-versus-a-copy\n",
            "  elections_df_biden['date'] = pd.to_datetime(elections_df_biden['Publish Date']).dt.floor('d')\n"
          ]
        },
        {
          "output_type": "display_data",
          "data": {
            "text/plain": [
              "<Figure size 432x288 with 1 Axes>"
            ],
            "image/png": "[encoded data removed]"
          },
          "metadata": {
            "needs_background": "light"
          }
        },
        {
          "output_type": "display_data",
          "data": {
            "text/plain": [
              "<Figure size 432x288 with 1 Axes>"
            ],
            "image/png": "[encoded data removed]"
          },
          "metadata": {
            "needs_background": "light"
          }
        }
      ]
    },
    {
      "cell_type": "code",
      "source": [
        "elections_df.groupby('Subreddit').count()"
      ],
      "metadata": {
        "colab": {
          "base_uri": "https://localhost:8080/",
          "height": 175
        },
        "id": "UzE1K9O6ZtSZ",
        "outputId": "6f735895-5221-45ab-cf70-c21412c7ac0a"
      },
      "execution_count": 23,
      "outputs": [
        {
          "output_type": "execute_result",
          "data": {
            "text/plain": [
              "             Post ID  Title    Url  Author  Score  Publish Date  \\\n",
              "Subreddit                                                         \n",
              "JoeBiden        2814   2814   2814    2814   2814          2814   \n",
              "donaldtrump     2386   2386   2386    2386   2386          2386   \n",
              "politics       10676  10676  10676   10676  10676         10676   \n",
              "\n",
              "             Total No. of Comments  Permalink  Flair  \n",
              "Subreddit                                             \n",
              "JoeBiden                      2814       2814   1967  \n",
              "donaldtrump                   2386       2386   1104  \n",
              "politics                     10676      10676   2732  "
            ],
            "text/html": [
              "\n",
              "  <div id=\"df-80370ede-4a0e-455f-968d-557aa591eb4b\">\n",
              "    <div class=\"colab-df-container\">\n",
              "      <div>\n",
              "<style scoped>\n",
              "    .dataframe tbody tr th:only-of-type {\n",
              "        vertical-align: middle;\n",
              "    }\n",
              "\n",
              "    .dataframe tbody tr th {\n",
              "        vertical-align: top;\n",
              "    }\n",
              "\n",
              "    .dataframe thead th {\n",
              "        text-align: right;\n",
              "    }\n",
              "</style>\n",
              "<table border=\"1\" class=\"dataframe\">\n",
              "  <thead>\n",
              "    <tr style=\"text-align: right;\">\n",
              "      <th></th>\n",
              "      <th>Post ID</th>\n",
              "      <th>Title</th>\n",
              "      <th>Url</th>\n",
              "      <th>Author</th>\n",
              "      <th>Score</th>\n",
              "      <th>Publish Date</th>\n",
              "      <th>Total No. of Comments</th>\n",
              "      <th>Permalink</th>\n",
              "      <th>Flair</th>\n",
              "    </tr>\n",
              "    <tr>\n",
              "      <th>Subreddit</th>\n",
              "      <th></th>\n",
              "      <th></th>\n",
              "      <th></th>\n",
              "      <th></th>\n",
              "      <th></th>\n",
              "      <th></th>\n",
              "      <th></th>\n",
              "      <th></th>\n",
              "      <th></th>\n",
              "    </tr>\n",
              "  </thead>\n",
              "  <tbody>\n",
              "    <tr>\n",
              "      <th>JoeBiden</th>\n",
              "      <td>2814</td>\n",
              "      <td>2814</td>\n",
              "      <td>2814</td>\n",
              "      <td>2814</td>\n",
              "      <td>2814</td>\n",
              "      <td>2814</td>\n",
              "      <td>2814</td>\n",
              "      <td>2814</td>\n",
              "      <td>1967</td>\n",
              "    </tr>\n",
              "    <tr>\n",
              "      <th>donaldtrump</th>\n",
              "      <td>2386</td>\n",
              "      <td>2386</td>\n",
              "      <td>2386</td>\n",
              "      <td>2386</td>\n",
              "      <td>2386</td>\n",
              "      <td>2386</td>\n",
              "      <td>2386</td>\n",
              "      <td>2386</td>\n",
              "      <td>1104</td>\n",
              "    </tr>\n",
              "    <tr>\n",
              "      <th>politics</th>\n",
              "      <td>10676</td>\n",
              "      <td>10676</td>\n",
              "      <td>10676</td>\n",
              "      <td>10676</td>\n",
              "      <td>10676</td>\n",
              "      <td>10676</td>\n",
              "      <td>10676</td>\n",
              "      <td>10676</td>\n",
              "      <td>2732</td>\n",
              "    </tr>\n",
              "  </tbody>\n",
              "</table>\n",
              "</div>\n",
              "      <button class=\"colab-df-convert\" onclick=\"convertToInteractive('df-80370ede-4a0e-455f-968d-557aa591eb4b')\"\n",
              "              title=\"Convert this dataframe to an interactive table.\"\n",
              "              style=\"display:none;\">\n",
              "        \n",
              "  <svg xmlns=\"http://www.w3.org/2000/svg\" height=\"24px\"viewBox=\"0 0 24 24\"\n",
              "       width=\"24px\">\n",
              "    <path d=\"M0 0h24v24H0V0z\" fill=\"none\"/>\n",
              "    <path d=\"M18.56 5.44l.94 2.06.94-2.06 2.06-.94-2.06-.94-.94-2.06-.94 2.06-2.06.94zm-11 1L8.5 8.5l.94-2.06 2.06-.94-2.06-.94L8.5 2.5l-.94 2.06-2.06.94zm10 10l.94 2.06.94-2.06 2.06-.94-2.06-.94-.94-2.06-.94 2.06-2.06.94z\"/><path d=\"M17.41 7.96l-1.37-1.37c-.4-.4-.92-.59-1.43-.59-.52 0-1.04.2-1.43.59L10.3 9.45l-7.72 7.72c-.78.78-.78 2.05 0 2.83L4 21.41c.39.39.9.59 1.41.59.51 0 1.02-.2 1.41-.59l7.78-7.78 2.81-2.81c.8-.78.8-2.07 0-2.86zM5.41 20L4 18.59l7.72-7.72 1.47 1.35L5.41 20z\"/>\n",
              "  </svg>\n",
              "      </button>\n",
              "      \n",
              "  <style>\n",
              "    .colab-df-container {\n",
              "      display:flex;\n",
              "      flex-wrap:wrap;\n",
              "      gap: 12px;\n",
              "    }\n",
              "\n",
              "    .colab-df-convert {\n",
              "      background-color: #E8F0FE;\n",
              "      border: none;\n",
              "      border-radius: 50%;\n",
              "      cursor: pointer;\n",
              "      display: none;\n",
              "      fill: #1967D2;\n",
              "      height: 32px;\n",
              "      padding: 0 0 0 0;\n",
              "      width: 32px;\n",
              "    }\n",
              "\n",
              "    .colab-df-convert:hover {\n",
              "      background-color: #E2EBFA;\n",
              "      box-shadow: 0px 1px 2px rgba(60, 64, 67, 0.3), 0px 1px 3px 1px rgba(60, 64, 67, 0.15);\n",
              "      fill: #174EA6;\n",
              "    }\n",
              "\n",
              "    [theme=dark] .colab-df-convert {\n",
              "      background-color: #3B4455;\n",
              "      fill: #D2E3FC;\n",
              "    }\n",
              "\n",
              "    [theme=dark] .colab-df-convert:hover {\n",
              "      background-color: #434B5C;\n",
              "      box-shadow: 0px 1px 3px 1px rgba(0, 0, 0, 0.15);\n",
              "      filter: drop-shadow(0px 1px 2px rgba(0, 0, 0, 0.3));\n",
              "      fill: #FFFFFF;\n",
              "    }\n",
              "  </style>\n",
              "\n",
              "      <script>\n",
              "        const buttonEl =\n",
              "          document.querySelector('#df-80370ede-4a0e-455f-968d-557aa591eb4b button.colab-df-convert');\n",
              "        buttonEl.style.display =\n",
              "          google.colab.kernel.accessAllowed ? 'block' : 'none';\n",
              "\n",
              "        async function convertToInteractive(key) {\n",
              "          const element = document.querySelector('#df-80370ede-4a0e-455f-968d-557aa591eb4b');\n",
              "          const dataTable =\n",
              "            await google.colab.kernel.invokeFunction('convertToInteractive',\n",
              "                                                     [key], {});\n",
              "          if (!dataTable) return;\n",
              "\n",
              "          const docLinkHtml = 'Like what you see? Visit the ' +\n",
              "            '<a target=\"_blank\" href=https://colab.research.google.com/notebooks/data_table.ipynb>data table notebook</a>'\n",
              "            + ' to learn more about interactive tables.';\n",
              "          element.innerHTML = '';\n",
              "          dataTable['output_type'] = 'display_data';\n",
              "          await google.colab.output.renderOutput(dataTable, element);\n",
              "          const docLink = document.createElement('div');\n",
              "          docLink.innerHTML = docLinkHtml;\n",
              "          element.appendChild(docLink);\n",
              "        }\n",
              "      </script>\n",
              "    </div>\n",
              "  </div>\n",
              "  "
            ]
          },
          "metadata": {},
          "execution_count": 23
        }
      ]
    },
    {
      "cell_type": "code",
      "metadata": {
        "id": "zL8nYIBE8KRw"
      },
      "source": [],
      "execution_count": null,
      "outputs": []
    }
  ]
}